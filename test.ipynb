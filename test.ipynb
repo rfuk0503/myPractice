{
  "nbformat": 4,
  "nbformat_minor": 0,
  "metadata": {
    "colab": {
      "name": "test.ipynb",
      "version": "0.3.2",
      "provenance": [],
      "collapsed_sections": [],
      "include_colab_link": true
    },
    "kernelspec": {
      "name": "python3",
      "display_name": "Python 3"
    },
    "accelerator": "GPU"
  },
  "cells": [
    {
      "cell_type": "markdown",
      "metadata": {
        "id": "view-in-github",
        "colab_type": "text"
      },
      "source": [
        "[View in Colaboratory](https://colab.research.google.com/github/rfuk0503/myPractice/blob/master/test.ipynb)"
      ]
    },
    {
      "metadata": {
        "id": "Hx-kkReYJ4IK",
        "colab_type": "code",
        "colab": {
          "base_uri": "https://localhost:8080/",
          "height": 34
        },
        "outputId": "7abdd682-af37-41e3-9312-4ae9dfa7b358"
      },
      "cell_type": "code",
      "source": [
        "print(\"Hello World!\")"
      ],
      "execution_count": 1,
      "outputs": [
        {
          "output_type": "stream",
          "text": [
            "Hello World!\n"
          ],
          "name": "stdout"
        }
      ]
    },
    {
      "metadata": {
        "id": "qRcj76weKK2g",
        "colab_type": "code",
        "colab": {
          "base_uri": "https://localhost:8080/",
          "height": 34
        },
        "outputId": "8357cc22-33d4-46c8-d5a7-0b8b3e64f1f7"
      },
      "cell_type": "code",
      "source": [
        "import keras"
      ],
      "execution_count": 2,
      "outputs": [
        {
          "output_type": "stream",
          "text": [
            "Using TensorFlow backend.\n"
          ],
          "name": "stderr"
        }
      ]
    },
    {
      "metadata": {
        "id": "DnkrvjUCKQdz",
        "colab_type": "code",
        "colab": {}
      },
      "cell_type": "code",
      "source": [
        "import tensorflow"
      ],
      "execution_count": 0,
      "outputs": []
    },
    {
      "metadata": {
        "id": "4jvMpjZfKyUB",
        "colab_type": "code",
        "colab": {
          "base_uri": "https://localhost:8080/",
          "height": 34
        },
        "outputId": "1053e6c4-07bf-47f4-cad5-69200740235a"
      },
      "cell_type": "code",
      "source": [
        "print(tensorflow.test.is_built_with_cuda())"
      ],
      "execution_count": 5,
      "outputs": [
        {
          "output_type": "stream",
          "text": [
            "False\n"
          ],
          "name": "stdout"
        }
      ]
    },
    {
      "metadata": {
        "id": "mv_9eGkfK2fD",
        "colab_type": "code",
        "colab": {
          "base_uri": "https://localhost:8080/",
          "height": 34
        },
        "outputId": "4258389b-745d-45fa-a7ba-1df1f25101a4"
      },
      "cell_type": "code",
      "source": [
        "print(tensorflow.test.is_built_with_cuda())"
      ],
      "execution_count": 6,
      "outputs": [
        {
          "output_type": "stream",
          "text": [
            "False\n"
          ],
          "name": "stdout"
        }
      ]
    },
    {
      "metadata": {
        "id": "8_srsBdZK5TZ",
        "colab_type": "code",
        "colab": {
          "base_uri": "https://localhost:8080/",
          "height": 287
        },
        "outputId": "d5e39587-f8a3-446d-8f24-fb3ec33d2ffd"
      },
      "cell_type": "code",
      "source": [
        "import torch"
      ],
      "execution_count": 7,
      "outputs": [
        {
          "output_type": "error",
          "ename": "ModuleNotFoundError",
          "evalue": "ignored",
          "traceback": [
            "\u001b[0;31m---------------------------------------------------------------------------\u001b[0m",
            "\u001b[0;31mModuleNotFoundError\u001b[0m                       Traceback (most recent call last)",
            "\u001b[0;32m<ipython-input-7-eb42ca6e4af3>\u001b[0m in \u001b[0;36m<module>\u001b[0;34m()\u001b[0m\n\u001b[0;32m----> 1\u001b[0;31m \u001b[0;32mimport\u001b[0m \u001b[0mtorch\u001b[0m\u001b[0;34m\u001b[0m\u001b[0m\n\u001b[0m",
            "\u001b[0;31mModuleNotFoundError\u001b[0m: No module named 'torch'",
            "",
            "\u001b[0;31m---------------------------------------------------------------------------\u001b[0;32m\nNOTE: If your import is failing due to a missing package, you can\nmanually install dependencies using either !pip or !apt.\n\nTo install torch, click the button below.\n\u001b[0;31m---------------------------------------------------------------------------\u001b[0m\n"
          ]
        }
      ]
    },
    {
      "metadata": {
        "id": "2QsVYPvqLKox",
        "colab_type": "code",
        "colab": {
          "base_uri": "https://localhost:8080/",
          "height": 34
        },
        "outputId": "a8bbf6ac-65ec-4d2e-c445-853d4d8e0fcf"
      },
      "cell_type": "code",
      "source": [
        "!ls"
      ],
      "execution_count": 8,
      "outputs": [
        {
          "output_type": "stream",
          "text": [
            "sample_data\n"
          ],
          "name": "stdout"
        }
      ]
    },
    {
      "metadata": {
        "id": "oxYfTV0zLOsh",
        "colab_type": "code",
        "colab": {
          "base_uri": "https://localhost:8080/",
          "height": 51
        },
        "outputId": "e2f706e9-ddcc-4ad5-a6e5-f841d1166a5f"
      },
      "cell_type": "code",
      "source": [
        "!ls -l"
      ],
      "execution_count": 9,
      "outputs": [
        {
          "output_type": "stream",
          "text": [
            "total 4\n",
            "drwxr-xr-x 2 root root 4096 Sep 28 23:32 sample_data\n"
          ],
          "name": "stdout"
        }
      ]
    },
    {
      "metadata": {
        "id": "p7Pp8KOJLQuq",
        "colab_type": "code",
        "colab": {
          "base_uri": "https://localhost:8080/",
          "height": 34
        },
        "outputId": "88ade25a-ea86-498b-89a0-eb837fa90586"
      },
      "cell_type": "code",
      "source": [
        "!pwd"
      ],
      "execution_count": 10,
      "outputs": [
        {
          "output_type": "stream",
          "text": [
            "/content\n"
          ],
          "name": "stdout"
        }
      ]
    },
    {
      "metadata": {
        "id": "_lgEmI4iLUVj",
        "colab_type": "code",
        "colab": {
          "base_uri": "https://localhost:8080/",
          "height": 34
        },
        "outputId": "c6c0d12a-73f7-4a2c-efa4-020869c55de2"
      },
      "cell_type": "code",
      "source": [
        "!hostname"
      ],
      "execution_count": 11,
      "outputs": [
        {
          "output_type": "stream",
          "text": [
            "051dce5eca9c\n"
          ],
          "name": "stdout"
        }
      ]
    },
    {
      "metadata": {
        "id": "rvVv5vrGLWdF",
        "colab_type": "code",
        "colab": {
          "base_uri": "https://localhost:8080/",
          "height": 34
        },
        "outputId": "e997456b-b2de-4d97-9d4c-2768e9151068"
      },
      "cell_type": "code",
      "source": [
        "!uname -a"
      ],
      "execution_count": 12,
      "outputs": [
        {
          "output_type": "stream",
          "text": [
            "Linux 051dce5eca9c 4.14.33+ #1 SMP Sat Aug 11 08:05:16 PDT 2018 x86_64 x86_64 x86_64 GNU/Linux\n"
          ],
          "name": "stdout"
        }
      ]
    },
    {
      "metadata": {
        "id": "2T6jI5u9Le9a",
        "colab_type": "code",
        "colab": {
          "base_uri": "https://localhost:8080/",
          "height": 153
        },
        "outputId": "879f2653-05cb-41fa-c76c-4b532de927e0"
      },
      "cell_type": "code",
      "source": [
        "!ps aux"
      ],
      "execution_count": 13,
      "outputs": [
        {
          "output_type": "stream",
          "text": [
            "USER       PID %CPU %MEM    VSZ   RSS TTY      STAT START   TIME COMMAND\n",
            "root         1  0.0  0.0  39008  6352 ?        Ss   06:54   0:00 /bin/bash -e /d\n",
            "root         9  0.1  0.3 677324 50500 ?        Sl   06:54   0:00 node /tools/nod\n",
            "root        31  0.1  0.3 678132 44364 ?        Sl   06:54   0:00 /tools/node/bin\n",
            "root        55  0.3  0.4 185228 57536 ?        Sl   06:54   0:01 /usr/bin/python\n",
            "root        62  0.9  1.6 918032 225036 ?       Ssl  06:55   0:03 /usr/bin/python\n",
            "root        84  0.0  0.1  54024 14760 ?        S    06:55   0:00 /usr/bin/python\n",
            "root        98  0.0  0.0  63304  6656 ?        R    07:01   0:00 ps aux\n"
          ],
          "name": "stdout"
        }
      ]
    },
    {
      "metadata": {
        "id": "AH7CY9U1Liwp",
        "colab_type": "code",
        "colab": {
          "base_uri": "https://localhost:8080/",
          "height": 68
        },
        "outputId": "e55a80ea-2252-44ac-c2ab-2747eb8bc21e"
      },
      "cell_type": "code",
      "source": [
        "!awk '{BEGIN{print \"Hello AWK\"}}'"
      ],
      "execution_count": 15,
      "outputs": [
        {
          "output_type": "stream",
          "text": [
            "awk: line 1: missing } near BEGIN\n",
            "awk: line 1: extra '}'\n",
            "awk: line 1: syntax error at or near end of line\n"
          ],
          "name": "stdout"
        }
      ]
    },
    {
      "metadata": {
        "id": "9ZLC6e6CLxAq",
        "colab_type": "code",
        "colab": {
          "base_uri": "https://localhost:8080/",
          "height": 51
        },
        "outputId": "0b97a829-c138-4cd6-cfcc-c04ac41be5bd"
      },
      "cell_type": "code",
      "source": [
        "!ls -l | awk '{ print $2}'"
      ],
      "execution_count": 16,
      "outputs": [
        {
          "output_type": "stream",
          "text": [
            "4\n",
            "2\n"
          ],
          "name": "stdout"
        }
      ]
    },
    {
      "metadata": {
        "id": "HXEvKNLfMIxB",
        "colab_type": "code",
        "colab": {
          "base_uri": "https://localhost:8080/",
          "height": 51
        },
        "outputId": "098e2964-14d4-4293-d325-058e2940e96a"
      },
      "cell_type": "code",
      "source": [
        "!ls -l"
      ],
      "execution_count": 17,
      "outputs": [
        {
          "output_type": "stream",
          "text": [
            "total 4\n",
            "drwxr-xr-x 2 root root 4096 Sep 28 23:32 sample_data\n"
          ],
          "name": "stdout"
        }
      ]
    },
    {
      "metadata": {
        "id": "R6EFczCYMLOR",
        "colab_type": "code",
        "colab": {
          "base_uri": "https://localhost:8080/",
          "height": 3604
        },
        "outputId": "d7a5c99b-b701-4221-8e74-ab74465b0242"
      },
      "cell_type": "code",
      "source": [
        "!top"
      ],
      "execution_count": 18,
      "outputs": [
        {
          "output_type": "stream",
          "text": [
            "\u001b[?1h\u001b=\u001b[H\u001b[2J\u001b[mtop - 07:05:04 up 11 min,  0 users,  load average: 0.01, 0.04, 0.04\u001b[m\u001b[m\u001b[m\u001b[m\u001b[K\n",
            "Tasks:\u001b[m\u001b[m\u001b[1m   7 \u001b[m\u001b[mtotal,\u001b[m\u001b[m\u001b[1m   1 \u001b[m\u001b[mrunning,\u001b[m\u001b[m\u001b[1m   6 \u001b[m\u001b[msleeping,\u001b[m\u001b[m\u001b[1m   0 \u001b[m\u001b[mstopped,\u001b[m\u001b[m\u001b[1m   0 \u001b[m\u001b[mzombie\u001b[m\u001b[m\u001b[m\u001b[m\u001b[K\n",
            "%Cpu(s):\u001b[m\u001b[m\u001b[1m  1.4 \u001b[m\u001b[mus,\u001b[m\u001b[m\u001b[1m  1.2 \u001b[m\u001b[msy,\u001b[m\u001b[m\u001b[1m  0.0 \u001b[m\u001b[mni,\u001b[m\u001b[m\u001b[1m 94.0 \u001b[m\u001b[mid,\u001b[m\u001b[m\u001b[1m  3.4 \u001b[m\u001b[mwa,\u001b[m\u001b[m\u001b[1m  0.0 \u001b[m\u001b[mhi,\u001b[m\u001b[m\u001b[1m  0.0 \u001b[m\u001b[msi,\u001b[m\u001b[m\u001b[1m  0.0 \u001b[m\u001b[mst\u001b[m\u001b[m\u001b[m\u001b[m\u001b[K\n",
            "KiB Mem :\u001b[m\u001b[m\u001b[1m 13335236 \u001b[m\u001b[mtotal,\u001b[m\u001b[m\u001b[1m 10328344 \u001b[m\u001b[mfree,\u001b[m\u001b[m\u001b[1m   412904 \u001b[m\u001b[mused,\u001b[m\u001b[m\u001b[1m  2593988 \u001b[m\u001b[mbuff/cache\u001b[m\u001b[m\u001b[m\u001b[m\u001b[K\n",
            "KiB Swap:\u001b[m\u001b[m\u001b[1m        0 \u001b[m\u001b[mtotal,\u001b[m\u001b[m\u001b[1m        0 \u001b[m\u001b[mfree,\u001b[m\u001b[m\u001b[1m        0 \u001b[m\u001b[mused.\u001b[m\u001b[m\u001b[1m 12664108 \u001b[m\u001b[mavail Mem \u001b[m\u001b[m\u001b[m\u001b[m\u001b[K\n",
            "\u001b[K\n",
            "\u001b[7m  PID USER      PR  NI    VIRT    RES    SHR S  %CPU %MEM     TIME+ COMMAND     \u001b[m\u001b[m\u001b[K\n",
            "\u001b[m    1 root      20   0   39008   6352   5092 S   0.0  0.0   0:00.09 run.sh      \u001b[m\u001b[m\u001b[K\n",
            "\u001b[m    9 root      20   0  677324  50504  25428 S   0.0  0.4   0:00.86 node        \u001b[m\u001b[m\u001b[K\n",
            "\u001b[m   31 root      20   0  679668  46056  25932 S   0.0  0.3   0:00.93 node        \u001b[m\u001b[m\u001b[K\n",
            "\u001b[m   55 root      20   0  186260  57608  12216 S   0.0  0.4   0:01.44 jupyter-no+ \u001b[m\u001b[m\u001b[K\n",
            "\u001b[m   62 root      20   0  918032 225088  79496 S   0.0  1.7   0:03.80 python3     \u001b[m\u001b[m\u001b[K\n",
            "\u001b[m   84 root      20   0   54024  14760   7636 S   0.0  0.1   0:00.08 python3     \u001b[m\u001b[m\u001b[K\n",
            "\u001b[m\u001b[1m  108 root      20   0   65356   7036   5280 R   0.0  0.1   0:00.01 top         \u001b[m\u001b[m\u001b[K\n",
            "\u001b[J\u001b[H\u001b[mtop - 07:05:07 up 11 min,  0 users,  load average: 0.00, 0.04, 0.04\u001b[m\u001b[m\u001b[m\u001b[m\u001b[K\n",
            "Tasks:\u001b[m\u001b[m\u001b[1m   7 \u001b[m\u001b[mtotal,\u001b[m\u001b[m\u001b[1m   1 \u001b[m\u001b[mrunning,\u001b[m\u001b[m\u001b[1m   6 \u001b[m\u001b[msleeping,\u001b[m\u001b[m\u001b[1m   0 \u001b[m\u001b[mstopped,\u001b[m\u001b[m\u001b[1m   0 \u001b[m\u001b[mzombie\u001b[m\u001b[m\u001b[m\u001b[m\u001b[K\n",
            "%Cpu(s):\u001b[m\u001b[m\u001b[1m  0.8 \u001b[m\u001b[mus,\u001b[m\u001b[m\u001b[1m  0.2 \u001b[m\u001b[msy,\u001b[m\u001b[m\u001b[1m  0.0 \u001b[m\u001b[mni,\u001b[m\u001b[m\u001b[1m 98.8 \u001b[m\u001b[mid,\u001b[m\u001b[m\u001b[1m  0.0 \u001b[m\u001b[mwa,\u001b[m\u001b[m\u001b[1m  0.0 \u001b[m\u001b[mhi,\u001b[m\u001b[m\u001b[1m  0.2 \u001b[m\u001b[msi,\u001b[m\u001b[m\u001b[1m  0.0 \u001b[m\u001b[mst\u001b[m\u001b[m\u001b[m\u001b[m\u001b[K\n",
            "KiB Mem :\u001b[m\u001b[m\u001b[1m 13335236 \u001b[m\u001b[mtotal,\u001b[m\u001b[m\u001b[1m 10328008 \u001b[m\u001b[mfree,\u001b[m\u001b[m\u001b[1m   413224 \u001b[m\u001b[mused,\u001b[m\u001b[m\u001b[1m  2594004 \u001b[m\u001b[mbuff/cache\u001b[m\u001b[m\u001b[m\u001b[m\u001b[K\n",
            "KiB Swap:\u001b[m\u001b[m\u001b[1m        0 \u001b[m\u001b[mtotal,\u001b[m\u001b[m\u001b[1m        0 \u001b[m\u001b[mfree,\u001b[m\u001b[m\u001b[1m        0 \u001b[m\u001b[mused.\u001b[m\u001b[m\u001b[1m 12663788 \u001b[m\u001b[mavail Mem \u001b[m\u001b[m\u001b[m\u001b[m\u001b[K\n",
            "\u001b[K\n",
            "\n",
            "\u001b[m   62 root      20   0  918032 225088  79496 S   1.0  1.7   0:03.83 python3     \u001b[m\u001b[m\u001b[K\n",
            "\u001b[m   31 root      20   0  679668  46320  25932 S   0.3  0.3   0:00.94 node        \u001b[m\u001b[m\u001b[K\n",
            "\u001b[m   55 root      20   0  186260  57608  12216 S   0.3  0.4   0:01.45 jupyter-no+ \u001b[m\u001b[m\u001b[K\n",
            "\u001b[m    1 root      20   0   39008   6352   5092 S   0.0  0.0   0:00.09 run.sh      \u001b[m\u001b[m\u001b[K\n",
            "\u001b[m    9 root      20   0  677324  50504  25428 S   0.0  0.4   0:00.86 node        \u001b[m\u001b[m\u001b[K\n",
            "\n",
            "\n",
            "\u001b[J\u001b[H\u001b[mtop - 07:05:10 up 11 min,  0 users,  load average: 0.00, 0.04, 0.04\u001b[m\u001b[m\u001b[m\u001b[m\u001b[K\n",
            "\n",
            "%Cpu(s):\u001b[m\u001b[m\u001b[1m  0.8 \u001b[m\u001b[mus,\u001b[m\u001b[m\u001b[1m  0.2 \u001b[m\u001b[msy,\u001b[m\u001b[m\u001b[1m  0.0 \u001b[m\u001b[mni,\u001b[m\u001b[m\u001b[1m 99.0 \u001b[m\u001b[mid,\u001b[m\u001b[m\u001b[1m  0.0 \u001b[m\u001b[mwa,\u001b[m\u001b[m\u001b[1m  0.0 \u001b[m\u001b[mhi,\u001b[m\u001b[m\u001b[1m  0.0 \u001b[m\u001b[msi,\u001b[m\u001b[m\u001b[1m  0.0 \u001b[m\u001b[mst\u001b[m\u001b[m\u001b[m\u001b[m\u001b[K\n",
            "KiB Mem :\u001b[m\u001b[m\u001b[1m 13335236 \u001b[m\u001b[mtotal,\u001b[m\u001b[m\u001b[1m 10328020 \u001b[m\u001b[mfree,\u001b[m\u001b[m\u001b[1m   413152 \u001b[m\u001b[mused,\u001b[m\u001b[m\u001b[1m  2594064 \u001b[m\u001b[mbuff/cache\u001b[m\u001b[m\u001b[m\u001b[m\u001b[K\n",
            "KiB Swap:\u001b[m\u001b[m\u001b[1m        0 \u001b[m\u001b[mtotal,\u001b[m\u001b[m\u001b[1m        0 \u001b[m\u001b[mfree,\u001b[m\u001b[m\u001b[1m        0 \u001b[m\u001b[mused.\u001b[m\u001b[m\u001b[1m 12663852 \u001b[m\u001b[mavail Mem \u001b[m\u001b[m\u001b[m\u001b[m\u001b[K\n",
            "\u001b[K\n",
            "\n",
            "\u001b[m   62 root      20   0  918032 225100  79496 S   0.7  1.7   0:03.85 python3     \u001b[m\u001b[m\u001b[K\n",
            "\u001b[m   31 root      20   0  679668  46320  25932 S   0.3  0.3   0:00.95 node        \u001b[m\u001b[m\u001b[K\n",
            "\u001b[m   55 root      20   0  186260  57608  12216 S   0.3  0.4   0:01.46 jupyter-no+ \u001b[m\u001b[m\u001b[K\n",
            "\n",
            "\n",
            "\n",
            "\n",
            "\u001b[J\u001b[H\u001b[mtop - 07:05:13 up 11 min,  0 users,  load average: 0.00, 0.04, 0.04\u001b[m\u001b[m\u001b[m\u001b[m\u001b[K\n",
            "\n",
            "%Cpu(s):\u001b[m\u001b[m\u001b[1m  1.0 \u001b[m\u001b[mus,\u001b[m\u001b[m\u001b[1m  0.3 \u001b[m\u001b[msy,\u001b[m\u001b[m\u001b[1m  0.0 \u001b[m\u001b[mni,\u001b[m\u001b[m\u001b[1m 98.7 \u001b[m\u001b[mid,\u001b[m\u001b[m\u001b[1m  0.0 \u001b[m\u001b[mwa,\u001b[m\u001b[m\u001b[1m  0.0 \u001b[m\u001b[mhi,\u001b[m\u001b[m\u001b[1m  0.0 \u001b[m\u001b[msi,\u001b[m\u001b[m\u001b[1m  0.0 \u001b[m\u001b[mst\u001b[m\u001b[m\u001b[m\u001b[m\u001b[K\n",
            "KiB Mem :\u001b[m\u001b[m\u001b[1m 13335236 \u001b[m\u001b[mtotal,\u001b[m\u001b[m\u001b[1m 10328592 \u001b[m\u001b[mfree,\u001b[m\u001b[m\u001b[1m   412572 \u001b[m\u001b[mused,\u001b[m\u001b[m\u001b[1m  2594072 \u001b[m\u001b[mbuff/cache\u001b[m\u001b[m\u001b[m\u001b[m\u001b[K\n",
            "KiB Swap:\u001b[m\u001b[m\u001b[1m        0 \u001b[m\u001b[mtotal,\u001b[m\u001b[m\u001b[1m        0 \u001b[m\u001b[mfree,\u001b[m\u001b[m\u001b[1m        0 \u001b[m\u001b[mused.\u001b[m\u001b[m\u001b[1m 12664904 \u001b[m\u001b[mavail Mem \u001b[m\u001b[m\u001b[m\u001b[m\u001b[K\n",
            "\u001b[K\n",
            "\n",
            "\u001b[m   31 root      20   0  680692  46072  25932 S   0.7  0.3   0:00.97 node        \u001b[m\u001b[m\u001b[K\n",
            "\u001b[m   55 root      20   0  186260  57612  12216 S   0.3  0.4   0:01.47 jupyter-no+ \u001b[m\u001b[m\u001b[K\n",
            "\u001b[m   62 root      20   0  918032 225100  79496 S   0.3  1.7   0:03.86 python3     \u001b[m\u001b[m\u001b[K\n",
            "\n",
            "\n",
            "\n",
            "\n",
            "\u001b[J\u001b[H\u001b[mtop - 07:05:16 up 11 min,  0 users,  load average: 0.00, 0.04, 0.04\u001b[m\u001b[m\u001b[m\u001b[m\u001b[K\n",
            "\n",
            "%Cpu(s):\u001b[m\u001b[m\u001b[1m  0.5 \u001b[m\u001b[mus,\u001b[m\u001b[m\u001b[1m  0.2 \u001b[m\u001b[msy,\u001b[m\u001b[m\u001b[1m  0.0 \u001b[m\u001b[mni,\u001b[m\u001b[m\u001b[1m 99.3 \u001b[m\u001b[mid,\u001b[m\u001b[m\u001b[1m  0.0 \u001b[m\u001b[mwa,\u001b[m\u001b[m\u001b[1m  0.0 \u001b[m\u001b[mhi,\u001b[m\u001b[m\u001b[1m  0.0 \u001b[m\u001b[msi,\u001b[m\u001b[m\u001b[1m  0.0 \u001b[m\u001b[mst\u001b[m\u001b[m\u001b[m\u001b[m\u001b[K\n",
            "KiB Mem :\u001b[m\u001b[m\u001b[1m 13335236 \u001b[m\u001b[mtotal,\u001b[m\u001b[m\u001b[1m 10328624 \u001b[m\u001b[mfree,\u001b[m\u001b[m\u001b[1m   412536 \u001b[m\u001b[mused,\u001b[m\u001b[m\u001b[1m  2594076 \u001b[m\u001b[mbuff/cache\u001b[m\u001b[m\u001b[m\u001b[m\u001b[K\n",
            "KiB Swap:\u001b[m\u001b[m\u001b[1m        0 \u001b[m\u001b[mtotal,\u001b[m\u001b[m\u001b[1m        0 \u001b[m\u001b[mfree,\u001b[m\u001b[m\u001b[1m        0 \u001b[m\u001b[mused.\u001b[m\u001b[m\u001b[1m 12664976 \u001b[m\u001b[mavail Mem \u001b[m\u001b[m\u001b[m\u001b[m\u001b[K\n",
            "\u001b[K\n",
            "\n",
            "\u001b[m   62 root      20   0  918032 225100  79496 S   1.0  1.7   0:03.89 python3     \u001b[m\u001b[m\u001b[K\n",
            "\u001b[m   55 root      20   0  186260  57612  12216 S   0.3  0.4   0:01.48 jupyter-no+ \u001b[m\u001b[m\u001b[K\n",
            "\u001b[m    1 root      20   0   39008   6352   5092 S   0.0  0.0   0:00.09 run.sh      \u001b[m\u001b[m\u001b[K\n",
            "\u001b[m    9 root      20   0  677324  50504  25428 S   0.0  0.4   0:00.86 node        \u001b[m\u001b[m\u001b[K\n",
            "\u001b[m   31 root      20   0  680692  46072  25932 S   0.0  0.3   0:00.97 node        \u001b[m\u001b[m\u001b[K\n",
            "\n",
            "\n",
            "\u001b[J\u001b[H\u001b[mtop - 07:05:19 up 11 min,  0 users,  load average: 0.00, 0.04, 0.04\u001b[m\u001b[m\u001b[m\u001b[m\u001b[K\n",
            "\n",
            "%Cpu(s):\u001b[m\u001b[m\u001b[1m  0.7 \u001b[m\u001b[mus,\u001b[m\u001b[m\u001b[1m  0.2 \u001b[m\u001b[msy,\u001b[m\u001b[m\u001b[1m  0.0 \u001b[m\u001b[mni,\u001b[m\u001b[m\u001b[1m 99.2 \u001b[m\u001b[mid,\u001b[m\u001b[m\u001b[1m  0.0 \u001b[m\u001b[mwa,\u001b[m\u001b[m\u001b[1m  0.0 \u001b[m\u001b[mhi,\u001b[m\u001b[m\u001b[1m  0.0 \u001b[m\u001b[msi,\u001b[m\u001b[m\u001b[1m  0.0 \u001b[m\u001b[mst\u001b[m\u001b[m\u001b[m\u001b[m\u001b[K\n",
            "KiB Mem :\u001b[m\u001b[m\u001b[1m 13335236 \u001b[m\u001b[mtotal,\u001b[m\u001b[m\u001b[1m 10328784 \u001b[m\u001b[mfree,\u001b[m\u001b[m\u001b[1m   412372 \u001b[m\u001b[mused,\u001b[m\u001b[m\u001b[1m  2594080 \u001b[m\u001b[mbuff/cache\u001b[m\u001b[m\u001b[m\u001b[m\u001b[K\n",
            "KiB Swap:\u001b[m\u001b[m\u001b[1m        0 \u001b[m\u001b[mtotal,\u001b[m\u001b[m\u001b[1m        0 \u001b[m\u001b[mfree,\u001b[m\u001b[m\u001b[1m        0 \u001b[m\u001b[mused.\u001b[m\u001b[m\u001b[1m 12665140 \u001b[m\u001b[mavail Mem \u001b[m\u001b[m\u001b[m\u001b[m\u001b[K\n",
            "\u001b[K\n",
            "\n",
            "\u001b[m   62 root      20   0  918032 225100  79496 S   0.7  1.7   0:03.91 python3     \u001b[m\u001b[m\u001b[K\n",
            "\u001b[m    1 root      20   0   39008   6352   5092 S   0.0  0.0   0:00.09 run.sh      \u001b[m\u001b[m\u001b[K\n",
            "\u001b[m    9 root      20   0  677324  50504  25428 S   0.0  0.4   0:00.86 node        \u001b[m\u001b[m\u001b[K\n",
            "\u001b[m   31 root      20   0  680692  46308  25932 S   0.0  0.3   0:00.97 node        \u001b[m\u001b[m\u001b[K\n",
            "\u001b[m   55 root      20   0  186260  57612  12216 S   0.0  0.4   0:01.48 jupyter-no+ \u001b[m\u001b[m\u001b[K\n",
            "\n",
            "\n",
            "\u001b[J\u001b[H\u001b[mtop - 07:05:22 up 11 min,  0 users,  load average: 0.00, 0.04, 0.04\u001b[m\u001b[m\u001b[m\u001b[m\u001b[K\n",
            "\n",
            "%Cpu(s):\u001b[m\u001b[m\u001b[1m  0.5 \u001b[m\u001b[mus,\u001b[m\u001b[m\u001b[1m  0.2 \u001b[m\u001b[msy,\u001b[m\u001b[m\u001b[1m  0.0 \u001b[m\u001b[mni,\u001b[m\u001b[m\u001b[1m 99.3 \u001b[m\u001b[mid,\u001b[m\u001b[m\u001b[1m  0.0 \u001b[m\u001b[mwa,\u001b[m\u001b[m\u001b[1m  0.0 \u001b[m\u001b[mhi,\u001b[m\u001b[m\u001b[1m  0.0 \u001b[m\u001b[msi,\u001b[m\u001b[m\u001b[1m  0.0 \u001b[m\u001b[mst\u001b[m\u001b[m\u001b[m\u001b[m\u001b[K\n",
            "KiB Mem :\u001b[m\u001b[m\u001b[1m 13335236 \u001b[m\u001b[mtotal,\u001b[m\u001b[m\u001b[1m 10328692 \u001b[m\u001b[mfree,\u001b[m\u001b[m\u001b[1m   412456 \u001b[m\u001b[mused,\u001b[m\u001b[m\u001b[1m  2594088 \u001b[m\u001b[mbuff/cache\u001b[m\u001b[m\u001b[m\u001b[m\u001b[K\n",
            "KiB Swap:\u001b[m\u001b[m\u001b[1m        0 \u001b[m\u001b[mtotal,\u001b[m\u001b[m\u001b[1m        0 \u001b[m\u001b[mfree,\u001b[m\u001b[m\u001b[1m        0 \u001b[m\u001b[mused.\u001b[m\u001b[m\u001b[1m 12665056 \u001b[m\u001b[mavail Mem \u001b[m\u001b[m\u001b[m\u001b[m\u001b[K\n",
            "\u001b[K\n",
            "\n",
            "\u001b[m   62 root      20   0  918032 225100  79496 S   0.7  1.7   0:03.93 python3     \u001b[m\u001b[m\u001b[K\n",
            "\n",
            "\n",
            "\n",
            "\n",
            "\n",
            "\n",
            "\u001b[J\u001b[H\u001b[mtop - 07:05:25 up 11 min,  0 users,  load average: 0.00, 0.04, 0.04\u001b[m\u001b[m\u001b[m\u001b[m\u001b[K\n",
            "\n",
            "\n",
            "KiB Mem :\u001b[m\u001b[m\u001b[1m 13335236 \u001b[m\u001b[mtotal,\u001b[m\u001b[m\u001b[1m 10328632 \u001b[m\u001b[mfree,\u001b[m\u001b[m\u001b[1m   412516 \u001b[m\u001b[mused,\u001b[m\u001b[m\u001b[1m  2594088 \u001b[m\u001b[mbuff/cache\u001b[m\u001b[m\u001b[m\u001b[m\u001b[K\n",
            "KiB Swap:\u001b[m\u001b[m\u001b[1m        0 \u001b[m\u001b[mtotal,\u001b[m\u001b[m\u001b[1m        0 \u001b[m\u001b[mfree,\u001b[m\u001b[m\u001b[1m        0 \u001b[m\u001b[mused.\u001b[m\u001b[m\u001b[1m 12665012 \u001b[m\u001b[mavail Mem \u001b[m\u001b[m\u001b[m\u001b[m\u001b[K\n",
            "\u001b[K\n",
            "\n",
            "\u001b[m   55 root      20   0  186260  57612  12216 S   0.3  0.4   0:01.49 jupyter-no+ \u001b[m\u001b[m\u001b[K\n",
            "\u001b[m   62 root      20   0  918032 225100  79496 S   0.3  1.7   0:03.94 python3     \u001b[m\u001b[m\u001b[K\n",
            "\u001b[m    1 root      20   0   39008   6352   5092 S   0.0  0.0   0:00.09 run.sh      \u001b[m\u001b[m\u001b[K\n",
            "\u001b[m    9 root      20   0  677324  50504  25428 S   0.0  0.4   0:00.86 node        \u001b[m\u001b[m\u001b[K\n",
            "\u001b[m   31 root      20   0  680692  46308  25932 S   0.0  0.3   0:00.97 node        \u001b[m\u001b[m\u001b[K\n",
            "\n",
            "\n",
            "\u001b[J\u001b[H\u001b[mtop - 07:05:28 up 11 min,  0 users,  load average: 0.00, 0.04, 0.04\u001b[m\u001b[m\u001b[m\u001b[m\u001b[K\n",
            "\n",
            "\n",
            "KiB Mem :\u001b[m\u001b[m\u001b[1m 13335236 \u001b[m\u001b[mtotal,\u001b[m\u001b[m\u001b[1m 10328656 \u001b[m\u001b[mfree,\u001b[m\u001b[m\u001b[1m   412488 \u001b[m\u001b[mused,\u001b[m\u001b[m\u001b[1m  2594092 \u001b[m\u001b[mbuff/cache\u001b[m\u001b[m\u001b[m\u001b[m\u001b[K\n",
            "KiB Swap:\u001b[m\u001b[m\u001b[1m        0 \u001b[m\u001b[mtotal,\u001b[m\u001b[m\u001b[1m        0 \u001b[m\u001b[mfree,\u001b[m\u001b[m\u001b[1m        0 \u001b[m\u001b[mused.\u001b[m\u001b[m\u001b[1m 12665036 \u001b[m\u001b[mavail Mem \u001b[m\u001b[m\u001b[m\u001b[m\u001b[K\n",
            "\u001b[K\n",
            "\n",
            "\u001b[m   62 root      20   0  918032 225100  79496 S   1.0  1.7   0:03.97 python3     \u001b[m\u001b[m\u001b[K\n",
            "\u001b[m    1 root      20   0   39008   6352   5092 S   0.0  0.0   0:00.09 run.sh      \u001b[m\u001b[m\u001b[K\n",
            "\u001b[m    9 root      20   0  677324  50504  25428 S   0.0  0.4   0:00.86 node        \u001b[m\u001b[m\u001b[K\n",
            "\u001b[m   31 root      20   0  680692  46308  25932 S   0.0  0.3   0:00.97 node        \u001b[m\u001b[m\u001b[K\n",
            "\u001b[m   55 root      20   0  186260  57628  12216 S   0.0  0.4   0:01.49 jupyter-no+ \u001b[m\u001b[m\u001b[K\n",
            "\n",
            "\n",
            "\u001b[J\u001b[H\u001b[mtop - 07:05:31 up 11 min,  0 users,  load average: 0.00, 0.04, 0.04\u001b[m\u001b[m\u001b[m\u001b[m\u001b[K\n",
            "\n",
            "\n",
            "KiB Mem :\u001b[m\u001b[m\u001b[1m 13335236 \u001b[m\u001b[mtotal,\u001b[m\u001b[m\u001b[1m 10328612 \u001b[m\u001b[mfree,\u001b[m\u001b[m\u001b[1m   412528 \u001b[m\u001b[mused,\u001b[m\u001b[m\u001b[1m  2594096 \u001b[m\u001b[mbuff/cache\u001b[m\u001b[m\u001b[m\u001b[m\u001b[K\n",
            "KiB Swap:\u001b[m\u001b[m\u001b[1m        0 \u001b[m\u001b[mtotal,\u001b[m\u001b[m\u001b[1m        0 \u001b[m\u001b[mfree,\u001b[m\u001b[m\u001b[1m        0 \u001b[m\u001b[mused.\u001b[m\u001b[m\u001b[1m 12665004 \u001b[m\u001b[mavail Mem \u001b[m\u001b[m\u001b[m\u001b[m\u001b[K\n",
            "\u001b[K\n",
            "\n",
            "\u001b[m   62 root      20   0  918032 225100  79496 S   0.7  1.7   0:03.99 python3     \u001b[m\u001b[m\u001b[K\n",
            "\u001b[m   31 root      20   0  680692  46568  25932 S   0.3  0.3   0:00.98 node        \u001b[m\u001b[m\u001b[K\n",
            "\u001b[m    1 root      20   0   39008   6352   5092 S   0.0  0.0   0:00.09 run.sh      \u001b[m\u001b[m\u001b[K\n",
            "\u001b[m    9 root      20   0  677324  50504  25428 S   0.0  0.4   0:00.86 node        \u001b[m\u001b[m\u001b[K\n",
            "\n",
            "\n",
            "\n",
            "\u001b[J\u001b[H\u001b[mtop - 07:05:34 up 11 min,  0 users,  load average: 0.00, 0.04, 0.04\u001b[m\u001b[m\u001b[m\u001b[m\u001b[K\n",
            "\n",
            "%Cpu(s):\u001b[m\u001b[m\u001b[1m  0.7 \u001b[m\u001b[mus,\u001b[m\u001b[m\u001b[1m  0.3 \u001b[m\u001b[msy,\u001b[m\u001b[m\u001b[1m  0.0 \u001b[m\u001b[mni,\u001b[m\u001b[m\u001b[1m 99.0 \u001b[m\u001b[mid,\u001b[m\u001b[m\u001b[1m  0.0 \u001b[m\u001b[mwa,\u001b[m\u001b[m\u001b[1m  0.0 \u001b[m\u001b[mhi,\u001b[m\u001b[m\u001b[1m  0.0 \u001b[m\u001b[msi,\u001b[m\u001b[m\u001b[1m  0.0 \u001b[m\u001b[mst\u001b[m\u001b[m\u001b[m\u001b[m\u001b[K\n",
            "KiB Mem :\u001b[m\u001b[m\u001b[1m 13335236 \u001b[m\u001b[mtotal,\u001b[m\u001b[m\u001b[1m 10328644 \u001b[m\u001b[mfree,\u001b[m\u001b[m\u001b[1m   412492 \u001b[m\u001b[mused,\u001b[m\u001b[m\u001b[1m  2594100 \u001b[m\u001b[mbuff/cache\u001b[m\u001b[m\u001b[m\u001b[m\u001b[K\n",
            "KiB Swap:\u001b[m\u001b[m\u001b[1m        0 \u001b[m\u001b[mtotal,\u001b[m\u001b[m\u001b[1m        0 \u001b[m\u001b[mfree,\u001b[m\u001b[m\u001b[1m        0 \u001b[m\u001b[mused.\u001b[m\u001b[m\u001b[1m 12665040 \u001b[m\u001b[mavail Mem \u001b[m\u001b[m\u001b[m\u001b[m\u001b[K\n",
            "\u001b[K\n",
            "\n",
            "\u001b[m   62 root      20   0  918032 225100  79496 S   0.7  1.7   0:04.01 python3     \u001b[m\u001b[m\u001b[K\n",
            "\u001b[m   31 root      20   0  680692  46568  25932 S   0.3  0.3   0:00.99 node        \u001b[m\u001b[m\u001b[K\n",
            "\n",
            "\n",
            "\n",
            "\n",
            "\n",
            "\u001b[J\u001b[H\u001b[mtop - 07:05:37 up 11 min,  0 users,  load average: 0.00, 0.04, 0.04\u001b[m\u001b[m\u001b[m\u001b[m\u001b[K\n",
            "\n",
            "%Cpu(s):\u001b[m\u001b[m\u001b[1m  0.5 \u001b[m\u001b[mus,\u001b[m\u001b[m\u001b[1m  0.2 \u001b[m\u001b[msy,\u001b[m\u001b[m\u001b[1m  0.0 \u001b[m\u001b[mni,\u001b[m\u001b[m\u001b[1m 99.3 \u001b[m\u001b[mid,\u001b[m\u001b[m\u001b[1m  0.0 \u001b[m\u001b[mwa,\u001b[m\u001b[m\u001b[1m  0.0 \u001b[m\u001b[mhi,\u001b[m\u001b[m\u001b[1m  0.0 \u001b[m\u001b[msi,\u001b[m\u001b[m\u001b[1m  0.0 \u001b[m\u001b[mst\u001b[m\u001b[m\u001b[m\u001b[m\u001b[K\n",
            "KiB Mem :\u001b[m\u001b[m\u001b[1m 13335236 \u001b[m\u001b[mtotal,\u001b[m\u001b[m\u001b[1m 10328428 \u001b[m\u001b[mfree,\u001b[m\u001b[m\u001b[1m   412704 \u001b[m\u001b[mused,\u001b[m\u001b[m\u001b[1m  2594104 \u001b[m\u001b[mbuff/cache\u001b[m\u001b[m\u001b[m\u001b[m\u001b[K\n",
            "KiB Swap:\u001b[m\u001b[m\u001b[1m        0 \u001b[m\u001b[mtotal,\u001b[m\u001b[m\u001b[1m        0 \u001b[m\u001b[mfree,\u001b[m\u001b[m\u001b[1m        0 \u001b[m\u001b[mused.\u001b[m\u001b[m\u001b[1m 12664836 \u001b[m\u001b[mavail Mem \u001b[m\u001b[m\u001b[m\u001b[m\u001b[K\n",
            "\u001b[K\n",
            "\n",
            "\u001b[m   31 root      20   0  680692  46568  25932 S   0.3  0.3   0:01.00 node        \u001b[m\u001b[m\u001b[K\n",
            "\u001b[m   55 root      20   0  186260  57628  12216 S   0.3  0.4   0:01.50 jupyter-no+ \u001b[m\u001b[m\u001b[K\n",
            "\u001b[m   62 root      20   0  918032 225100  79496 S   0.3  1.7   0:04.02 python3     \u001b[m\u001b[m\u001b[K\n",
            "\u001b[m\u001b[1m  108 root      20   0   65356   7036   5280 R   0.3  0.1   0:00.02 top         \u001b[m\u001b[m\u001b[K\n",
            "\u001b[m    1 root      20   0   39008   6352   5092 S   0.0  0.0   0:00.09 run.sh      \u001b[m\u001b[m\u001b[K\n",
            "\u001b[m    9 root      20   0  677324  50504  25428 S   0.0  0.4   0:00.86 node        \u001b[m\u001b[m\u001b[K\n",
            "\u001b[m   84 root      20   0   54024  14760   7636 S   0.0  0.1   0:00.08 python3     \u001b[m\u001b[m\u001b[K\n",
            "\u001b[J\u001b[H\u001b[mtop - 07:05:40 up 11 min,  0 users,  load average: 0.00, 0.04, 0.04\u001b[m\u001b[m\u001b[m\u001b[m\u001b[K\n",
            "\n",
            "%Cpu(s):\u001b[m\u001b[m\u001b[1m  0.7 \u001b[m\u001b[mus,\u001b[m\u001b[m\u001b[1m  0.2 \u001b[m\u001b[msy,\u001b[m\u001b[m\u001b[1m  0.0 \u001b[m\u001b[mni,\u001b[m\u001b[m\u001b[1m 99.0 \u001b[m\u001b[mid,\u001b[m\u001b[m\u001b[1m  0.0 \u001b[m\u001b[mwa,\u001b[m\u001b[m\u001b[1m  0.0 \u001b[m\u001b[mhi,\u001b[m\u001b[m\u001b[1m  0.2 \u001b[m\u001b[msi,\u001b[m\u001b[m\u001b[1m  0.0 \u001b[m\u001b[mst\u001b[m\u001b[m\u001b[m\u001b[m\u001b[K\n",
            "KiB Mem :\u001b[m\u001b[m\u001b[1m 13335236 \u001b[m\u001b[mtotal,\u001b[m\u001b[m\u001b[1m 10328212 \u001b[m\u001b[mfree,\u001b[m\u001b[m\u001b[1m   412916 \u001b[m\u001b[mused,\u001b[m\u001b[m\u001b[1m  2594108 \u001b[m\u001b[mbuff/cache\u001b[m\u001b[m\u001b[m\u001b[m\u001b[K\n",
            "KiB Swap:\u001b[m\u001b[m\u001b[1m        0 \u001b[m\u001b[mtotal,\u001b[m\u001b[m\u001b[1m        0 \u001b[m\u001b[mfree,\u001b[m\u001b[m\u001b[1m        0 \u001b[m\u001b[mused.\u001b[m\u001b[m\u001b[1m 12664624 \u001b[m\u001b[mavail Mem \u001b[m\u001b[m\u001b[m\u001b[m\u001b[K\n",
            "\u001b[K\n",
            "\n",
            "\u001b[m   62 root      20   0  918032 225100  79496 S   1.0  1.7   0:04.05 python3     \u001b[m\u001b[m\u001b[K\n",
            "\u001b[m    9 root      20   0  677324  50504  25428 S   0.3  0.4   0:00.87 node        \u001b[m\u001b[m\u001b[K\n",
            "\u001b[m    1 root      20   0   39008   6352   5092 S   0.0  0.0   0:00.09 run.sh      \u001b[m\u001b[m\u001b[K\n",
            "\u001b[m   31 root      20   0  680692  46568  25932 S   0.0  0.3   0:01.00 node        \u001b[m\u001b[m\u001b[K\n",
            "\u001b[m   55 root      20   0  186260  57636  12216 S   0.0  0.4   0:01.50 jupyter-no+ \u001b[m\u001b[m\u001b[K\n",
            "\u001b[m   84 root      20   0   54024  14760   7636 S   0.0  0.1   0:00.08 python3     \u001b[m\u001b[m\u001b[K\n",
            "\u001b[m\u001b[1m  108 root      20   0   65356   7036   5280 R   0.0  0.1   0:00.02 top         \u001b[m\u001b[m\u001b[K\n",
            "\u001b[J\u001b[H\u001b[mtop - 07:05:43 up 11 min,  0 users,  load average: 0.00, 0.04, 0.04\u001b[m\u001b[m\u001b[m\u001b[m\u001b[K\n",
            "\n",
            "%Cpu(s):\u001b[m\u001b[m\u001b[1m  0.5 \u001b[m\u001b[mus,\u001b[m\u001b[m\u001b[1m  0.2 \u001b[m\u001b[msy,\u001b[m\u001b[m\u001b[1m  0.0 \u001b[m\u001b[mni,\u001b[m\u001b[m\u001b[1m 99.3 \u001b[m\u001b[mid,\u001b[m\u001b[m\u001b[1m  0.0 \u001b[m\u001b[mwa,\u001b[m\u001b[m\u001b[1m  0.0 \u001b[m\u001b[mhi,\u001b[m\u001b[m\u001b[1m  0.0 \u001b[m\u001b[msi,\u001b[m\u001b[m\u001b[1m  0.0 \u001b[m\u001b[mst\u001b[m\u001b[m\u001b[m\u001b[m\u001b[K\n",
            "KiB Mem :\u001b[m\u001b[m\u001b[1m 13335236 \u001b[m\u001b[mtotal,\u001b[m\u001b[m\u001b[1m 10328084 \u001b[m\u001b[mfree,\u001b[m\u001b[m\u001b[1m   413024 \u001b[m\u001b[mused,\u001b[m\u001b[m\u001b[1m  2594128 \u001b[m\u001b[mbuff/cache\u001b[m\u001b[m\u001b[m\u001b[m\u001b[K\n",
            "KiB Swap:\u001b[m\u001b[m\u001b[1m        0 \u001b[m\u001b[mtotal,\u001b[m\u001b[m\u001b[1m        0 \u001b[m\u001b[mfree,\u001b[m\u001b[m\u001b[1m        0 \u001b[m\u001b[mused.\u001b[m\u001b[m\u001b[1m 12664524 \u001b[m\u001b[mavail Mem \u001b[m\u001b[m\u001b[m\u001b[m\u001b[K\n",
            "\u001b[K\n",
            "\n",
            "\u001b[m   62 root      20   0  918032 225100  79496 S   0.3  1.7   0:04.06 python3     \u001b[m\u001b[m\u001b[K\n",
            "\u001b[m    1 root      20   0   39008   6352   5092 S   0.0  0.0   0:00.09 run.sh      \u001b[m\u001b[m\u001b[K\n",
            "\u001b[m    9 root      20   0  677324  50504  25428 S   0.0  0.4   0:00.87 node        \u001b[m\u001b[m\u001b[K\n",
            "\u001b[m   31 root      20   0  680692  46828  25932 S   0.0  0.4   0:01.00 node        \u001b[m\u001b[m\u001b[K\n",
            "\n",
            "\n",
            "\n",
            "\u001b[J\u001b[H\u001b[mtop - 07:05:46 up 11 min,  0 users,  load average: 0.00, 0.04, 0.04\u001b[m\u001b[m\u001b[m\u001b[m\u001b[K\n",
            "\n",
            "\n",
            "KiB Mem :\u001b[m\u001b[m\u001b[1m 13335236 \u001b[m\u001b[mtotal,\u001b[m\u001b[m\u001b[1m 10328080 \u001b[m\u001b[mfree,\u001b[m\u001b[m\u001b[1m   413020 \u001b[m\u001b[mused,\u001b[m\u001b[m\u001b[1m  2594136 \u001b[m\u001b[mbuff/cache\u001b[m\u001b[m\u001b[m\u001b[m\u001b[K\n",
            "KiB Swap:\u001b[m\u001b[m\u001b[1m        0 \u001b[m\u001b[mtotal,\u001b[m\u001b[m\u001b[1m        0 \u001b[m\u001b[mfree,\u001b[m\u001b[m\u001b[1m        0 \u001b[m\u001b[mused.\u001b[m\u001b[m\u001b[1m 12664528 \u001b[m\u001b[mavail Mem \u001b[m\u001b[m\u001b[m\u001b[m\u001b[K\n",
            "\u001b[K\n",
            "\n",
            "\u001b[m   62 root      20   0  918032 225100  79496 S   0.7  1.7   0:04.08 python3     \u001b[m\u001b[m\u001b[K\n",
            "\u001b[m   55 root      20   0  186260  57636  12216 S   0.3  0.4   0:01.51 jupyter-no+ \u001b[m\u001b[m\u001b[K\n",
            "\u001b[m    1 root      20   0   39008   6352   5092 S   0.0  0.0   0:00.09 run.sh      \u001b[m\u001b[m\u001b[K\n",
            "\u001b[m    9 root      20   0  677324  50504  25428 S   0.0  0.4   0:00.87 node        \u001b[m\u001b[m\u001b[K\n",
            "\u001b[m   31 root      20   0  680692  46828  25932 S   0.0  0.4   0:01.00 node        \u001b[m\u001b[m\u001b[K\n",
            "\n",
            "\n",
            "\u001b[J\u001b[?1l\u001b>\u001b[25;1H\n",
            "\u001b[K"
          ],
          "name": "stdout"
        }
      ]
    },
    {
      "metadata": {
        "id": "_2AApYA4MZbw",
        "colab_type": "code",
        "colab": {
          "base_uri": "https://localhost:8080/",
          "height": 265
        },
        "outputId": "7de42454-d4dc-4ed7-8497-08b3ee46aba5"
      },
      "cell_type": "code",
      "source": [
        "\n",
        "import numpy as np\n",
        "import matplotlib.pyplot as plt\n",
        "x = np.arange(0,10,0.1)\n",
        "y = np.sin(x)\n",
        "plt.plot(x,y)\n",
        "plt.show()"
      ],
      "execution_count": 23,
      "outputs": [
        {
          "output_type": "display_data",
          "data": {
            "image/png": "[encoded data removed]",
            "text/plain": [
              "<matplotlib.figure.Figure at 0x7f29cd91d4e0>"
            ]
          },
          "metadata": {
            "tags": []
          }
        }
      ]
    },
    {
      "metadata": {
        "id": "9IFn9Nv2NpI6",
        "colab_type": "code",
        "colab": {
          "base_uri": "https://localhost:8080/",
          "height": 1684
        },
        "outputId": "bfa29cbc-be97-4293-966d-ee902d2e9c48"
      },
      "cell_type": "code",
      "source": [
        "# -*- coding: utf-8 -*\n",
        "#https://dev.classmethod.jp/machine-learning/introduction-keras-deeplearning/\n",
        "from keras.datasets import mnist\n",
        "from keras.models import Sequential\n",
        "from keras.layers.core import Dense, Activation, Dropout, Flatten\n",
        "from keras.utils import np_utils\n",
        "\n",
        "from keras.layers.convolutional import Conv2D\n",
        "from keras.layers.pooling import MaxPool2D\n",
        "from keras.optimizers import Adam\n",
        " \n",
        "# Kerasに含まれるMNISTデータの取得\n",
        "# 初回はダウンロードが発生するため時間がかかる\n",
        "(X_train, y_train), (X_test, y_test) = mnist.load_data()\n",
        " \n",
        "# 配列の整形と、色の範囲を0-255 -> 0-1に変換\n",
        "X_train = X_train.reshape(60000, 784) / 255\n",
        "X_test = X_test.reshape(10000, 784) / 255\n",
        " \n",
        "# 正解データを数値からダミー変数の形式に変換\n",
        "# これは例えば0, 1, 2の3値の分類の正解ラベル5件のデータが以下のような配列になってるとして\n",
        "#   [0, 1, 2, 1, 0]\n",
        "# 以下のような形式に変換する\n",
        "#   [[1, 0, 0],\n",
        "#    [0, 1, 0],\n",
        "#    [0, 0, 1],\n",
        "#    [0, 1, 0],\n",
        "#    [1, 0, 0]]\n",
        "# 列方向が0, 1, 2、行方向が各データに対応し、元のデータで正解となる部分が1、それ以外が0となるように展開してる\n",
        "y_train = np_utils.to_categorical(y_train)\n",
        "y_test = np_utils.to_categorical(y_test)\n",
        " \n",
        "# ネットワークの定義\n",
        "# 各層や活性関数に該当するレイヤを順に入れていく\n",
        "# 作成したあとにmodel.add()で追加することも可能\n",
        "model = Sequential([\n",
        "        Dense(512, input_shape=(784,)),\n",
        "        Activation('sigmoid'),\n",
        "        Dense(10),\n",
        "        Activation('softmax')\n",
        "    ])\n",
        "\n",
        "# 損失関数、 最適化アルゴリズムなどを設定しモデルのコンパイルを行う\n",
        "model.compile(loss='categorical_crossentropy', optimizer='sgd', metrics=['accuracy'])\n",
        " \n",
        "# 学習処理の実行\n",
        "model.fit(X_train, y_train, batch_size=200, verbose=1, epochs=200, validation_split=0.1)\n",
        " \n",
        "# 予測\n",
        "score = model.evaluate(X_test, y_test, verbose=1)\n",
        "print('test accuracy : ', score[1])"
      ],
      "execution_count": 16,
      "outputs": [
        {
          "output_type": "stream",
          "text": [
            "Using TensorFlow backend.\n"
          ],
          "name": "stderr"
        },
        {
          "output_type": "stream",
          "text": [
            "Downloading data from https://s3.amazonaws.com/img-datasets/mnist.npz\n",
            "11493376/11490434 [==============================] - 0s 0us/step\n",
            "Train on 54000 samples, validate on 6000 samples\n",
            "Epoch 1/200\n",
            "54000/54000 [==============================] - 2s 45us/step - loss: 2.0856 - acc: 0.4795 - val_loss: 1.8550 - val_acc: 0.6757\n",
            "Epoch 2/200\n",
            "54000/54000 [==============================] - 2s 29us/step - loss: 1.6972 - acc: 0.7045 - val_loss: 1.4971 - val_acc: 0.7588\n",
            "Epoch 3/200\n",
            "54000/54000 [==============================] - 2s 30us/step - loss: 1.3946 - acc: 0.7568 - val_loss: 1.2221 - val_acc: 0.8123\n",
            "Epoch 4/200\n",
            "54000/54000 [==============================] - 2s 30us/step - loss: 1.1694 - acc: 0.7905 - val_loss: 1.0216 - val_acc: 0.8415\n",
            "Epoch 5/200\n",
            "20800/54000 [==========>...................] - ETA: 0s - loss: 1.0457 - acc: 0.8104"
          ],
          "name": "stdout"
        },
        {
          "output_type": "error",
          "ename": "KeyboardInterrupt",
          "evalue": "ignored",
          "traceback": [
            "\u001b[0;31m---------------------------------------------------------------------------\u001b[0m",
            "\u001b[0;31mKeyboardInterrupt\u001b[0m                         Traceback (most recent call last)",
            "\u001b[0;32m<ipython-input-16-37d07c5b1031>\u001b[0m in \u001b[0;36m<module>\u001b[0;34m()\u001b[0m\n\u001b[1;32m     43\u001b[0m \u001b[0;34m\u001b[0m\u001b[0m\n\u001b[1;32m     44\u001b[0m \u001b[0;31m# 学習処理の実行\u001b[0m\u001b[0;34m\u001b[0m\u001b[0;34m\u001b[0m\u001b[0m\n\u001b[0;32m---> 45\u001b[0;31m \u001b[0mmodel\u001b[0m\u001b[0;34m.\u001b[0m\u001b[0mfit\u001b[0m\u001b[0;34m(\u001b[0m\u001b[0mX_train\u001b[0m\u001b[0;34m,\u001b[0m \u001b[0my_train\u001b[0m\u001b[0;34m,\u001b[0m \u001b[0mbatch_size\u001b[0m\u001b[0;34m=\u001b[0m\u001b[0;36m200\u001b[0m\u001b[0;34m,\u001b[0m \u001b[0mverbose\u001b[0m\u001b[0;34m=\u001b[0m\u001b[0;36m1\u001b[0m\u001b[0;34m,\u001b[0m \u001b[0mepochs\u001b[0m\u001b[0;34m=\u001b[0m\u001b[0;36m200\u001b[0m\u001b[0;34m,\u001b[0m \u001b[0mvalidation_split\u001b[0m\u001b[0;34m=\u001b[0m\u001b[0;36m0.1\u001b[0m\u001b[0;34m)\u001b[0m\u001b[0;34m\u001b[0m\u001b[0m\n\u001b[0m\u001b[1;32m     46\u001b[0m \u001b[0;34m\u001b[0m\u001b[0m\n\u001b[1;32m     47\u001b[0m \u001b[0;31m# 予測\u001b[0m\u001b[0;34m\u001b[0m\u001b[0;34m\u001b[0m\u001b[0m\n",
            "\u001b[0;32m/usr/local/lib/python3.6/dist-packages/keras/models.py\u001b[0m in \u001b[0;36mfit\u001b[0;34m(self, x, y, batch_size, epochs, verbose, callbacks, validation_split, validation_data, shuffle, class_weight, sample_weight, initial_epoch, steps_per_epoch, validation_steps, **kwargs)\u001b[0m\n\u001b[1;32m   1000\u001b[0m                               \u001b[0minitial_epoch\u001b[0m\u001b[0;34m=\u001b[0m\u001b[0minitial_epoch\u001b[0m\u001b[0;34m,\u001b[0m\u001b[0;34m\u001b[0m\u001b[0m\n\u001b[1;32m   1001\u001b[0m                               \u001b[0msteps_per_epoch\u001b[0m\u001b[0;34m=\u001b[0m\u001b[0msteps_per_epoch\u001b[0m\u001b[0;34m,\u001b[0m\u001b[0;34m\u001b[0m\u001b[0m\n\u001b[0;32m-> 1002\u001b[0;31m                               validation_steps=validation_steps)\n\u001b[0m\u001b[1;32m   1003\u001b[0m \u001b[0;34m\u001b[0m\u001b[0m\n\u001b[1;32m   1004\u001b[0m     def evaluate(self, x=None, y=None,\n",
            "\u001b[0;32m/usr/local/lib/python3.6/dist-packages/keras/engine/training.py\u001b[0m in \u001b[0;36mfit\u001b[0;34m(self, x, y, batch_size, epochs, verbose, callbacks, validation_split, validation_data, shuffle, class_weight, sample_weight, initial_epoch, steps_per_epoch, validation_steps, **kwargs)\u001b[0m\n\u001b[1;32m   1703\u001b[0m                               \u001b[0minitial_epoch\u001b[0m\u001b[0;34m=\u001b[0m\u001b[0minitial_epoch\u001b[0m\u001b[0;34m,\u001b[0m\u001b[0;34m\u001b[0m\u001b[0m\n\u001b[1;32m   1704\u001b[0m                               \u001b[0msteps_per_epoch\u001b[0m\u001b[0;34m=\u001b[0m\u001b[0msteps_per_epoch\u001b[0m\u001b[0;34m,\u001b[0m\u001b[0;34m\u001b[0m\u001b[0m\n\u001b[0;32m-> 1705\u001b[0;31m                               validation_steps=validation_steps)\n\u001b[0m\u001b[1;32m   1706\u001b[0m \u001b[0;34m\u001b[0m\u001b[0m\n\u001b[1;32m   1707\u001b[0m     def evaluate(self, x=None, y=None,\n",
            "\u001b[0;32m/usr/local/lib/python3.6/dist-packages/keras/engine/training.py\u001b[0m in \u001b[0;36m_fit_loop\u001b[0;34m(self, f, ins, out_labels, batch_size, epochs, verbose, callbacks, val_f, val_ins, shuffle, callback_metrics, initial_epoch, steps_per_epoch, validation_steps)\u001b[0m\n\u001b[1;32m   1234\u001b[0m                         \u001b[0mins_batch\u001b[0m\u001b[0;34m[\u001b[0m\u001b[0mi\u001b[0m\u001b[0;34m]\u001b[0m \u001b[0;34m=\u001b[0m \u001b[0mins_batch\u001b[0m\u001b[0;34m[\u001b[0m\u001b[0mi\u001b[0m\u001b[0;34m]\u001b[0m\u001b[0;34m.\u001b[0m\u001b[0mtoarray\u001b[0m\u001b[0;34m(\u001b[0m\u001b[0;34m)\u001b[0m\u001b[0;34m\u001b[0m\u001b[0m\n\u001b[1;32m   1235\u001b[0m \u001b[0;34m\u001b[0m\u001b[0m\n\u001b[0;32m-> 1236\u001b[0;31m                     \u001b[0mouts\u001b[0m \u001b[0;34m=\u001b[0m \u001b[0mf\u001b[0m\u001b[0;34m(\u001b[0m\u001b[0mins_batch\u001b[0m\u001b[0;34m)\u001b[0m\u001b[0;34m\u001b[0m\u001b[0m\n\u001b[0m\u001b[1;32m   1237\u001b[0m                     \u001b[0;32mif\u001b[0m \u001b[0;32mnot\u001b[0m \u001b[0misinstance\u001b[0m\u001b[0;34m(\u001b[0m\u001b[0mouts\u001b[0m\u001b[0;34m,\u001b[0m \u001b[0mlist\u001b[0m\u001b[0;34m)\u001b[0m\u001b[0;34m:\u001b[0m\u001b[0;34m\u001b[0m\u001b[0m\n\u001b[1;32m   1238\u001b[0m                         \u001b[0mouts\u001b[0m \u001b[0;34m=\u001b[0m \u001b[0;34m[\u001b[0m\u001b[0mouts\u001b[0m\u001b[0;34m]\u001b[0m\u001b[0;34m\u001b[0m\u001b[0m\n",
            "\u001b[0;32m/usr/local/lib/python3.6/dist-packages/keras/backend/tensorflow_backend.py\u001b[0m in \u001b[0;36m__call__\u001b[0;34m(self, inputs)\u001b[0m\n\u001b[1;32m   2480\u001b[0m         \u001b[0msession\u001b[0m \u001b[0;34m=\u001b[0m \u001b[0mget_session\u001b[0m\u001b[0;34m(\u001b[0m\u001b[0;34m)\u001b[0m\u001b[0;34m\u001b[0m\u001b[0m\n\u001b[1;32m   2481\u001b[0m         updated = session.run(fetches=fetches, feed_dict=feed_dict,\n\u001b[0;32m-> 2482\u001b[0;31m                               **self.session_kwargs)\n\u001b[0m\u001b[1;32m   2483\u001b[0m         \u001b[0;32mreturn\u001b[0m \u001b[0mupdated\u001b[0m\u001b[0;34m[\u001b[0m\u001b[0;34m:\u001b[0m\u001b[0mlen\u001b[0m\u001b[0;34m(\u001b[0m\u001b[0mself\u001b[0m\u001b[0;34m.\u001b[0m\u001b[0moutputs\u001b[0m\u001b[0;34m)\u001b[0m\u001b[0;34m]\u001b[0m\u001b[0;34m\u001b[0m\u001b[0m\n\u001b[1;32m   2484\u001b[0m \u001b[0;34m\u001b[0m\u001b[0m\n",
            "\u001b[0;32m/usr/local/lib/python3.6/dist-packages/tensorflow/python/client/session.py\u001b[0m in \u001b[0;36mrun\u001b[0;34m(self, fetches, feed_dict, options, run_metadata)\u001b[0m\n\u001b[1;32m    885\u001b[0m     \u001b[0;32mtry\u001b[0m\u001b[0;34m:\u001b[0m\u001b[0;34m\u001b[0m\u001b[0m\n\u001b[1;32m    886\u001b[0m       result = self._run(None, fetches, feed_dict, options_ptr,\n\u001b[0;32m--> 887\u001b[0;31m                          run_metadata_ptr)\n\u001b[0m\u001b[1;32m    888\u001b[0m       \u001b[0;32mif\u001b[0m \u001b[0mrun_metadata\u001b[0m\u001b[0;34m:\u001b[0m\u001b[0;34m\u001b[0m\u001b[0m\n\u001b[1;32m    889\u001b[0m         \u001b[0mproto_data\u001b[0m \u001b[0;34m=\u001b[0m \u001b[0mtf_session\u001b[0m\u001b[0;34m.\u001b[0m\u001b[0mTF_GetBuffer\u001b[0m\u001b[0;34m(\u001b[0m\u001b[0mrun_metadata_ptr\u001b[0m\u001b[0;34m)\u001b[0m\u001b[0;34m\u001b[0m\u001b[0m\n",
            "\u001b[0;32m/usr/local/lib/python3.6/dist-packages/tensorflow/python/client/session.py\u001b[0m in \u001b[0;36m_run\u001b[0;34m(self, handle, fetches, feed_dict, options, run_metadata)\u001b[0m\n\u001b[1;32m   1108\u001b[0m     \u001b[0;32mif\u001b[0m \u001b[0mfinal_fetches\u001b[0m \u001b[0;32mor\u001b[0m \u001b[0mfinal_targets\u001b[0m \u001b[0;32mor\u001b[0m \u001b[0;34m(\u001b[0m\u001b[0mhandle\u001b[0m \u001b[0;32mand\u001b[0m \u001b[0mfeed_dict_tensor\u001b[0m\u001b[0;34m)\u001b[0m\u001b[0;34m:\u001b[0m\u001b[0;34m\u001b[0m\u001b[0m\n\u001b[1;32m   1109\u001b[0m       results = self._do_run(handle, final_targets, final_fetches,\n\u001b[0;32m-> 1110\u001b[0;31m                              feed_dict_tensor, options, run_metadata)\n\u001b[0m\u001b[1;32m   1111\u001b[0m     \u001b[0;32melse\u001b[0m\u001b[0;34m:\u001b[0m\u001b[0;34m\u001b[0m\u001b[0m\n\u001b[1;32m   1112\u001b[0m       \u001b[0mresults\u001b[0m \u001b[0;34m=\u001b[0m \u001b[0;34m[\u001b[0m\u001b[0;34m]\u001b[0m\u001b[0;34m\u001b[0m\u001b[0m\n",
            "\u001b[0;32m/usr/local/lib/python3.6/dist-packages/tensorflow/python/client/session.py\u001b[0m in \u001b[0;36m_do_run\u001b[0;34m(self, handle, target_list, fetch_list, feed_dict, options, run_metadata)\u001b[0m\n\u001b[1;32m   1284\u001b[0m     \u001b[0;32mif\u001b[0m \u001b[0mhandle\u001b[0m \u001b[0;32mis\u001b[0m \u001b[0;32mNone\u001b[0m\u001b[0;34m:\u001b[0m\u001b[0;34m\u001b[0m\u001b[0m\n\u001b[1;32m   1285\u001b[0m       return self._do_call(_run_fn, feeds, fetches, targets, options,\n\u001b[0;32m-> 1286\u001b[0;31m                            run_metadata)\n\u001b[0m\u001b[1;32m   1287\u001b[0m     \u001b[0;32melse\u001b[0m\u001b[0;34m:\u001b[0m\u001b[0;34m\u001b[0m\u001b[0m\n\u001b[1;32m   1288\u001b[0m       \u001b[0;32mreturn\u001b[0m \u001b[0mself\u001b[0m\u001b[0;34m.\u001b[0m\u001b[0m_do_call\u001b[0m\u001b[0;34m(\u001b[0m\u001b[0m_prun_fn\u001b[0m\u001b[0;34m,\u001b[0m \u001b[0mhandle\u001b[0m\u001b[0;34m,\u001b[0m \u001b[0mfeeds\u001b[0m\u001b[0;34m,\u001b[0m \u001b[0mfetches\u001b[0m\u001b[0;34m)\u001b[0m\u001b[0;34m\u001b[0m\u001b[0m\n",
            "\u001b[0;32m/usr/local/lib/python3.6/dist-packages/tensorflow/python/client/session.py\u001b[0m in \u001b[0;36m_do_call\u001b[0;34m(self, fn, *args)\u001b[0m\n\u001b[1;32m   1290\u001b[0m   \u001b[0;32mdef\u001b[0m \u001b[0m_do_call\u001b[0m\u001b[0;34m(\u001b[0m\u001b[0mself\u001b[0m\u001b[0;34m,\u001b[0m \u001b[0mfn\u001b[0m\u001b[0;34m,\u001b[0m \u001b[0;34m*\u001b[0m\u001b[0margs\u001b[0m\u001b[0;34m)\u001b[0m\u001b[0;34m:\u001b[0m\u001b[0;34m\u001b[0m\u001b[0m\n\u001b[1;32m   1291\u001b[0m     \u001b[0;32mtry\u001b[0m\u001b[0;34m:\u001b[0m\u001b[0;34m\u001b[0m\u001b[0m\n\u001b[0;32m-> 1292\u001b[0;31m       \u001b[0;32mreturn\u001b[0m \u001b[0mfn\u001b[0m\u001b[0;34m(\u001b[0m\u001b[0;34m*\u001b[0m\u001b[0margs\u001b[0m\u001b[0;34m)\u001b[0m\u001b[0;34m\u001b[0m\u001b[0m\n\u001b[0m\u001b[1;32m   1293\u001b[0m     \u001b[0;32mexcept\u001b[0m \u001b[0merrors\u001b[0m\u001b[0;34m.\u001b[0m\u001b[0mOpError\u001b[0m \u001b[0;32mas\u001b[0m \u001b[0me\u001b[0m\u001b[0;34m:\u001b[0m\u001b[0;34m\u001b[0m\u001b[0m\n\u001b[1;32m   1294\u001b[0m       \u001b[0mmessage\u001b[0m \u001b[0;34m=\u001b[0m \u001b[0mcompat\u001b[0m\u001b[0;34m.\u001b[0m\u001b[0mas_text\u001b[0m\u001b[0;34m(\u001b[0m\u001b[0me\u001b[0m\u001b[0;34m.\u001b[0m\u001b[0mmessage\u001b[0m\u001b[0;34m)\u001b[0m\u001b[0;34m\u001b[0m\u001b[0m\n",
            "\u001b[0;32m/usr/local/lib/python3.6/dist-packages/tensorflow/python/client/session.py\u001b[0m in \u001b[0;36m_run_fn\u001b[0;34m(feed_dict, fetch_list, target_list, options, run_metadata)\u001b[0m\n\u001b[1;32m   1275\u001b[0m       \u001b[0mself\u001b[0m\u001b[0;34m.\u001b[0m\u001b[0m_extend_graph\u001b[0m\u001b[0;34m(\u001b[0m\u001b[0;34m)\u001b[0m\u001b[0;34m\u001b[0m\u001b[0m\n\u001b[1;32m   1276\u001b[0m       return self._call_tf_sessionrun(\n\u001b[0;32m-> 1277\u001b[0;31m           options, feed_dict, fetch_list, target_list, run_metadata)\n\u001b[0m\u001b[1;32m   1278\u001b[0m \u001b[0;34m\u001b[0m\u001b[0m\n\u001b[1;32m   1279\u001b[0m     \u001b[0;32mdef\u001b[0m \u001b[0m_prun_fn\u001b[0m\u001b[0;34m(\u001b[0m\u001b[0mhandle\u001b[0m\u001b[0;34m,\u001b[0m \u001b[0mfeed_dict\u001b[0m\u001b[0;34m,\u001b[0m \u001b[0mfetch_list\u001b[0m\u001b[0;34m)\u001b[0m\u001b[0;34m:\u001b[0m\u001b[0;34m\u001b[0m\u001b[0m\n",
            "\u001b[0;32m/usr/local/lib/python3.6/dist-packages/tensorflow/python/client/session.py\u001b[0m in \u001b[0;36m_call_tf_sessionrun\u001b[0;34m(self, options, feed_dict, fetch_list, target_list, run_metadata)\u001b[0m\n\u001b[1;32m   1365\u001b[0m     return tf_session.TF_SessionRun_wrapper(\n\u001b[1;32m   1366\u001b[0m         \u001b[0mself\u001b[0m\u001b[0;34m.\u001b[0m\u001b[0m_session\u001b[0m\u001b[0;34m,\u001b[0m \u001b[0moptions\u001b[0m\u001b[0;34m,\u001b[0m \u001b[0mfeed_dict\u001b[0m\u001b[0;34m,\u001b[0m \u001b[0mfetch_list\u001b[0m\u001b[0;34m,\u001b[0m \u001b[0mtarget_list\u001b[0m\u001b[0;34m,\u001b[0m\u001b[0;34m\u001b[0m\u001b[0m\n\u001b[0;32m-> 1367\u001b[0;31m         run_metadata)\n\u001b[0m\u001b[1;32m   1368\u001b[0m \u001b[0;34m\u001b[0m\u001b[0m\n\u001b[1;32m   1369\u001b[0m   \u001b[0;32mdef\u001b[0m \u001b[0m_call_tf_sessionprun\u001b[0m\u001b[0;34m(\u001b[0m\u001b[0mself\u001b[0m\u001b[0;34m,\u001b[0m \u001b[0mhandle\u001b[0m\u001b[0;34m,\u001b[0m \u001b[0mfeed_dict\u001b[0m\u001b[0;34m,\u001b[0m \u001b[0mfetch_list\u001b[0m\u001b[0;34m)\u001b[0m\u001b[0;34m:\u001b[0m\u001b[0;34m\u001b[0m\u001b[0m\n",
            "\u001b[0;31mKeyboardInterrupt\u001b[0m: "
          ]
        }
      ]
    },
    {
      "metadata": {
        "id": "4OJ6zPkBONhh",
        "colab_type": "code",
        "colab": {
          "base_uri": "https://localhost:8080/",
          "height": 153
        },
        "outputId": "136c3824-7b03-4ab3-f7d8-61516c9ab9e4"
      },
      "cell_type": "code",
      "source": [
        "!df -h"
      ],
      "execution_count": 23,
      "outputs": [
        {
          "output_type": "stream",
          "text": [
            "Filesystem      Size  Used Avail Use% Mounted on\n",
            "overlay          40G  7.7G   30G  21% /\n",
            "tmpfs           6.4G     0  6.4G   0% /dev\n",
            "tmpfs           6.4G     0  6.4G   0% /sys/fs/cgroup\n",
            "tmpfs           6.4G     0  6.4G   0% /var/colab\n",
            "/dev/sda1        46G  8.5G   37G  19% /etc/hosts\n",
            "shm              64M     0   64M   0% /dev/shm\n",
            "tmpfs           6.4G     0  6.4G   0% /sys/firmware\n"
          ],
          "name": "stdout"
        }
      ]
    },
    {
      "metadata": {
        "id": "e_wiMuRwR9fw",
        "colab_type": "code",
        "colab": {}
      },
      "cell_type": "code",
      "source": [
        "!who"
      ],
      "execution_count": 0,
      "outputs": []
    },
    {
      "metadata": {
        "id": "dRZS-YIASEtH",
        "colab_type": "code",
        "colab": {
          "base_uri": "https://localhost:8080/",
          "height": 34
        },
        "outputId": "51ea38ed-ee05-44c1-8bc4-ce3333f1d9aa"
      },
      "cell_type": "code",
      "source": [
        "!which awk"
      ],
      "execution_count": 25,
      "outputs": [
        {
          "output_type": "stream",
          "text": [
            "/usr/bin/awk\n"
          ],
          "name": "stdout"
        }
      ]
    },
    {
      "metadata": {
        "id": "l-kRCJJsSJnx",
        "colab_type": "code",
        "colab": {
          "base_uri": "https://localhost:8080/",
          "height": 5692
        },
        "outputId": "cd21efc2-8cbd-4dbb-a33c-de0f4e0f3a51"
      },
      "cell_type": "code",
      "source": [
        "# -*- coding: utf-8 -*\n",
        "#https://qiita.com/fukuit/items/b3fa460577a0ea139c88\n",
        "'''\n",
        "Keras(+Tensorflow)でMNISTを実施する\n",
        "学習中の進捗をグラフで表示する\n",
        "'''\n",
        "\n",
        "import keras\n",
        "from keras.datasets import mnist\n",
        "from keras.models import Sequential\n",
        "from keras.layers import Dense, Dropout, Flatten, Conv2D, MaxPooling2D\n",
        "from keras.optimizers import RMSprop\n",
        "from keras.callbacks import Callback, CSVLogger\n",
        "from matplotlib import pyplot as plt\n",
        "from sklearn.model_selection import train_test_split\n",
        "import argparse\n",
        "\n",
        "\n",
        "class PlotLosses(Callback):\n",
        "    '''\n",
        "    学習中のlossについてlive plotする\n",
        "    '''\n",
        "\n",
        "    def on_train_begin(self, logs={}):\n",
        "        '''\n",
        "        訓練開始時に実施\n",
        "        '''\n",
        "        self.epoch_cnt = 0      # epochの回数を初期化\n",
        "        plt.axis([0, self.epochs, 0, 0.25])\n",
        "        plt.ion()               # pyplotをinteractive modeにする\n",
        "\n",
        "    def on_train_end(self, logs={}):\n",
        "        '''\n",
        "        訓練修了時に実施\n",
        "        '''\n",
        "        plt.ioff()              # pyplotのinteractive modeをoffにする\n",
        "        plt.legend(['loss', 'val_loss'], loc='best')\n",
        "        plt.show()\n",
        "\n",
        "    def on_epoch_end(self, epoch, logs={}):\n",
        "        '''\n",
        "        epochごとに実行する処理\n",
        "        '''\n",
        "        loss = logs.get('loss')\n",
        "        val_loss = logs.get('val_loss')\n",
        "        x = self.epoch_cnt\n",
        "        # epochごとのlossとval_lossをplotする\n",
        "        plt.scatter(x, loss, c='b', label='loss')\n",
        "        plt.scatter(x, val_loss, c='r', label='val_loss')\n",
        "        plt.pause(0.05)\n",
        "        # epoch回数をcount up\n",
        "        self.epoch_cnt += 1\n",
        "\n",
        "\n",
        "def plot_result(history):\n",
        "    '''\n",
        "    plot result\n",
        "    全ての学習が終了した後に、historyを参照して、accuracyとlossをそれぞれplotする\n",
        "    '''\n",
        "\n",
        "    # accuracy\n",
        "    plt.figure()\n",
        "    plt.plot(history.history['acc'], label='acc', marker='.')\n",
        "    plt.plot(history.history['val_acc'], label='val_acc', marker='.')\n",
        "    plt.grid()\n",
        "    plt.legend(loc='best')\n",
        "    plt.title('accuracy')\n",
        "    plt.savefig('graph_accuracy.png')\n",
        "    plt.show()\n",
        "\n",
        "    # loss\n",
        "    plt.figure()\n",
        "    plt.plot(history.history['loss'], label='loss', marker='.')\n",
        "    plt.plot(history.history['val_loss'], label='val_loss', marker='.')\n",
        "    plt.grid()\n",
        "    plt.legend(loc='best')\n",
        "    plt.title('loss')\n",
        "    plt.savefig('graph_loss.png')\n",
        "    plt.show()\n",
        "\n",
        "\n",
        "def main(epochs=5, batch_size=128):\n",
        "    '''\n",
        "    MNISTの学習とその結果の表示\n",
        "    @args:\n",
        "        epochs: epochの回数\n",
        "        batch_size: ミニバッチのサイズ\n",
        "    '''\n",
        "\n",
        "    # load MNIST data\n",
        "    (x_train, y_train), (x_test, y_test) = mnist.load_data()\n",
        "    x_train1, x_valid, y_train1, y_valid = train_test_split(x_train, y_train, test_size=0.175)\n",
        "    x_train = x_train1\n",
        "    y_train = y_train1\n",
        "\n",
        "    x_train = x_train.reshape(x_train.shape[0], 28, 28, 1).astype('float32')/255\n",
        "    x_valid = x_valid.reshape(x_valid.shape[0], 28, 28, 1).astype('float32')/255\n",
        "    x_test = x_test.reshape(x_test.shape[0], 28, 28, 1).astype('float32')/255\n",
        "\n",
        "    # convert one-hot vector\n",
        "    y_train = keras.utils.to_categorical(y_train, 10)\n",
        "    y_valid = keras.utils.to_categorical(y_valid, 10)\n",
        "    y_test = keras.utils.to_categorical(y_test, 10)\n",
        "\n",
        "    # create model\n",
        "    model = Sequential()\n",
        "    model.add(Conv2D(32, kernel_size=(3, 3), activation='relu', input_shape=(28, 28, 1)))\n",
        "    model.add(Conv2D(64, (3, 3), activation='relu'))\n",
        "    model.add(MaxPooling2D(pool_size=(2, 2)))\n",
        "    model.add(Dropout(0.25))\n",
        "    model.add(Flatten())\n",
        "    model.add(Dense(128, activation='relu'))\n",
        "    model.add(Dropout(0.5))\n",
        "    model.add(Dense(10, activation='softmax'))\n",
        "\n",
        "    model.compile(loss='categorical_crossentropy',\n",
        "                  optimizer=RMSprop(),\n",
        "                  metrics=['accuracy'])\n",
        "\n",
        "    print(model.summary())\n",
        "\n",
        "    # callback function\n",
        "    plot_losses = PlotLosses()      # グラフ表示(live plot)\n",
        "    plot_losses.epochs = epochs\n",
        "    csv_logger = CSVLogger('trainlog.csv')\n",
        "\n",
        "    # train\n",
        "    history = model.fit(x_train, y_train,\n",
        "                        batch_size=batch_size, epochs=epochs,\n",
        "                        verbose=1,\n",
        "                        validation_data=(x_valid, y_valid),\n",
        "                        callbacks=[plot_losses, csv_logger])\n",
        "\n",
        "    # result\n",
        "    score = model.evaluate(x_test, y_test, verbose=0)\n",
        "    print('Test loss: {0}'.format(score[0]))\n",
        "    print('Test accuracy: {0}'.format(score[1]))\n",
        "\n",
        "    plot_result(history)\n",
        "\n",
        "\n",
        "if __name__ == '__main__':\n",
        "    '''\n",
        "    parser = argparse.ArgumentParser(description='MNIST')\n",
        "    parser.add_argument('--epochs', dest='epochs', type=int, help='size of epochs')\n",
        "    parser.add_argument('--batch_size', dest='batch_size', type=int, help='size of batch')\n",
        "    args = parser.parse_args()\n",
        "    if args.epochs:\n",
        "        epochs = args.epochs\n",
        "    else:\n",
        "        epochs = 100\n",
        "    if args.batch_size:\n",
        "        batch_size = args.batch_size\n",
        "    else:\n",
        "        batch_size = 128\n",
        "    '''\n",
        "    epochs = 100; batch_size = 128\n",
        "    main(epochs, batch_size)\n"
      ],
      "execution_count": 1,
      "outputs": [
        {
          "output_type": "stream",
          "text": [
            "Using TensorFlow backend.\n"
          ],
          "name": "stderr"
        },
        {
          "output_type": "stream",
          "text": [
            "Downloading data from https://s3.amazonaws.com/img-datasets/mnist.npz\n",
            "11493376/11490434 [==============================] - 3s 0us/step\n",
            "_________________________________________________________________\n",
            "Layer (type)                 Output Shape              Param #   \n",
            "=================================================================\n",
            "conv2d_1 (Conv2D)            (None, 26, 26, 32)        320       \n",
            "_________________________________________________________________\n",
            "conv2d_2 (Conv2D)            (None, 24, 24, 64)        18496     \n",
            "_________________________________________________________________\n",
            "max_pooling2d_1 (MaxPooling2 (None, 12, 12, 64)        0         \n",
            "_________________________________________________________________\n",
            "dropout_1 (Dropout)          (None, 12, 12, 64)        0         \n",
            "_________________________________________________________________\n",
            "flatten_1 (Flatten)          (None, 9216)              0         \n",
            "_________________________________________________________________\n",
            "dense_1 (Dense)              (None, 128)               1179776   \n",
            "_________________________________________________________________\n",
            "dropout_2 (Dropout)          (None, 128)               0         \n",
            "_________________________________________________________________\n",
            "dense_2 (Dense)              (None, 10)                1290      \n",
            "=================================================================\n",
            "Total params: 1,199,882\n",
            "Trainable params: 1,199,882\n",
            "Non-trainable params: 0\n",
            "_________________________________________________________________\n",
            "None\n",
            "Train on 49500 samples, validate on 10500 samples\n",
            "Epoch 1/100\n",
            "49500/49500 [==============================] - 9s 192us/step - loss: 0.2393 - acc: 0.9265 - val_loss: 0.0725 - val_acc: 0.9779\n"
          ],
          "name": "stdout"
        },
        {
          "output_type": "display_data",
          "data": {
            "image/png": "[encoded data removed]",
            "text/plain": [
              "<matplotlib.figure.Figure at 0x7f7c0ff06320>"
            ]
          },
          "metadata": {
            "tags": []
          }
        },
        {
          "output_type": "stream",
          "text": [
            "Epoch 2/100\n",
            "49500/49500 [==============================] - 8s 153us/step - loss: 0.0878 - acc: 0.9747 - val_loss: 0.0593 - val_acc: 0.9822\n"
          ],
          "name": "stdout"
        },
        {
          "output_type": "display_data",
          "data": {
            "image/png": "[encoded data removed]",
            "text/plain": [
              "<matplotlib.figure.Figure at 0x7f7bf1974a20>"
            ]
          },
          "metadata": {
            "tags": []
          }
        },
        {
          "output_type": "stream",
          "text": [
            "Epoch 3/100\n",
            "49500/49500 [==============================] - 8s 152us/step - loss: 0.0668 - acc: 0.9806 - val_loss: 0.0502 - val_acc: 0.9839\n"
          ],
          "name": "stdout"
        },
        {
          "output_type": "display_data",
          "data": {
            "image/png": "[encoded data removed]",
            "text/plain": [
              "<matplotlib.figure.Figure at 0x7f7bf1976e10>"
            ]
          },
          "metadata": {
            "tags": []
          }
        },
        {
          "output_type": "stream",
          "text": [
            "Epoch 4/100\n",
            "49500/49500 [==============================] - 8s 153us/step - loss: 0.0549 - acc: 0.9845 - val_loss: 0.0477 - val_acc: 0.9870\n"
          ],
          "name": "stdout"
        },
        {
          "output_type": "display_data",
          "data": {
            "image/png": "[encoded data removed]",
            "text/plain": [
              "<matplotlib.figure.Figure at 0x7f7bf14cee10>"
            ]
          },
          "metadata": {
            "tags": []
          }
        },
        {
          "output_type": "stream",
          "text": [
            "Epoch 5/100\n",
            "49500/49500 [==============================] - 8s 152us/step - loss: 0.0475 - acc: 0.9861 - val_loss: 0.0440 - val_acc: 0.9872\n"
          ],
          "name": "stdout"
        },
        {
          "output_type": "display_data",
          "data": {
            "image/png": "[encoded data removed]",
            "text/plain": [
              "<matplotlib.figure.Figure at 0x7f7bf15fa320>"
            ]
          },
          "metadata": {
            "tags": []
          }
        },
        {
          "output_type": "stream",
          "text": [
            "Epoch 6/100\n",
            "49500/49500 [==============================] - 8s 153us/step - loss: 0.0448 - acc: 0.9866 - val_loss: 0.0450 - val_acc: 0.9886\n"
          ],
          "name": "stdout"
        },
        {
          "output_type": "display_data",
          "data": {
            "image/png": "[encoded data removed]",
            "text/plain": [
              "<matplotlib.figure.Figure at 0x7f7bf1244320>"
            ]
          },
          "metadata": {
            "tags": []
          }
        },
        {
          "output_type": "stream",
          "text": [
            "Epoch 7/100\n",
            "49500/49500 [==============================] - 8s 153us/step - loss: 0.0445 - acc: 0.9875 - val_loss: 0.0414 - val_acc: 0.9885\n"
          ],
          "name": "stdout"
        },
        {
          "output_type": "display_data",
          "data": {
            "image/png": "[encoded data removed]",
            "text/plain": [
              "<matplotlib.figure.Figure at 0x7f7bf0e994e0>"
            ]
          },
          "metadata": {
            "tags": []
          }
        },
        {
          "output_type": "stream",
          "text": [
            "Epoch 8/100\n",
            "49500/49500 [==============================] - 8s 152us/step - loss: 0.0472 - acc: 0.9872 - val_loss: 0.0433 - val_acc: 0.9879\n"
          ],
          "name": "stdout"
        },
        {
          "output_type": "display_data",
          "data": {
            "image/png": "[encoded data removed]",
            "text/plain": [
              "<matplotlib.figure.Figure at 0x7f7bf0d87470>"
            ]
          },
          "metadata": {
            "tags": []
          }
        },
        {
          "output_type": "stream",
          "text": [
            "Epoch 9/100\n",
            "49500/49500 [==============================] - 8s 152us/step - loss: 0.0471 - acc: 0.9866 - val_loss: 0.0783 - val_acc: 0.9849\n"
          ],
          "name": "stdout"
        },
        {
          "output_type": "display_data",
          "data": {
            "image/png": "[encoded data removed]",
            "text/plain": [
              "<matplotlib.figure.Figure at 0x7f7bf0d1a7b8>"
            ]
          },
          "metadata": {
            "tags": []
          }
        },
        {
          "output_type": "stream",
          "text": [
            "Epoch 10/100\n",
            "49500/49500 [==============================] - 8s 152us/step - loss: 0.0500 - acc: 0.9864 - val_loss: 0.0423 - val_acc: 0.9897\n"
          ],
          "name": "stdout"
        },
        {
          "output_type": "display_data",
          "data": {
            "image/png": "[encoded data removed]",
            "text/plain": [
              "<matplotlib.figure.Figure at 0x7f7bf0a55cf8>"
            ]
          },
          "metadata": {
            "tags": []
          }
        },
        {
          "output_type": "stream",
          "text": [
            "Epoch 11/100\n",
            "42368/49500 [========================>.....] - ETA: 1s - loss: 0.0454 - acc: 0.9874"
          ],
          "name": "stdout"
        },
        {
          "output_type": "error",
          "ename": "KeyboardInterrupt",
          "evalue": "ignored",
          "traceback": [
            "\u001b[0;31m---------------------------------------------------------------------------\u001b[0m",
            "\u001b[0;31mKeyboardInterrupt\u001b[0m                         Traceback (most recent call last)",
            "\u001b[0;32m<ipython-input-1-d78905ed60f7>\u001b[0m in \u001b[0;36m<module>\u001b[0;34m()\u001b[0m\n\u001b[1;32m    154\u001b[0m     '''\n\u001b[1;32m    155\u001b[0m     \u001b[0mepochs\u001b[0m \u001b[0;34m=\u001b[0m \u001b[0;36m100\u001b[0m\u001b[0;34m;\u001b[0m \u001b[0mbatch_size\u001b[0m \u001b[0;34m=\u001b[0m \u001b[0;36m128\u001b[0m\u001b[0;34m\u001b[0m\u001b[0m\n\u001b[0;32m--> 156\u001b[0;31m     \u001b[0mmain\u001b[0m\u001b[0;34m(\u001b[0m\u001b[0mepochs\u001b[0m\u001b[0;34m,\u001b[0m \u001b[0mbatch_size\u001b[0m\u001b[0;34m)\u001b[0m\u001b[0;34m\u001b[0m\u001b[0m\n\u001b[0m",
            "\u001b[0;32m<ipython-input-1-d78905ed60f7>\u001b[0m in \u001b[0;36mmain\u001b[0;34m(epochs, batch_size)\u001b[0m\n\u001b[1;32m    128\u001b[0m                         \u001b[0mverbose\u001b[0m\u001b[0;34m=\u001b[0m\u001b[0;36m1\u001b[0m\u001b[0;34m,\u001b[0m\u001b[0;34m\u001b[0m\u001b[0m\n\u001b[1;32m    129\u001b[0m                         \u001b[0mvalidation_data\u001b[0m\u001b[0;34m=\u001b[0m\u001b[0;34m(\u001b[0m\u001b[0mx_valid\u001b[0m\u001b[0;34m,\u001b[0m \u001b[0my_valid\u001b[0m\u001b[0;34m)\u001b[0m\u001b[0;34m,\u001b[0m\u001b[0;34m\u001b[0m\u001b[0m\n\u001b[0;32m--> 130\u001b[0;31m                         callbacks=[plot_losses, csv_logger])\n\u001b[0m\u001b[1;32m    131\u001b[0m \u001b[0;34m\u001b[0m\u001b[0m\n\u001b[1;32m    132\u001b[0m     \u001b[0;31m# result\u001b[0m\u001b[0;34m\u001b[0m\u001b[0;34m\u001b[0m\u001b[0m\n",
            "\u001b[0;32m/usr/local/lib/python3.6/dist-packages/keras/models.py\u001b[0m in \u001b[0;36mfit\u001b[0;34m(self, x, y, batch_size, epochs, verbose, callbacks, validation_split, validation_data, shuffle, class_weight, sample_weight, initial_epoch, steps_per_epoch, validation_steps, **kwargs)\u001b[0m\n\u001b[1;32m   1000\u001b[0m                               \u001b[0minitial_epoch\u001b[0m\u001b[0;34m=\u001b[0m\u001b[0minitial_epoch\u001b[0m\u001b[0;34m,\u001b[0m\u001b[0;34m\u001b[0m\u001b[0m\n\u001b[1;32m   1001\u001b[0m                               \u001b[0msteps_per_epoch\u001b[0m\u001b[0;34m=\u001b[0m\u001b[0msteps_per_epoch\u001b[0m\u001b[0;34m,\u001b[0m\u001b[0;34m\u001b[0m\u001b[0m\n\u001b[0;32m-> 1002\u001b[0;31m                               validation_steps=validation_steps)\n\u001b[0m\u001b[1;32m   1003\u001b[0m \u001b[0;34m\u001b[0m\u001b[0m\n\u001b[1;32m   1004\u001b[0m     def evaluate(self, x=None, y=None,\n",
            "\u001b[0;32m/usr/local/lib/python3.6/dist-packages/keras/engine/training.py\u001b[0m in \u001b[0;36mfit\u001b[0;34m(self, x, y, batch_size, epochs, verbose, callbacks, validation_split, validation_data, shuffle, class_weight, sample_weight, initial_epoch, steps_per_epoch, validation_steps, **kwargs)\u001b[0m\n\u001b[1;32m   1703\u001b[0m                               \u001b[0minitial_epoch\u001b[0m\u001b[0;34m=\u001b[0m\u001b[0minitial_epoch\u001b[0m\u001b[0;34m,\u001b[0m\u001b[0;34m\u001b[0m\u001b[0m\n\u001b[1;32m   1704\u001b[0m                               \u001b[0msteps_per_epoch\u001b[0m\u001b[0;34m=\u001b[0m\u001b[0msteps_per_epoch\u001b[0m\u001b[0;34m,\u001b[0m\u001b[0;34m\u001b[0m\u001b[0m\n\u001b[0;32m-> 1705\u001b[0;31m                               validation_steps=validation_steps)\n\u001b[0m\u001b[1;32m   1706\u001b[0m \u001b[0;34m\u001b[0m\u001b[0m\n\u001b[1;32m   1707\u001b[0m     def evaluate(self, x=None, y=None,\n",
            "\u001b[0;32m/usr/local/lib/python3.6/dist-packages/keras/engine/training.py\u001b[0m in \u001b[0;36m_fit_loop\u001b[0;34m(self, f, ins, out_labels, batch_size, epochs, verbose, callbacks, val_f, val_ins, shuffle, callback_metrics, initial_epoch, steps_per_epoch, validation_steps)\u001b[0m\n\u001b[1;32m   1234\u001b[0m                         \u001b[0mins_batch\u001b[0m\u001b[0;34m[\u001b[0m\u001b[0mi\u001b[0m\u001b[0;34m]\u001b[0m \u001b[0;34m=\u001b[0m \u001b[0mins_batch\u001b[0m\u001b[0;34m[\u001b[0m\u001b[0mi\u001b[0m\u001b[0;34m]\u001b[0m\u001b[0;34m.\u001b[0m\u001b[0mtoarray\u001b[0m\u001b[0;34m(\u001b[0m\u001b[0;34m)\u001b[0m\u001b[0;34m\u001b[0m\u001b[0m\n\u001b[1;32m   1235\u001b[0m \u001b[0;34m\u001b[0m\u001b[0m\n\u001b[0;32m-> 1236\u001b[0;31m                     \u001b[0mouts\u001b[0m \u001b[0;34m=\u001b[0m \u001b[0mf\u001b[0m\u001b[0;34m(\u001b[0m\u001b[0mins_batch\u001b[0m\u001b[0;34m)\u001b[0m\u001b[0;34m\u001b[0m\u001b[0m\n\u001b[0m\u001b[1;32m   1237\u001b[0m                     \u001b[0;32mif\u001b[0m \u001b[0;32mnot\u001b[0m \u001b[0misinstance\u001b[0m\u001b[0;34m(\u001b[0m\u001b[0mouts\u001b[0m\u001b[0;34m,\u001b[0m \u001b[0mlist\u001b[0m\u001b[0;34m)\u001b[0m\u001b[0;34m:\u001b[0m\u001b[0;34m\u001b[0m\u001b[0m\n\u001b[1;32m   1238\u001b[0m                         \u001b[0mouts\u001b[0m \u001b[0;34m=\u001b[0m \u001b[0;34m[\u001b[0m\u001b[0mouts\u001b[0m\u001b[0;34m]\u001b[0m\u001b[0;34m\u001b[0m\u001b[0m\n",
            "\u001b[0;32m/usr/local/lib/python3.6/dist-packages/keras/backend/tensorflow_backend.py\u001b[0m in \u001b[0;36m__call__\u001b[0;34m(self, inputs)\u001b[0m\n\u001b[1;32m   2480\u001b[0m         \u001b[0msession\u001b[0m \u001b[0;34m=\u001b[0m \u001b[0mget_session\u001b[0m\u001b[0;34m(\u001b[0m\u001b[0;34m)\u001b[0m\u001b[0;34m\u001b[0m\u001b[0m\n\u001b[1;32m   2481\u001b[0m         updated = session.run(fetches=fetches, feed_dict=feed_dict,\n\u001b[0;32m-> 2482\u001b[0;31m                               **self.session_kwargs)\n\u001b[0m\u001b[1;32m   2483\u001b[0m         \u001b[0;32mreturn\u001b[0m \u001b[0mupdated\u001b[0m\u001b[0;34m[\u001b[0m\u001b[0;34m:\u001b[0m\u001b[0mlen\u001b[0m\u001b[0;34m(\u001b[0m\u001b[0mself\u001b[0m\u001b[0;34m.\u001b[0m\u001b[0moutputs\u001b[0m\u001b[0;34m)\u001b[0m\u001b[0;34m]\u001b[0m\u001b[0;34m\u001b[0m\u001b[0m\n\u001b[1;32m   2484\u001b[0m \u001b[0;34m\u001b[0m\u001b[0m\n",
            "\u001b[0;32m/usr/local/lib/python3.6/dist-packages/tensorflow/python/client/session.py\u001b[0m in \u001b[0;36mrun\u001b[0;34m(self, fetches, feed_dict, options, run_metadata)\u001b[0m\n\u001b[1;32m    885\u001b[0m     \u001b[0;32mtry\u001b[0m\u001b[0;34m:\u001b[0m\u001b[0;34m\u001b[0m\u001b[0m\n\u001b[1;32m    886\u001b[0m       result = self._run(None, fetches, feed_dict, options_ptr,\n\u001b[0;32m--> 887\u001b[0;31m                          run_metadata_ptr)\n\u001b[0m\u001b[1;32m    888\u001b[0m       \u001b[0;32mif\u001b[0m \u001b[0mrun_metadata\u001b[0m\u001b[0;34m:\u001b[0m\u001b[0;34m\u001b[0m\u001b[0m\n\u001b[1;32m    889\u001b[0m         \u001b[0mproto_data\u001b[0m \u001b[0;34m=\u001b[0m \u001b[0mtf_session\u001b[0m\u001b[0;34m.\u001b[0m\u001b[0mTF_GetBuffer\u001b[0m\u001b[0;34m(\u001b[0m\u001b[0mrun_metadata_ptr\u001b[0m\u001b[0;34m)\u001b[0m\u001b[0;34m\u001b[0m\u001b[0m\n",
            "\u001b[0;32m/usr/local/lib/python3.6/dist-packages/tensorflow/python/client/session.py\u001b[0m in \u001b[0;36m_run\u001b[0;34m(self, handle, fetches, feed_dict, options, run_metadata)\u001b[0m\n\u001b[1;32m   1108\u001b[0m     \u001b[0;32mif\u001b[0m \u001b[0mfinal_fetches\u001b[0m \u001b[0;32mor\u001b[0m \u001b[0mfinal_targets\u001b[0m \u001b[0;32mor\u001b[0m \u001b[0;34m(\u001b[0m\u001b[0mhandle\u001b[0m \u001b[0;32mand\u001b[0m \u001b[0mfeed_dict_tensor\u001b[0m\u001b[0;34m)\u001b[0m\u001b[0;34m:\u001b[0m\u001b[0;34m\u001b[0m\u001b[0m\n\u001b[1;32m   1109\u001b[0m       results = self._do_run(handle, final_targets, final_fetches,\n\u001b[0;32m-> 1110\u001b[0;31m                              feed_dict_tensor, options, run_metadata)\n\u001b[0m\u001b[1;32m   1111\u001b[0m     \u001b[0;32melse\u001b[0m\u001b[0;34m:\u001b[0m\u001b[0;34m\u001b[0m\u001b[0m\n\u001b[1;32m   1112\u001b[0m       \u001b[0mresults\u001b[0m \u001b[0;34m=\u001b[0m \u001b[0;34m[\u001b[0m\u001b[0;34m]\u001b[0m\u001b[0;34m\u001b[0m\u001b[0m\n",
            "\u001b[0;32m/usr/local/lib/python3.6/dist-packages/tensorflow/python/client/session.py\u001b[0m in \u001b[0;36m_do_run\u001b[0;34m(self, handle, target_list, fetch_list, feed_dict, options, run_metadata)\u001b[0m\n\u001b[1;32m   1284\u001b[0m     \u001b[0;32mif\u001b[0m \u001b[0mhandle\u001b[0m \u001b[0;32mis\u001b[0m \u001b[0;32mNone\u001b[0m\u001b[0;34m:\u001b[0m\u001b[0;34m\u001b[0m\u001b[0m\n\u001b[1;32m   1285\u001b[0m       return self._do_call(_run_fn, feeds, fetches, targets, options,\n\u001b[0;32m-> 1286\u001b[0;31m                            run_metadata)\n\u001b[0m\u001b[1;32m   1287\u001b[0m     \u001b[0;32melse\u001b[0m\u001b[0;34m:\u001b[0m\u001b[0;34m\u001b[0m\u001b[0m\n\u001b[1;32m   1288\u001b[0m       \u001b[0;32mreturn\u001b[0m \u001b[0mself\u001b[0m\u001b[0;34m.\u001b[0m\u001b[0m_do_call\u001b[0m\u001b[0;34m(\u001b[0m\u001b[0m_prun_fn\u001b[0m\u001b[0;34m,\u001b[0m \u001b[0mhandle\u001b[0m\u001b[0;34m,\u001b[0m \u001b[0mfeeds\u001b[0m\u001b[0;34m,\u001b[0m \u001b[0mfetches\u001b[0m\u001b[0;34m)\u001b[0m\u001b[0;34m\u001b[0m\u001b[0m\n",
            "\u001b[0;32m/usr/local/lib/python3.6/dist-packages/tensorflow/python/client/session.py\u001b[0m in \u001b[0;36m_do_call\u001b[0;34m(self, fn, *args)\u001b[0m\n\u001b[1;32m   1290\u001b[0m   \u001b[0;32mdef\u001b[0m \u001b[0m_do_call\u001b[0m\u001b[0;34m(\u001b[0m\u001b[0mself\u001b[0m\u001b[0;34m,\u001b[0m \u001b[0mfn\u001b[0m\u001b[0;34m,\u001b[0m \u001b[0;34m*\u001b[0m\u001b[0margs\u001b[0m\u001b[0;34m)\u001b[0m\u001b[0;34m:\u001b[0m\u001b[0;34m\u001b[0m\u001b[0m\n\u001b[1;32m   1291\u001b[0m     \u001b[0;32mtry\u001b[0m\u001b[0;34m:\u001b[0m\u001b[0;34m\u001b[0m\u001b[0m\n\u001b[0;32m-> 1292\u001b[0;31m       \u001b[0;32mreturn\u001b[0m \u001b[0mfn\u001b[0m\u001b[0;34m(\u001b[0m\u001b[0;34m*\u001b[0m\u001b[0margs\u001b[0m\u001b[0;34m)\u001b[0m\u001b[0;34m\u001b[0m\u001b[0m\n\u001b[0m\u001b[1;32m   1293\u001b[0m     \u001b[0;32mexcept\u001b[0m \u001b[0merrors\u001b[0m\u001b[0;34m.\u001b[0m\u001b[0mOpError\u001b[0m \u001b[0;32mas\u001b[0m \u001b[0me\u001b[0m\u001b[0;34m:\u001b[0m\u001b[0;34m\u001b[0m\u001b[0m\n\u001b[1;32m   1294\u001b[0m       \u001b[0mmessage\u001b[0m \u001b[0;34m=\u001b[0m \u001b[0mcompat\u001b[0m\u001b[0;34m.\u001b[0m\u001b[0mas_text\u001b[0m\u001b[0;34m(\u001b[0m\u001b[0me\u001b[0m\u001b[0;34m.\u001b[0m\u001b[0mmessage\u001b[0m\u001b[0;34m)\u001b[0m\u001b[0;34m\u001b[0m\u001b[0m\n",
            "\u001b[0;32m/usr/local/lib/python3.6/dist-packages/tensorflow/python/client/session.py\u001b[0m in \u001b[0;36m_run_fn\u001b[0;34m(feed_dict, fetch_list, target_list, options, run_metadata)\u001b[0m\n\u001b[1;32m   1275\u001b[0m       \u001b[0mself\u001b[0m\u001b[0;34m.\u001b[0m\u001b[0m_extend_graph\u001b[0m\u001b[0;34m(\u001b[0m\u001b[0;34m)\u001b[0m\u001b[0;34m\u001b[0m\u001b[0m\n\u001b[1;32m   1276\u001b[0m       return self._call_tf_sessionrun(\n\u001b[0;32m-> 1277\u001b[0;31m           options, feed_dict, fetch_list, target_list, run_metadata)\n\u001b[0m\u001b[1;32m   1278\u001b[0m \u001b[0;34m\u001b[0m\u001b[0m\n\u001b[1;32m   1279\u001b[0m     \u001b[0;32mdef\u001b[0m \u001b[0m_prun_fn\u001b[0m\u001b[0;34m(\u001b[0m\u001b[0mhandle\u001b[0m\u001b[0;34m,\u001b[0m \u001b[0mfeed_dict\u001b[0m\u001b[0;34m,\u001b[0m \u001b[0mfetch_list\u001b[0m\u001b[0;34m)\u001b[0m\u001b[0;34m:\u001b[0m\u001b[0;34m\u001b[0m\u001b[0m\n",
            "\u001b[0;32m/usr/local/lib/python3.6/dist-packages/tensorflow/python/client/session.py\u001b[0m in \u001b[0;36m_call_tf_sessionrun\u001b[0;34m(self, options, feed_dict, fetch_list, target_list, run_metadata)\u001b[0m\n\u001b[1;32m   1365\u001b[0m     return tf_session.TF_SessionRun_wrapper(\n\u001b[1;32m   1366\u001b[0m         \u001b[0mself\u001b[0m\u001b[0;34m.\u001b[0m\u001b[0m_session\u001b[0m\u001b[0;34m,\u001b[0m \u001b[0moptions\u001b[0m\u001b[0;34m,\u001b[0m \u001b[0mfeed_dict\u001b[0m\u001b[0;34m,\u001b[0m \u001b[0mfetch_list\u001b[0m\u001b[0;34m,\u001b[0m \u001b[0mtarget_list\u001b[0m\u001b[0;34m,\u001b[0m\u001b[0;34m\u001b[0m\u001b[0m\n\u001b[0;32m-> 1367\u001b[0;31m         run_metadata)\n\u001b[0m\u001b[1;32m   1368\u001b[0m \u001b[0;34m\u001b[0m\u001b[0m\n\u001b[1;32m   1369\u001b[0m   \u001b[0;32mdef\u001b[0m \u001b[0m_call_tf_sessionprun\u001b[0m\u001b[0;34m(\u001b[0m\u001b[0mself\u001b[0m\u001b[0;34m,\u001b[0m \u001b[0mhandle\u001b[0m\u001b[0;34m,\u001b[0m \u001b[0mfeed_dict\u001b[0m\u001b[0;34m,\u001b[0m \u001b[0mfetch_list\u001b[0m\u001b[0;34m)\u001b[0m\u001b[0;34m:\u001b[0m\u001b[0;34m\u001b[0m\u001b[0m\n",
            "\u001b[0;31mKeyboardInterrupt\u001b[0m: "
          ]
        }
      ]
    },
    {
      "metadata": {
        "id": "_hqVzbBH0kx6",
        "colab_type": "code",
        "colab": {
          "base_uri": "https://localhost:8080/",
          "height": 304
        },
        "outputId": "08b1aead-a912-42f5-bf9e-ba2acc1a43a9"
      },
      "cell_type": "code",
      "source": [
        "import caffe"
      ],
      "execution_count": 27,
      "outputs": [
        {
          "output_type": "error",
          "ename": "ModuleNotFoundError",
          "evalue": "ignored",
          "traceback": [
            "\u001b[0;31m---------------------------------------------------------------------------\u001b[0m",
            "\u001b[0;31mModuleNotFoundError\u001b[0m                       Traceback (most recent call last)",
            "\u001b[0;32m<ipython-input-27-6e7bb19bc708>\u001b[0m in \u001b[0;36m<module>\u001b[0;34m()\u001b[0m\n\u001b[0;32m----> 1\u001b[0;31m \u001b[0;32mimport\u001b[0m \u001b[0mcaffe\u001b[0m\u001b[0;34m\u001b[0m\u001b[0m\n\u001b[0m",
            "\u001b[0;31mModuleNotFoundError\u001b[0m: No module named 'caffe'",
            "",
            "\u001b[0;31m---------------------------------------------------------------------------\u001b[0;32m\nNOTE: If your import is failing due to a missing package, you can\nmanually install dependencies using either !pip or !apt.\n\nTo view examples of installing some common dependencies, click the\n\"Open Examples\" button below.\n\u001b[0;31m---------------------------------------------------------------------------\u001b[0m\n"
          ]
        }
      ]
    },
    {
      "metadata": {
        "id": "jzKot0Jv1Qd5",
        "colab_type": "code",
        "colab": {}
      },
      "cell_type": "code",
      "source": [
        "import cv2"
      ],
      "execution_count": 0,
      "outputs": []
    },
    {
      "metadata": {
        "id": "Mu4gmSNX1ZKR",
        "colab_type": "code",
        "colab": {}
      },
      "cell_type": "code",
      "source": [
        "import pandas as pd\n",
        "from sklearn.model_selection import train_test_split\n",
        "from sklearn.svm import SVC\n",
        "from sklearn.metrics import accuracy_score\n",
        "\n",
        "# アヤメデータの読み込み --- (*1)\n",
        "iris_data = pd.read_csv(\"iris.csv\", encoding=\"utf-8\")"
      ],
      "execution_count": 0,
      "outputs": []
    },
    {
      "metadata": {
        "id": "C3dfJQ4o18Tc",
        "colab_type": "code",
        "colab": {
          "base_uri": "https://localhost:8080/",
          "height": 1969
        },
        "outputId": "cbb6fc60-ba5a-47d4-d715-f65c027c6238"
      },
      "cell_type": "code",
      "source": [
        "iris_data"
      ],
      "execution_count": 30,
      "outputs": [
        {
          "output_type": "execute_result",
          "data": {
            "text/html": [
              "<div>\n",
              "<style scoped>\n",
              "    .dataframe tbody tr th:only-of-type {\n",
              "        vertical-align: middle;\n",
              "    }\n",
              "\n",
              "    .dataframe tbody tr th {\n",
              "        vertical-align: top;\n",
              "    }\n",
              "\n",
              "    .dataframe thead th {\n",
              "        text-align: right;\n",
              "    }\n",
              "</style>\n",
              "<table border=\"1\" class=\"dataframe\">\n",
              "  <thead>\n",
              "    <tr style=\"text-align: right;\">\n",
              "      <th></th>\n",
              "      <th>SepalLength</th>\n",
              "      <th>SepalWidth</th>\n",
              "      <th>PetalLength</th>\n",
              "      <th>PetalWidth</th>\n",
              "      <th>Name</th>\n",
              "    </tr>\n",
              "  </thead>\n",
              "  <tbody>\n",
              "    <tr>\n",
              "      <th>0</th>\n",
              "      <td>5.1</td>\n",
              "      <td>3.5</td>\n",
              "      <td>1.4</td>\n",
              "      <td>0.2</td>\n",
              "      <td>Iris-setosa</td>\n",
              "    </tr>\n",
              "    <tr>\n",
              "      <th>1</th>\n",
              "      <td>4.9</td>\n",
              "      <td>3.0</td>\n",
              "      <td>1.4</td>\n",
              "      <td>0.2</td>\n",
              "      <td>Iris-setosa</td>\n",
              "    </tr>\n",
              "    <tr>\n",
              "      <th>2</th>\n",
              "      <td>4.7</td>\n",
              "      <td>3.2</td>\n",
              "      <td>1.3</td>\n",
              "      <td>0.2</td>\n",
              "      <td>Iris-setosa</td>\n",
              "    </tr>\n",
              "    <tr>\n",
              "      <th>3</th>\n",
              "      <td>4.6</td>\n",
              "      <td>3.1</td>\n",
              "      <td>1.5</td>\n",
              "      <td>0.2</td>\n",
              "      <td>Iris-setosa</td>\n",
              "    </tr>\n",
              "    <tr>\n",
              "      <th>4</th>\n",
              "      <td>5.0</td>\n",
              "      <td>3.6</td>\n",
              "      <td>1.4</td>\n",
              "      <td>0.2</td>\n",
              "      <td>Iris-setosa</td>\n",
              "    </tr>\n",
              "    <tr>\n",
              "      <th>5</th>\n",
              "      <td>5.4</td>\n",
              "      <td>3.9</td>\n",
              "      <td>1.7</td>\n",
              "      <td>0.4</td>\n",
              "      <td>Iris-setosa</td>\n",
              "    </tr>\n",
              "    <tr>\n",
              "      <th>6</th>\n",
              "      <td>4.6</td>\n",
              "      <td>3.4</td>\n",
              "      <td>1.4</td>\n",
              "      <td>0.3</td>\n",
              "      <td>Iris-setosa</td>\n",
              "    </tr>\n",
              "    <tr>\n",
              "      <th>7</th>\n",
              "      <td>5.0</td>\n",
              "      <td>3.4</td>\n",
              "      <td>1.5</td>\n",
              "      <td>0.2</td>\n",
              "      <td>Iris-setosa</td>\n",
              "    </tr>\n",
              "    <tr>\n",
              "      <th>8</th>\n",
              "      <td>4.4</td>\n",
              "      <td>2.9</td>\n",
              "      <td>1.4</td>\n",
              "      <td>0.2</td>\n",
              "      <td>Iris-setosa</td>\n",
              "    </tr>\n",
              "    <tr>\n",
              "      <th>9</th>\n",
              "      <td>4.9</td>\n",
              "      <td>3.1</td>\n",
              "      <td>1.5</td>\n",
              "      <td>0.1</td>\n",
              "      <td>Iris-setosa</td>\n",
              "    </tr>\n",
              "    <tr>\n",
              "      <th>10</th>\n",
              "      <td>5.4</td>\n",
              "      <td>3.7</td>\n",
              "      <td>1.5</td>\n",
              "      <td>0.2</td>\n",
              "      <td>Iris-setosa</td>\n",
              "    </tr>\n",
              "    <tr>\n",
              "      <th>11</th>\n",
              "      <td>4.8</td>\n",
              "      <td>3.4</td>\n",
              "      <td>1.6</td>\n",
              "      <td>0.2</td>\n",
              "      <td>Iris-setosa</td>\n",
              "    </tr>\n",
              "    <tr>\n",
              "      <th>12</th>\n",
              "      <td>4.8</td>\n",
              "      <td>3.0</td>\n",
              "      <td>1.4</td>\n",
              "      <td>0.1</td>\n",
              "      <td>Iris-setosa</td>\n",
              "    </tr>\n",
              "    <tr>\n",
              "      <th>13</th>\n",
              "      <td>4.3</td>\n",
              "      <td>3.0</td>\n",
              "      <td>1.1</td>\n",
              "      <td>0.1</td>\n",
              "      <td>Iris-setosa</td>\n",
              "    </tr>\n",
              "    <tr>\n",
              "      <th>14</th>\n",
              "      <td>5.8</td>\n",
              "      <td>4.0</td>\n",
              "      <td>1.2</td>\n",
              "      <td>0.2</td>\n",
              "      <td>Iris-setosa</td>\n",
              "    </tr>\n",
              "    <tr>\n",
              "      <th>15</th>\n",
              "      <td>5.7</td>\n",
              "      <td>4.4</td>\n",
              "      <td>1.5</td>\n",
              "      <td>0.4</td>\n",
              "      <td>Iris-setosa</td>\n",
              "    </tr>\n",
              "    <tr>\n",
              "      <th>16</th>\n",
              "      <td>5.4</td>\n",
              "      <td>3.9</td>\n",
              "      <td>1.3</td>\n",
              "      <td>0.4</td>\n",
              "      <td>Iris-setosa</td>\n",
              "    </tr>\n",
              "    <tr>\n",
              "      <th>17</th>\n",
              "      <td>5.1</td>\n",
              "      <td>3.5</td>\n",
              "      <td>1.4</td>\n",
              "      <td>0.3</td>\n",
              "      <td>Iris-setosa</td>\n",
              "    </tr>\n",
              "    <tr>\n",
              "      <th>18</th>\n",
              "      <td>5.7</td>\n",
              "      <td>3.8</td>\n",
              "      <td>1.7</td>\n",
              "      <td>0.3</td>\n",
              "      <td>Iris-setosa</td>\n",
              "    </tr>\n",
              "    <tr>\n",
              "      <th>19</th>\n",
              "      <td>5.1</td>\n",
              "      <td>3.8</td>\n",
              "      <td>1.5</td>\n",
              "      <td>0.3</td>\n",
              "      <td>Iris-setosa</td>\n",
              "    </tr>\n",
              "    <tr>\n",
              "      <th>20</th>\n",
              "      <td>5.4</td>\n",
              "      <td>3.4</td>\n",
              "      <td>1.7</td>\n",
              "      <td>0.2</td>\n",
              "      <td>Iris-setosa</td>\n",
              "    </tr>\n",
              "    <tr>\n",
              "      <th>21</th>\n",
              "      <td>5.1</td>\n",
              "      <td>3.7</td>\n",
              "      <td>1.5</td>\n",
              "      <td>0.4</td>\n",
              "      <td>Iris-setosa</td>\n",
              "    </tr>\n",
              "    <tr>\n",
              "      <th>22</th>\n",
              "      <td>4.6</td>\n",
              "      <td>3.6</td>\n",
              "      <td>1.0</td>\n",
              "      <td>0.2</td>\n",
              "      <td>Iris-setosa</td>\n",
              "    </tr>\n",
              "    <tr>\n",
              "      <th>23</th>\n",
              "      <td>5.1</td>\n",
              "      <td>3.3</td>\n",
              "      <td>1.7</td>\n",
              "      <td>0.5</td>\n",
              "      <td>Iris-setosa</td>\n",
              "    </tr>\n",
              "    <tr>\n",
              "      <th>24</th>\n",
              "      <td>4.8</td>\n",
              "      <td>3.4</td>\n",
              "      <td>1.9</td>\n",
              "      <td>0.2</td>\n",
              "      <td>Iris-setosa</td>\n",
              "    </tr>\n",
              "    <tr>\n",
              "      <th>25</th>\n",
              "      <td>5.0</td>\n",
              "      <td>3.0</td>\n",
              "      <td>1.6</td>\n",
              "      <td>0.2</td>\n",
              "      <td>Iris-setosa</td>\n",
              "    </tr>\n",
              "    <tr>\n",
              "      <th>26</th>\n",
              "      <td>5.0</td>\n",
              "      <td>3.4</td>\n",
              "      <td>1.6</td>\n",
              "      <td>0.4</td>\n",
              "      <td>Iris-setosa</td>\n",
              "    </tr>\n",
              "    <tr>\n",
              "      <th>27</th>\n",
              "      <td>5.2</td>\n",
              "      <td>3.5</td>\n",
              "      <td>1.5</td>\n",
              "      <td>0.2</td>\n",
              "      <td>Iris-setosa</td>\n",
              "    </tr>\n",
              "    <tr>\n",
              "      <th>28</th>\n",
              "      <td>5.2</td>\n",
              "      <td>3.4</td>\n",
              "      <td>1.4</td>\n",
              "      <td>0.2</td>\n",
              "      <td>Iris-setosa</td>\n",
              "    </tr>\n",
              "    <tr>\n",
              "      <th>29</th>\n",
              "      <td>4.7</td>\n",
              "      <td>3.2</td>\n",
              "      <td>1.6</td>\n",
              "      <td>0.2</td>\n",
              "      <td>Iris-setosa</td>\n",
              "    </tr>\n",
              "    <tr>\n",
              "      <th>...</th>\n",
              "      <td>...</td>\n",
              "      <td>...</td>\n",
              "      <td>...</td>\n",
              "      <td>...</td>\n",
              "      <td>...</td>\n",
              "    </tr>\n",
              "    <tr>\n",
              "      <th>120</th>\n",
              "      <td>6.9</td>\n",
              "      <td>3.2</td>\n",
              "      <td>5.7</td>\n",
              "      <td>2.3</td>\n",
              "      <td>Iris-virginica</td>\n",
              "    </tr>\n",
              "    <tr>\n",
              "      <th>121</th>\n",
              "      <td>5.6</td>\n",
              "      <td>2.8</td>\n",
              "      <td>4.9</td>\n",
              "      <td>2.0</td>\n",
              "      <td>Iris-virginica</td>\n",
              "    </tr>\n",
              "    <tr>\n",
              "      <th>122</th>\n",
              "      <td>7.7</td>\n",
              "      <td>2.8</td>\n",
              "      <td>6.7</td>\n",
              "      <td>2.0</td>\n",
              "      <td>Iris-virginica</td>\n",
              "    </tr>\n",
              "    <tr>\n",
              "      <th>123</th>\n",
              "      <td>6.3</td>\n",
              "      <td>2.7</td>\n",
              "      <td>4.9</td>\n",
              "      <td>1.8</td>\n",
              "      <td>Iris-virginica</td>\n",
              "    </tr>\n",
              "    <tr>\n",
              "      <th>124</th>\n",
              "      <td>6.7</td>\n",
              "      <td>3.3</td>\n",
              "      <td>5.7</td>\n",
              "      <td>2.1</td>\n",
              "      <td>Iris-virginica</td>\n",
              "    </tr>\n",
              "    <tr>\n",
              "      <th>125</th>\n",
              "      <td>7.2</td>\n",
              "      <td>3.2</td>\n",
              "      <td>6.0</td>\n",
              "      <td>1.8</td>\n",
              "      <td>Iris-virginica</td>\n",
              "    </tr>\n",
              "    <tr>\n",
              "      <th>126</th>\n",
              "      <td>6.2</td>\n",
              "      <td>2.8</td>\n",
              "      <td>4.8</td>\n",
              "      <td>1.8</td>\n",
              "      <td>Iris-virginica</td>\n",
              "    </tr>\n",
              "    <tr>\n",
              "      <th>127</th>\n",
              "      <td>6.1</td>\n",
              "      <td>3.0</td>\n",
              "      <td>4.9</td>\n",
              "      <td>1.8</td>\n",
              "      <td>Iris-virginica</td>\n",
              "    </tr>\n",
              "    <tr>\n",
              "      <th>128</th>\n",
              "      <td>6.4</td>\n",
              "      <td>2.8</td>\n",
              "      <td>5.6</td>\n",
              "      <td>2.1</td>\n",
              "      <td>Iris-virginica</td>\n",
              "    </tr>\n",
              "    <tr>\n",
              "      <th>129</th>\n",
              "      <td>7.2</td>\n",
              "      <td>3.0</td>\n",
              "      <td>5.8</td>\n",
              "      <td>1.6</td>\n",
              "      <td>Iris-virginica</td>\n",
              "    </tr>\n",
              "    <tr>\n",
              "      <th>130</th>\n",
              "      <td>7.4</td>\n",
              "      <td>2.8</td>\n",
              "      <td>6.1</td>\n",
              "      <td>1.9</td>\n",
              "      <td>Iris-virginica</td>\n",
              "    </tr>\n",
              "    <tr>\n",
              "      <th>131</th>\n",
              "      <td>7.9</td>\n",
              "      <td>3.8</td>\n",
              "      <td>6.4</td>\n",
              "      <td>2.0</td>\n",
              "      <td>Iris-virginica</td>\n",
              "    </tr>\n",
              "    <tr>\n",
              "      <th>132</th>\n",
              "      <td>6.4</td>\n",
              "      <td>2.8</td>\n",
              "      <td>5.6</td>\n",
              "      <td>2.2</td>\n",
              "      <td>Iris-virginica</td>\n",
              "    </tr>\n",
              "    <tr>\n",
              "      <th>133</th>\n",
              "      <td>6.3</td>\n",
              "      <td>2.8</td>\n",
              "      <td>5.1</td>\n",
              "      <td>1.5</td>\n",
              "      <td>Iris-virginica</td>\n",
              "    </tr>\n",
              "    <tr>\n",
              "      <th>134</th>\n",
              "      <td>6.1</td>\n",
              "      <td>2.6</td>\n",
              "      <td>5.6</td>\n",
              "      <td>1.4</td>\n",
              "      <td>Iris-virginica</td>\n",
              "    </tr>\n",
              "    <tr>\n",
              "      <th>135</th>\n",
              "      <td>7.7</td>\n",
              "      <td>3.0</td>\n",
              "      <td>6.1</td>\n",
              "      <td>2.3</td>\n",
              "      <td>Iris-virginica</td>\n",
              "    </tr>\n",
              "    <tr>\n",
              "      <th>136</th>\n",
              "      <td>6.3</td>\n",
              "      <td>3.4</td>\n",
              "      <td>5.6</td>\n",
              "      <td>2.4</td>\n",
              "      <td>Iris-virginica</td>\n",
              "    </tr>\n",
              "    <tr>\n",
              "      <th>137</th>\n",
              "      <td>6.4</td>\n",
              "      <td>3.1</td>\n",
              "      <td>5.5</td>\n",
              "      <td>1.8</td>\n",
              "      <td>Iris-virginica</td>\n",
              "    </tr>\n",
              "    <tr>\n",
              "      <th>138</th>\n",
              "      <td>6.0</td>\n",
              "      <td>3.0</td>\n",
              "      <td>4.8</td>\n",
              "      <td>1.8</td>\n",
              "      <td>Iris-virginica</td>\n",
              "    </tr>\n",
              "    <tr>\n",
              "      <th>139</th>\n",
              "      <td>6.9</td>\n",
              "      <td>3.1</td>\n",
              "      <td>5.4</td>\n",
              "      <td>2.1</td>\n",
              "      <td>Iris-virginica</td>\n",
              "    </tr>\n",
              "    <tr>\n",
              "      <th>140</th>\n",
              "      <td>6.7</td>\n",
              "      <td>3.1</td>\n",
              "      <td>5.6</td>\n",
              "      <td>2.4</td>\n",
              "      <td>Iris-virginica</td>\n",
              "    </tr>\n",
              "    <tr>\n",
              "      <th>141</th>\n",
              "      <td>6.9</td>\n",
              "      <td>3.1</td>\n",
              "      <td>5.1</td>\n",
              "      <td>2.3</td>\n",
              "      <td>Iris-virginica</td>\n",
              "    </tr>\n",
              "    <tr>\n",
              "      <th>142</th>\n",
              "      <td>5.8</td>\n",
              "      <td>2.7</td>\n",
              "      <td>5.1</td>\n",
              "      <td>1.9</td>\n",
              "      <td>Iris-virginica</td>\n",
              "    </tr>\n",
              "    <tr>\n",
              "      <th>143</th>\n",
              "      <td>6.8</td>\n",
              "      <td>3.2</td>\n",
              "      <td>5.9</td>\n",
              "      <td>2.3</td>\n",
              "      <td>Iris-virginica</td>\n",
              "    </tr>\n",
              "    <tr>\n",
              "      <th>144</th>\n",
              "      <td>6.7</td>\n",
              "      <td>3.3</td>\n",
              "      <td>5.7</td>\n",
              "      <td>2.5</td>\n",
              "      <td>Iris-virginica</td>\n",
              "    </tr>\n",
              "    <tr>\n",
              "      <th>145</th>\n",
              "      <td>6.7</td>\n",
              "      <td>3.0</td>\n",
              "      <td>5.2</td>\n",
              "      <td>2.3</td>\n",
              "      <td>Iris-virginica</td>\n",
              "    </tr>\n",
              "    <tr>\n",
              "      <th>146</th>\n",
              "      <td>6.3</td>\n",
              "      <td>2.5</td>\n",
              "      <td>5.0</td>\n",
              "      <td>1.9</td>\n",
              "      <td>Iris-virginica</td>\n",
              "    </tr>\n",
              "    <tr>\n",
              "      <th>147</th>\n",
              "      <td>6.5</td>\n",
              "      <td>3.0</td>\n",
              "      <td>5.2</td>\n",
              "      <td>2.0</td>\n",
              "      <td>Iris-virginica</td>\n",
              "    </tr>\n",
              "    <tr>\n",
              "      <th>148</th>\n",
              "      <td>6.2</td>\n",
              "      <td>3.4</td>\n",
              "      <td>5.4</td>\n",
              "      <td>2.3</td>\n",
              "      <td>Iris-virginica</td>\n",
              "    </tr>\n",
              "    <tr>\n",
              "      <th>149</th>\n",
              "      <td>5.9</td>\n",
              "      <td>3.0</td>\n",
              "      <td>5.1</td>\n",
              "      <td>1.8</td>\n",
              "      <td>Iris-virginica</td>\n",
              "    </tr>\n",
              "  </tbody>\n",
              "</table>\n",
              "<p>150 rows × 5 columns</p>\n",
              "</div>"
            ],
            "text/plain": [
              "     SepalLength  SepalWidth  PetalLength  PetalWidth            Name\n",
              "0            5.1         3.5          1.4         0.2     Iris-setosa\n",
              "1            4.9         3.0          1.4         0.2     Iris-setosa\n",
              "2            4.7         3.2          1.3         0.2     Iris-setosa\n",
              "3            4.6         3.1          1.5         0.2     Iris-setosa\n",
              "4            5.0         3.6          1.4         0.2     Iris-setosa\n",
              "5            5.4         3.9          1.7         0.4     Iris-setosa\n",
              "6            4.6         3.4          1.4         0.3     Iris-setosa\n",
              "7            5.0         3.4          1.5         0.2     Iris-setosa\n",
              "8            4.4         2.9          1.4         0.2     Iris-setosa\n",
              "9            4.9         3.1          1.5         0.1     Iris-setosa\n",
              "10           5.4         3.7          1.5         0.2     Iris-setosa\n",
              "11           4.8         3.4          1.6         0.2     Iris-setosa\n",
              "12           4.8         3.0          1.4         0.1     Iris-setosa\n",
              "13           4.3         3.0          1.1         0.1     Iris-setosa\n",
              "14           5.8         4.0          1.2         0.2     Iris-setosa\n",
              "15           5.7         4.4          1.5         0.4     Iris-setosa\n",
              "16           5.4         3.9          1.3         0.4     Iris-setosa\n",
              "17           5.1         3.5          1.4         0.3     Iris-setosa\n",
              "18           5.7         3.8          1.7         0.3     Iris-setosa\n",
              "19           5.1         3.8          1.5         0.3     Iris-setosa\n",
              "20           5.4         3.4          1.7         0.2     Iris-setosa\n",
              "21           5.1         3.7          1.5         0.4     Iris-setosa\n",
              "22           4.6         3.6          1.0         0.2     Iris-setosa\n",
              "23           5.1         3.3          1.7         0.5     Iris-setosa\n",
              "24           4.8         3.4          1.9         0.2     Iris-setosa\n",
              "25           5.0         3.0          1.6         0.2     Iris-setosa\n",
              "26           5.0         3.4          1.6         0.4     Iris-setosa\n",
              "27           5.2         3.5          1.5         0.2     Iris-setosa\n",
              "28           5.2         3.4          1.4         0.2     Iris-setosa\n",
              "29           4.7         3.2          1.6         0.2     Iris-setosa\n",
              "..           ...         ...          ...         ...             ...\n",
              "120          6.9         3.2          5.7         2.3  Iris-virginica\n",
              "121          5.6         2.8          4.9         2.0  Iris-virginica\n",
              "122          7.7         2.8          6.7         2.0  Iris-virginica\n",
              "123          6.3         2.7          4.9         1.8  Iris-virginica\n",
              "124          6.7         3.3          5.7         2.1  Iris-virginica\n",
              "125          7.2         3.2          6.0         1.8  Iris-virginica\n",
              "126          6.2         2.8          4.8         1.8  Iris-virginica\n",
              "127          6.1         3.0          4.9         1.8  Iris-virginica\n",
              "128          6.4         2.8          5.6         2.1  Iris-virginica\n",
              "129          7.2         3.0          5.8         1.6  Iris-virginica\n",
              "130          7.4         2.8          6.1         1.9  Iris-virginica\n",
              "131          7.9         3.8          6.4         2.0  Iris-virginica\n",
              "132          6.4         2.8          5.6         2.2  Iris-virginica\n",
              "133          6.3         2.8          5.1         1.5  Iris-virginica\n",
              "134          6.1         2.6          5.6         1.4  Iris-virginica\n",
              "135          7.7         3.0          6.1         2.3  Iris-virginica\n",
              "136          6.3         3.4          5.6         2.4  Iris-virginica\n",
              "137          6.4         3.1          5.5         1.8  Iris-virginica\n",
              "138          6.0         3.0          4.8         1.8  Iris-virginica\n",
              "139          6.9         3.1          5.4         2.1  Iris-virginica\n",
              "140          6.7         3.1          5.6         2.4  Iris-virginica\n",
              "141          6.9         3.1          5.1         2.3  Iris-virginica\n",
              "142          5.8         2.7          5.1         1.9  Iris-virginica\n",
              "143          6.8         3.2          5.9         2.3  Iris-virginica\n",
              "144          6.7         3.3          5.7         2.5  Iris-virginica\n",
              "145          6.7         3.0          5.2         2.3  Iris-virginica\n",
              "146          6.3         2.5          5.0         1.9  Iris-virginica\n",
              "147          6.5         3.0          5.2         2.0  Iris-virginica\n",
              "148          6.2         3.4          5.4         2.3  Iris-virginica\n",
              "149          5.9         3.0          5.1         1.8  Iris-virginica\n",
              "\n",
              "[150 rows x 5 columns]"
            ]
          },
          "metadata": {
            "tags": []
          },
          "execution_count": 30
        }
      ]
    },
    {
      "metadata": {
        "id": "87vyf_Cu2DfH",
        "colab_type": "code",
        "colab": {
          "base_uri": "https://localhost:8080/",
          "height": 1969
        },
        "outputId": "785fc9e5-33c6-48d5-b99c-d0e51636acf3"
      },
      "cell_type": "code",
      "source": [
        "iris_data"
      ],
      "execution_count": 31,
      "outputs": [
        {
          "output_type": "execute_result",
          "data": {
            "text/html": [
              "<div>\n",
              "<style scoped>\n",
              "    .dataframe tbody tr th:only-of-type {\n",
              "        vertical-align: middle;\n",
              "    }\n",
              "\n",
              "    .dataframe tbody tr th {\n",
              "        vertical-align: top;\n",
              "    }\n",
              "\n",
              "    .dataframe thead th {\n",
              "        text-align: right;\n",
              "    }\n",
              "</style>\n",
              "<table border=\"1\" class=\"dataframe\">\n",
              "  <thead>\n",
              "    <tr style=\"text-align: right;\">\n",
              "      <th></th>\n",
              "      <th>SepalLength</th>\n",
              "      <th>SepalWidth</th>\n",
              "      <th>PetalLength</th>\n",
              "      <th>PetalWidth</th>\n",
              "      <th>Name</th>\n",
              "    </tr>\n",
              "  </thead>\n",
              "  <tbody>\n",
              "    <tr>\n",
              "      <th>0</th>\n",
              "      <td>5.1</td>\n",
              "      <td>3.5</td>\n",
              "      <td>1.4</td>\n",
              "      <td>0.2</td>\n",
              "      <td>Iris-setosa</td>\n",
              "    </tr>\n",
              "    <tr>\n",
              "      <th>1</th>\n",
              "      <td>4.9</td>\n",
              "      <td>3.0</td>\n",
              "      <td>1.4</td>\n",
              "      <td>0.2</td>\n",
              "      <td>Iris-setosa</td>\n",
              "    </tr>\n",
              "    <tr>\n",
              "      <th>2</th>\n",
              "      <td>4.7</td>\n",
              "      <td>3.2</td>\n",
              "      <td>1.3</td>\n",
              "      <td>0.2</td>\n",
              "      <td>Iris-setosa</td>\n",
              "    </tr>\n",
              "    <tr>\n",
              "      <th>3</th>\n",
              "      <td>4.6</td>\n",
              "      <td>3.1</td>\n",
              "      <td>1.5</td>\n",
              "      <td>0.2</td>\n",
              "      <td>Iris-setosa</td>\n",
              "    </tr>\n",
              "    <tr>\n",
              "      <th>4</th>\n",
              "      <td>5.0</td>\n",
              "      <td>3.6</td>\n",
              "      <td>1.4</td>\n",
              "      <td>0.2</td>\n",
              "      <td>Iris-setosa</td>\n",
              "    </tr>\n",
              "    <tr>\n",
              "      <th>5</th>\n",
              "      <td>5.4</td>\n",
              "      <td>3.9</td>\n",
              "      <td>1.7</td>\n",
              "      <td>0.4</td>\n",
              "      <td>Iris-setosa</td>\n",
              "    </tr>\n",
              "    <tr>\n",
              "      <th>6</th>\n",
              "      <td>4.6</td>\n",
              "      <td>3.4</td>\n",
              "      <td>1.4</td>\n",
              "      <td>0.3</td>\n",
              "      <td>Iris-setosa</td>\n",
              "    </tr>\n",
              "    <tr>\n",
              "      <th>7</th>\n",
              "      <td>5.0</td>\n",
              "      <td>3.4</td>\n",
              "      <td>1.5</td>\n",
              "      <td>0.2</td>\n",
              "      <td>Iris-setosa</td>\n",
              "    </tr>\n",
              "    <tr>\n",
              "      <th>8</th>\n",
              "      <td>4.4</td>\n",
              "      <td>2.9</td>\n",
              "      <td>1.4</td>\n",
              "      <td>0.2</td>\n",
              "      <td>Iris-setosa</td>\n",
              "    </tr>\n",
              "    <tr>\n",
              "      <th>9</th>\n",
              "      <td>4.9</td>\n",
              "      <td>3.1</td>\n",
              "      <td>1.5</td>\n",
              "      <td>0.1</td>\n",
              "      <td>Iris-setosa</td>\n",
              "    </tr>\n",
              "    <tr>\n",
              "      <th>10</th>\n",
              "      <td>5.4</td>\n",
              "      <td>3.7</td>\n",
              "      <td>1.5</td>\n",
              "      <td>0.2</td>\n",
              "      <td>Iris-setosa</td>\n",
              "    </tr>\n",
              "    <tr>\n",
              "      <th>11</th>\n",
              "      <td>4.8</td>\n",
              "      <td>3.4</td>\n",
              "      <td>1.6</td>\n",
              "      <td>0.2</td>\n",
              "      <td>Iris-setosa</td>\n",
              "    </tr>\n",
              "    <tr>\n",
              "      <th>12</th>\n",
              "      <td>4.8</td>\n",
              "      <td>3.0</td>\n",
              "      <td>1.4</td>\n",
              "      <td>0.1</td>\n",
              "      <td>Iris-setosa</td>\n",
              "    </tr>\n",
              "    <tr>\n",
              "      <th>13</th>\n",
              "      <td>4.3</td>\n",
              "      <td>3.0</td>\n",
              "      <td>1.1</td>\n",
              "      <td>0.1</td>\n",
              "      <td>Iris-setosa</td>\n",
              "    </tr>\n",
              "    <tr>\n",
              "      <th>14</th>\n",
              "      <td>5.8</td>\n",
              "      <td>4.0</td>\n",
              "      <td>1.2</td>\n",
              "      <td>0.2</td>\n",
              "      <td>Iris-setosa</td>\n",
              "    </tr>\n",
              "    <tr>\n",
              "      <th>15</th>\n",
              "      <td>5.7</td>\n",
              "      <td>4.4</td>\n",
              "      <td>1.5</td>\n",
              "      <td>0.4</td>\n",
              "      <td>Iris-setosa</td>\n",
              "    </tr>\n",
              "    <tr>\n",
              "      <th>16</th>\n",
              "      <td>5.4</td>\n",
              "      <td>3.9</td>\n",
              "      <td>1.3</td>\n",
              "      <td>0.4</td>\n",
              "      <td>Iris-setosa</td>\n",
              "    </tr>\n",
              "    <tr>\n",
              "      <th>17</th>\n",
              "      <td>5.1</td>\n",
              "      <td>3.5</td>\n",
              "      <td>1.4</td>\n",
              "      <td>0.3</td>\n",
              "      <td>Iris-setosa</td>\n",
              "    </tr>\n",
              "    <tr>\n",
              "      <th>18</th>\n",
              "      <td>5.7</td>\n",
              "      <td>3.8</td>\n",
              "      <td>1.7</td>\n",
              "      <td>0.3</td>\n",
              "      <td>Iris-setosa</td>\n",
              "    </tr>\n",
              "    <tr>\n",
              "      <th>19</th>\n",
              "      <td>5.1</td>\n",
              "      <td>3.8</td>\n",
              "      <td>1.5</td>\n",
              "      <td>0.3</td>\n",
              "      <td>Iris-setosa</td>\n",
              "    </tr>\n",
              "    <tr>\n",
              "      <th>20</th>\n",
              "      <td>5.4</td>\n",
              "      <td>3.4</td>\n",
              "      <td>1.7</td>\n",
              "      <td>0.2</td>\n",
              "      <td>Iris-setosa</td>\n",
              "    </tr>\n",
              "    <tr>\n",
              "      <th>21</th>\n",
              "      <td>5.1</td>\n",
              "      <td>3.7</td>\n",
              "      <td>1.5</td>\n",
              "      <td>0.4</td>\n",
              "      <td>Iris-setosa</td>\n",
              "    </tr>\n",
              "    <tr>\n",
              "      <th>22</th>\n",
              "      <td>4.6</td>\n",
              "      <td>3.6</td>\n",
              "      <td>1.0</td>\n",
              "      <td>0.2</td>\n",
              "      <td>Iris-setosa</td>\n",
              "    </tr>\n",
              "    <tr>\n",
              "      <th>23</th>\n",
              "      <td>5.1</td>\n",
              "      <td>3.3</td>\n",
              "      <td>1.7</td>\n",
              "      <td>0.5</td>\n",
              "      <td>Iris-setosa</td>\n",
              "    </tr>\n",
              "    <tr>\n",
              "      <th>24</th>\n",
              "      <td>4.8</td>\n",
              "      <td>3.4</td>\n",
              "      <td>1.9</td>\n",
              "      <td>0.2</td>\n",
              "      <td>Iris-setosa</td>\n",
              "    </tr>\n",
              "    <tr>\n",
              "      <th>25</th>\n",
              "      <td>5.0</td>\n",
              "      <td>3.0</td>\n",
              "      <td>1.6</td>\n",
              "      <td>0.2</td>\n",
              "      <td>Iris-setosa</td>\n",
              "    </tr>\n",
              "    <tr>\n",
              "      <th>26</th>\n",
              "      <td>5.0</td>\n",
              "      <td>3.4</td>\n",
              "      <td>1.6</td>\n",
              "      <td>0.4</td>\n",
              "      <td>Iris-setosa</td>\n",
              "    </tr>\n",
              "    <tr>\n",
              "      <th>27</th>\n",
              "      <td>5.2</td>\n",
              "      <td>3.5</td>\n",
              "      <td>1.5</td>\n",
              "      <td>0.2</td>\n",
              "      <td>Iris-setosa</td>\n",
              "    </tr>\n",
              "    <tr>\n",
              "      <th>28</th>\n",
              "      <td>5.2</td>\n",
              "      <td>3.4</td>\n",
              "      <td>1.4</td>\n",
              "      <td>0.2</td>\n",
              "      <td>Iris-setosa</td>\n",
              "    </tr>\n",
              "    <tr>\n",
              "      <th>29</th>\n",
              "      <td>4.7</td>\n",
              "      <td>3.2</td>\n",
              "      <td>1.6</td>\n",
              "      <td>0.2</td>\n",
              "      <td>Iris-setosa</td>\n",
              "    </tr>\n",
              "    <tr>\n",
              "      <th>...</th>\n",
              "      <td>...</td>\n",
              "      <td>...</td>\n",
              "      <td>...</td>\n",
              "      <td>...</td>\n",
              "      <td>...</td>\n",
              "    </tr>\n",
              "    <tr>\n",
              "      <th>120</th>\n",
              "      <td>6.9</td>\n",
              "      <td>3.2</td>\n",
              "      <td>5.7</td>\n",
              "      <td>2.3</td>\n",
              "      <td>Iris-virginica</td>\n",
              "    </tr>\n",
              "    <tr>\n",
              "      <th>121</th>\n",
              "      <td>5.6</td>\n",
              "      <td>2.8</td>\n",
              "      <td>4.9</td>\n",
              "      <td>2.0</td>\n",
              "      <td>Iris-virginica</td>\n",
              "    </tr>\n",
              "    <tr>\n",
              "      <th>122</th>\n",
              "      <td>7.7</td>\n",
              "      <td>2.8</td>\n",
              "      <td>6.7</td>\n",
              "      <td>2.0</td>\n",
              "      <td>Iris-virginica</td>\n",
              "    </tr>\n",
              "    <tr>\n",
              "      <th>123</th>\n",
              "      <td>6.3</td>\n",
              "      <td>2.7</td>\n",
              "      <td>4.9</td>\n",
              "      <td>1.8</td>\n",
              "      <td>Iris-virginica</td>\n",
              "    </tr>\n",
              "    <tr>\n",
              "      <th>124</th>\n",
              "      <td>6.7</td>\n",
              "      <td>3.3</td>\n",
              "      <td>5.7</td>\n",
              "      <td>2.1</td>\n",
              "      <td>Iris-virginica</td>\n",
              "    </tr>\n",
              "    <tr>\n",
              "      <th>125</th>\n",
              "      <td>7.2</td>\n",
              "      <td>3.2</td>\n",
              "      <td>6.0</td>\n",
              "      <td>1.8</td>\n",
              "      <td>Iris-virginica</td>\n",
              "    </tr>\n",
              "    <tr>\n",
              "      <th>126</th>\n",
              "      <td>6.2</td>\n",
              "      <td>2.8</td>\n",
              "      <td>4.8</td>\n",
              "      <td>1.8</td>\n",
              "      <td>Iris-virginica</td>\n",
              "    </tr>\n",
              "    <tr>\n",
              "      <th>127</th>\n",
              "      <td>6.1</td>\n",
              "      <td>3.0</td>\n",
              "      <td>4.9</td>\n",
              "      <td>1.8</td>\n",
              "      <td>Iris-virginica</td>\n",
              "    </tr>\n",
              "    <tr>\n",
              "      <th>128</th>\n",
              "      <td>6.4</td>\n",
              "      <td>2.8</td>\n",
              "      <td>5.6</td>\n",
              "      <td>2.1</td>\n",
              "      <td>Iris-virginica</td>\n",
              "    </tr>\n",
              "    <tr>\n",
              "      <th>129</th>\n",
              "      <td>7.2</td>\n",
              "      <td>3.0</td>\n",
              "      <td>5.8</td>\n",
              "      <td>1.6</td>\n",
              "      <td>Iris-virginica</td>\n",
              "    </tr>\n",
              "    <tr>\n",
              "      <th>130</th>\n",
              "      <td>7.4</td>\n",
              "      <td>2.8</td>\n",
              "      <td>6.1</td>\n",
              "      <td>1.9</td>\n",
              "      <td>Iris-virginica</td>\n",
              "    </tr>\n",
              "    <tr>\n",
              "      <th>131</th>\n",
              "      <td>7.9</td>\n",
              "      <td>3.8</td>\n",
              "      <td>6.4</td>\n",
              "      <td>2.0</td>\n",
              "      <td>Iris-virginica</td>\n",
              "    </tr>\n",
              "    <tr>\n",
              "      <th>132</th>\n",
              "      <td>6.4</td>\n",
              "      <td>2.8</td>\n",
              "      <td>5.6</td>\n",
              "      <td>2.2</td>\n",
              "      <td>Iris-virginica</td>\n",
              "    </tr>\n",
              "    <tr>\n",
              "      <th>133</th>\n",
              "      <td>6.3</td>\n",
              "      <td>2.8</td>\n",
              "      <td>5.1</td>\n",
              "      <td>1.5</td>\n",
              "      <td>Iris-virginica</td>\n",
              "    </tr>\n",
              "    <tr>\n",
              "      <th>134</th>\n",
              "      <td>6.1</td>\n",
              "      <td>2.6</td>\n",
              "      <td>5.6</td>\n",
              "      <td>1.4</td>\n",
              "      <td>Iris-virginica</td>\n",
              "    </tr>\n",
              "    <tr>\n",
              "      <th>135</th>\n",
              "      <td>7.7</td>\n",
              "      <td>3.0</td>\n",
              "      <td>6.1</td>\n",
              "      <td>2.3</td>\n",
              "      <td>Iris-virginica</td>\n",
              "    </tr>\n",
              "    <tr>\n",
              "      <th>136</th>\n",
              "      <td>6.3</td>\n",
              "      <td>3.4</td>\n",
              "      <td>5.6</td>\n",
              "      <td>2.4</td>\n",
              "      <td>Iris-virginica</td>\n",
              "    </tr>\n",
              "    <tr>\n",
              "      <th>137</th>\n",
              "      <td>6.4</td>\n",
              "      <td>3.1</td>\n",
              "      <td>5.5</td>\n",
              "      <td>1.8</td>\n",
              "      <td>Iris-virginica</td>\n",
              "    </tr>\n",
              "    <tr>\n",
              "      <th>138</th>\n",
              "      <td>6.0</td>\n",
              "      <td>3.0</td>\n",
              "      <td>4.8</td>\n",
              "      <td>1.8</td>\n",
              "      <td>Iris-virginica</td>\n",
              "    </tr>\n",
              "    <tr>\n",
              "      <th>139</th>\n",
              "      <td>6.9</td>\n",
              "      <td>3.1</td>\n",
              "      <td>5.4</td>\n",
              "      <td>2.1</td>\n",
              "      <td>Iris-virginica</td>\n",
              "    </tr>\n",
              "    <tr>\n",
              "      <th>140</th>\n",
              "      <td>6.7</td>\n",
              "      <td>3.1</td>\n",
              "      <td>5.6</td>\n",
              "      <td>2.4</td>\n",
              "      <td>Iris-virginica</td>\n",
              "    </tr>\n",
              "    <tr>\n",
              "      <th>141</th>\n",
              "      <td>6.9</td>\n",
              "      <td>3.1</td>\n",
              "      <td>5.1</td>\n",
              "      <td>2.3</td>\n",
              "      <td>Iris-virginica</td>\n",
              "    </tr>\n",
              "    <tr>\n",
              "      <th>142</th>\n",
              "      <td>5.8</td>\n",
              "      <td>2.7</td>\n",
              "      <td>5.1</td>\n",
              "      <td>1.9</td>\n",
              "      <td>Iris-virginica</td>\n",
              "    </tr>\n",
              "    <tr>\n",
              "      <th>143</th>\n",
              "      <td>6.8</td>\n",
              "      <td>3.2</td>\n",
              "      <td>5.9</td>\n",
              "      <td>2.3</td>\n",
              "      <td>Iris-virginica</td>\n",
              "    </tr>\n",
              "    <tr>\n",
              "      <th>144</th>\n",
              "      <td>6.7</td>\n",
              "      <td>3.3</td>\n",
              "      <td>5.7</td>\n",
              "      <td>2.5</td>\n",
              "      <td>Iris-virginica</td>\n",
              "    </tr>\n",
              "    <tr>\n",
              "      <th>145</th>\n",
              "      <td>6.7</td>\n",
              "      <td>3.0</td>\n",
              "      <td>5.2</td>\n",
              "      <td>2.3</td>\n",
              "      <td>Iris-virginica</td>\n",
              "    </tr>\n",
              "    <tr>\n",
              "      <th>146</th>\n",
              "      <td>6.3</td>\n",
              "      <td>2.5</td>\n",
              "      <td>5.0</td>\n",
              "      <td>1.9</td>\n",
              "      <td>Iris-virginica</td>\n",
              "    </tr>\n",
              "    <tr>\n",
              "      <th>147</th>\n",
              "      <td>6.5</td>\n",
              "      <td>3.0</td>\n",
              "      <td>5.2</td>\n",
              "      <td>2.0</td>\n",
              "      <td>Iris-virginica</td>\n",
              "    </tr>\n",
              "    <tr>\n",
              "      <th>148</th>\n",
              "      <td>6.2</td>\n",
              "      <td>3.4</td>\n",
              "      <td>5.4</td>\n",
              "      <td>2.3</td>\n",
              "      <td>Iris-virginica</td>\n",
              "    </tr>\n",
              "    <tr>\n",
              "      <th>149</th>\n",
              "      <td>5.9</td>\n",
              "      <td>3.0</td>\n",
              "      <td>5.1</td>\n",
              "      <td>1.8</td>\n",
              "      <td>Iris-virginica</td>\n",
              "    </tr>\n",
              "  </tbody>\n",
              "</table>\n",
              "<p>150 rows × 5 columns</p>\n",
              "</div>"
            ],
            "text/plain": [
              "     SepalLength  SepalWidth  PetalLength  PetalWidth            Name\n",
              "0            5.1         3.5          1.4         0.2     Iris-setosa\n",
              "1            4.9         3.0          1.4         0.2     Iris-setosa\n",
              "2            4.7         3.2          1.3         0.2     Iris-setosa\n",
              "3            4.6         3.1          1.5         0.2     Iris-setosa\n",
              "4            5.0         3.6          1.4         0.2     Iris-setosa\n",
              "5            5.4         3.9          1.7         0.4     Iris-setosa\n",
              "6            4.6         3.4          1.4         0.3     Iris-setosa\n",
              "7            5.0         3.4          1.5         0.2     Iris-setosa\n",
              "8            4.4         2.9          1.4         0.2     Iris-setosa\n",
              "9            4.9         3.1          1.5         0.1     Iris-setosa\n",
              "10           5.4         3.7          1.5         0.2     Iris-setosa\n",
              "11           4.8         3.4          1.6         0.2     Iris-setosa\n",
              "12           4.8         3.0          1.4         0.1     Iris-setosa\n",
              "13           4.3         3.0          1.1         0.1     Iris-setosa\n",
              "14           5.8         4.0          1.2         0.2     Iris-setosa\n",
              "15           5.7         4.4          1.5         0.4     Iris-setosa\n",
              "16           5.4         3.9          1.3         0.4     Iris-setosa\n",
              "17           5.1         3.5          1.4         0.3     Iris-setosa\n",
              "18           5.7         3.8          1.7         0.3     Iris-setosa\n",
              "19           5.1         3.8          1.5         0.3     Iris-setosa\n",
              "20           5.4         3.4          1.7         0.2     Iris-setosa\n",
              "21           5.1         3.7          1.5         0.4     Iris-setosa\n",
              "22           4.6         3.6          1.0         0.2     Iris-setosa\n",
              "23           5.1         3.3          1.7         0.5     Iris-setosa\n",
              "24           4.8         3.4          1.9         0.2     Iris-setosa\n",
              "25           5.0         3.0          1.6         0.2     Iris-setosa\n",
              "26           5.0         3.4          1.6         0.4     Iris-setosa\n",
              "27           5.2         3.5          1.5         0.2     Iris-setosa\n",
              "28           5.2         3.4          1.4         0.2     Iris-setosa\n",
              "29           4.7         3.2          1.6         0.2     Iris-setosa\n",
              "..           ...         ...          ...         ...             ...\n",
              "120          6.9         3.2          5.7         2.3  Iris-virginica\n",
              "121          5.6         2.8          4.9         2.0  Iris-virginica\n",
              "122          7.7         2.8          6.7         2.0  Iris-virginica\n",
              "123          6.3         2.7          4.9         1.8  Iris-virginica\n",
              "124          6.7         3.3          5.7         2.1  Iris-virginica\n",
              "125          7.2         3.2          6.0         1.8  Iris-virginica\n",
              "126          6.2         2.8          4.8         1.8  Iris-virginica\n",
              "127          6.1         3.0          4.9         1.8  Iris-virginica\n",
              "128          6.4         2.8          5.6         2.1  Iris-virginica\n",
              "129          7.2         3.0          5.8         1.6  Iris-virginica\n",
              "130          7.4         2.8          6.1         1.9  Iris-virginica\n",
              "131          7.9         3.8          6.4         2.0  Iris-virginica\n",
              "132          6.4         2.8          5.6         2.2  Iris-virginica\n",
              "133          6.3         2.8          5.1         1.5  Iris-virginica\n",
              "134          6.1         2.6          5.6         1.4  Iris-virginica\n",
              "135          7.7         3.0          6.1         2.3  Iris-virginica\n",
              "136          6.3         3.4          5.6         2.4  Iris-virginica\n",
              "137          6.4         3.1          5.5         1.8  Iris-virginica\n",
              "138          6.0         3.0          4.8         1.8  Iris-virginica\n",
              "139          6.9         3.1          5.4         2.1  Iris-virginica\n",
              "140          6.7         3.1          5.6         2.4  Iris-virginica\n",
              "141          6.9         3.1          5.1         2.3  Iris-virginica\n",
              "142          5.8         2.7          5.1         1.9  Iris-virginica\n",
              "143          6.8         3.2          5.9         2.3  Iris-virginica\n",
              "144          6.7         3.3          5.7         2.5  Iris-virginica\n",
              "145          6.7         3.0          5.2         2.3  Iris-virginica\n",
              "146          6.3         2.5          5.0         1.9  Iris-virginica\n",
              "147          6.5         3.0          5.2         2.0  Iris-virginica\n",
              "148          6.2         3.4          5.4         2.3  Iris-virginica\n",
              "149          5.9         3.0          5.1         1.8  Iris-virginica\n",
              "\n",
              "[150 rows x 5 columns]"
            ]
          },
          "metadata": {
            "tags": []
          },
          "execution_count": 31
        }
      ]
    },
    {
      "metadata": {
        "id": "HEHcHNZf2XRh",
        "colab_type": "code",
        "colab": {
          "base_uri": "https://localhost:8080/",
          "height": 168
        },
        "outputId": "55ffd0c8-f9b8-4e60-df43-48112eb9bd8d"
      },
      "cell_type": "code",
      "source": [
        "iris.csv"
      ],
      "execution_count": 32,
      "outputs": [
        {
          "output_type": "error",
          "ename": "NameError",
          "evalue": "ignored",
          "traceback": [
            "\u001b[0;31m---------------------------------------------------------------------------\u001b[0m",
            "\u001b[0;31mNameError\u001b[0m                                 Traceback (most recent call last)",
            "\u001b[0;32m<ipython-input-32-6db04c082d11>\u001b[0m in \u001b[0;36m<module>\u001b[0;34m()\u001b[0m\n\u001b[0;32m----> 1\u001b[0;31m \u001b[0miris\u001b[0m\u001b[0;34m.\u001b[0m\u001b[0mcsv\u001b[0m\u001b[0;34m\u001b[0m\u001b[0m\n\u001b[0m",
            "\u001b[0;31mNameError\u001b[0m: name 'iris' is not defined"
          ]
        }
      ]
    },
    {
      "metadata": {
        "id": "lzpAkjAr2ZzC",
        "colab_type": "code",
        "colab": {
          "base_uri": "https://localhost:8080/",
          "height": 134
        },
        "outputId": "f8f53659-5dbb-4d8b-8917-e1d601b3e601"
      },
      "cell_type": "code",
      "source": [
        "conda info -e\n"
      ],
      "execution_count": 1,
      "outputs": [
        {
          "output_type": "error",
          "ename": "SyntaxError",
          "evalue": "ignored",
          "traceback": [
            "\u001b[0;36m  File \u001b[0;32m\"<ipython-input-1-696386a7d083>\"\u001b[0;36m, line \u001b[0;32m1\u001b[0m\n\u001b[0;31m    conda info -e\u001b[0m\n\u001b[0m             ^\u001b[0m\n\u001b[0;31mSyntaxError\u001b[0m\u001b[0;31m:\u001b[0m invalid syntax\n"
          ]
        }
      ]
    },
    {
      "metadata": {
        "id": "OYmhrUJQjo6S",
        "colab_type": "code",
        "colab": {
          "base_uri": "https://localhost:8080/",
          "height": 34
        },
        "outputId": "986b7463-6d7e-4127-c672-c768fe6a4560"
      },
      "cell_type": "code",
      "source": [
        "!conda info -e\n"
      ],
      "execution_count": 2,
      "outputs": [
        {
          "output_type": "stream",
          "text": [
            "/bin/bash: conda: command not found\n"
          ],
          "name": "stdout"
        }
      ]
    },
    {
      "metadata": {
        "id": "54tamdCIjs6Y",
        "colab_type": "code",
        "colab": {
          "base_uri": "https://localhost:8080/",
          "height": 102
        },
        "outputId": "52e9ad3f-2aef-41f5-d883-2c0ab403392c"
      },
      "cell_type": "code",
      "source": [
        "!ls -al"
      ],
      "execution_count": 3,
      "outputs": [
        {
          "output_type": "stream",
          "text": [
            "total 16\n",
            "drwxr-xr-x 4 root root 4096 Sep 28 23:32 .\n",
            "drwxr-xr-x 1 root root 4096 Oct  6 13:24 ..\n",
            "drwxr-xr-x 4 root root 4096 Sep 28 23:11 .config\n",
            "drwxr-xr-x 2 root root 4096 Sep 28 23:32 sample_data\n"
          ],
          "name": "stdout"
        }
      ]
    },
    {
      "metadata": {
        "id": "N1ldHUTYkWqO",
        "colab_type": "code",
        "colab": {
          "base_uri": "https://localhost:8080/",
          "height": 34
        },
        "outputId": "29348ea5-e53c-4ca6-d4fc-9ac63e177b1d"
      },
      "cell_type": "code",
      "source": [
        "!cat .config\n"
      ],
      "execution_count": 4,
      "outputs": [
        {
          "output_type": "stream",
          "text": [
            "cat: .config: Is a directory\n"
          ],
          "name": "stdout"
        }
      ]
    },
    {
      "metadata": {
        "id": "zRJHG3wLkadB",
        "colab_type": "code",
        "colab": {
          "base_uri": "https://localhost:8080/",
          "height": 119
        },
        "outputId": "1de1a17c-2317-4cec-c055-57d70529df11"
      },
      "cell_type": "code",
      "source": [
        "!ls -l .config\n"
      ],
      "execution_count": 5,
      "outputs": [
        {
          "output_type": "stream",
          "text": [
            "total 16\n",
            "-rw-r--r-- 1 root root    7 Sep 28 23:11 active_config\n",
            "-rw-r--r-- 1 root root    0 Sep 28 23:11 config_sentinel\n",
            "drwxr-xr-x 2 root root 4096 Sep 28 23:11 configurations\n",
            "-rw------- 1 root root    5 Sep 28 23:11 gce\n",
            "drwxr-xr-x 3 root root 4096 Sep 28 23:11 logs\n"
          ],
          "name": "stdout"
        }
      ]
    },
    {
      "metadata": {
        "id": "1z1vcqqIkenl",
        "colab_type": "code",
        "colab": {
          "base_uri": "https://localhost:8080/",
          "height": 34
        },
        "outputId": "510a926a-dae7-4186-8d47-ee0234416384"
      },
      "cell_type": "code",
      "source": [
        "!cat /etc/cpuinfo\n"
      ],
      "execution_count": 6,
      "outputs": [
        {
          "output_type": "stream",
          "text": [
            "cat: /etc/cpuinfo: No such file or directory\n"
          ],
          "name": "stdout"
        }
      ]
    },
    {
      "metadata": {
        "id": "v7GM4_34ly9m",
        "colab_type": "code",
        "colab": {
          "base_uri": "https://localhost:8080/",
          "height": 955
        },
        "outputId": "436a66eb-6787-4c85-ec87-7e3e861afaed"
      },
      "cell_type": "code",
      "source": [
        "!cat /proc/cpuinfo"
      ],
      "execution_count": 7,
      "outputs": [
        {
          "output_type": "stream",
          "text": [
            "processor\t: 0\n",
            "vendor_id\t: GenuineIntel\n",
            "cpu family\t: 6\n",
            "model\t\t: 63\n",
            "model name\t: Intel(R) Xeon(R) CPU @ 2.30GHz\n",
            "stepping\t: 0\n",
            "microcode\t: 0x1\n",
            "cpu MHz\t\t: 2300.000\n",
            "cache size\t: 46080 KB\n",
            "physical id\t: 0\n",
            "siblings\t: 2\n",
            "core id\t\t: 0\n",
            "cpu cores\t: 1\n",
            "apicid\t\t: 0\n",
            "initial apicid\t: 0\n",
            "fpu\t\t: yes\n",
            "fpu_exception\t: yes\n",
            "cpuid level\t: 13\n",
            "wp\t\t: yes\n",
            "flags\t\t: fpu vme de pse tsc msr pae mce cx8 apic sep mtrr pge mca cmov pat pse36 clflush mmx fxsr sse sse2 ss ht syscall nx pdpe1gb rdtscp lm constant_tsc rep_good nopl xtopology nonstop_tsc cpuid pni pclmulqdq ssse3 fma cx16 sse4_1 sse4_2 x2apic movbe popcnt aes xsave avx f16c rdrand hypervisor lahf_lm abm pti fsgsbase tsc_adjust bmi1 avx2 smep bmi2 erms xsaveopt arch_capabilities\n",
            "bugs\t\t: cpu_meltdown spectre_v1 spectre_v2 l1tf\n",
            "bogomips\t: 4600.00\n",
            "clflush size\t: 64\n",
            "cache_alignment\t: 64\n",
            "address sizes\t: 46 bits physical, 48 bits virtual\n",
            "power management:\n",
            "\n",
            "processor\t: 1\n",
            "vendor_id\t: GenuineIntel\n",
            "cpu family\t: 6\n",
            "model\t\t: 63\n",
            "model name\t: Intel(R) Xeon(R) CPU @ 2.30GHz\n",
            "stepping\t: 0\n",
            "microcode\t: 0x1\n",
            "cpu MHz\t\t: 2300.000\n",
            "cache size\t: 46080 KB\n",
            "physical id\t: 0\n",
            "siblings\t: 2\n",
            "core id\t\t: 0\n",
            "cpu cores\t: 1\n",
            "apicid\t\t: 1\n",
            "initial apicid\t: 1\n",
            "fpu\t\t: yes\n",
            "fpu_exception\t: yes\n",
            "cpuid level\t: 13\n",
            "wp\t\t: yes\n",
            "flags\t\t: fpu vme de pse tsc msr pae mce cx8 apic sep mtrr pge mca cmov pat pse36 clflush mmx fxsr sse sse2 ss ht syscall nx pdpe1gb rdtscp lm constant_tsc rep_good nopl xtopology nonstop_tsc cpuid pni pclmulqdq ssse3 fma cx16 sse4_1 sse4_2 x2apic movbe popcnt aes xsave avx f16c rdrand hypervisor lahf_lm abm pti fsgsbase tsc_adjust bmi1 avx2 smep bmi2 erms xsaveopt arch_capabilities\n",
            "bugs\t\t: cpu_meltdown spectre_v1 spectre_v2 l1tf\n",
            "bogomips\t: 4600.00\n",
            "clflush size\t: 64\n",
            "cache_alignment\t: 64\n",
            "address sizes\t: 46 bits physical, 48 bits virtual\n",
            "power management:\n",
            "\n"
          ],
          "name": "stdout"
        }
      ]
    },
    {
      "metadata": {
        "id": "w00XUL2FmERe",
        "colab_type": "code",
        "colab": {
          "base_uri": "https://localhost:8080/",
          "height": 34
        },
        "outputId": "08349515-40f6-4af8-d041-37b22b615dfc"
      },
      "cell_type": "code",
      "source": [
        "!nvidia-smi"
      ],
      "execution_count": 8,
      "outputs": [
        {
          "output_type": "stream",
          "text": [
            "/bin/bash: nvidia-smi: command not found\n"
          ],
          "name": "stdout"
        }
      ]
    },
    {
      "metadata": {
        "id": "t_nTaaeomjV2",
        "colab_type": "code",
        "colab": {
          "base_uri": "https://localhost:8080/",
          "height": 34
        },
        "outputId": "a9c1cd68-9b95-4e8e-fc4e-6fd21f541ef8"
      },
      "cell_type": "code",
      "source": [
        "!lspci | grep VGA"
      ],
      "execution_count": 9,
      "outputs": [
        {
          "output_type": "stream",
          "text": [
            "/bin/bash: lspci: command not found\n"
          ],
          "name": "stdout"
        }
      ]
    },
    {
      "metadata": {
        "id": "827vVJ4Bmof2",
        "colab_type": "code",
        "colab": {
          "base_uri": "https://localhost:8080/",
          "height": 34
        },
        "outputId": "67b969ae-a34b-4f32-a9df-b62e8e3a27d9"
      },
      "cell_type": "code",
      "source": [
        "!uname -a"
      ],
      "execution_count": 10,
      "outputs": [
        {
          "output_type": "stream",
          "text": [
            "Linux 2b53adddc941 4.14.33+ #1 SMP Sat Aug 11 08:05:16 PDT 2018 x86_64 x86_64 x86_64 GNU/Linux\n"
          ],
          "name": "stdout"
        }
      ]
    },
    {
      "metadata": {
        "id": "H7Suqy-WmzFm",
        "colab_type": "code",
        "colab": {
          "base_uri": "https://localhost:8080/",
          "height": 51
        },
        "outputId": "c4bbc191-e22a-489c-b7a7-543982ff20f6"
      },
      "cell_type": "code",
      "source": [
        "!cat /etc/issue"
      ],
      "execution_count": 11,
      "outputs": [
        {
          "output_type": "stream",
          "text": [
            "Ubuntu 17.10 \\n \\l\n",
            "\n"
          ],
          "name": "stdout"
        }
      ]
    },
    {
      "metadata": {
        "id": "315ltefJm7f_",
        "colab_type": "code",
        "colab": {
          "base_uri": "https://localhost:8080/",
          "height": 5083
        },
        "outputId": "580dff54-412d-413e-8c94-f2d689ce8b47"
      },
      "cell_type": "code",
      "source": [
        "!dpkg -l"
      ],
      "execution_count": 12,
      "outputs": [
        {
          "output_type": "stream",
          "text": [
            "Desired=Unknown/Install/Remove/Purge/Hold\n",
            "| Status=Not/Inst/Conf-files/Unpacked/halF-conf/Half-inst/trig-aWait/Trig-pend\n",
            "|/ Err?=(none)/Reinst-required (Status,Err: uppercase=bad)\n",
            "||/ Name           Version      Architecture Description\n",
            "+++-==============-============-============-=================================\n",
            "ii  adduser        3.113+nmu3ub all          add and remove users and groups\n",
            "ii  apt            1.5.2        amd64        commandline package manager\n",
            "ii  apt-utils      1.5.2        amd64        package management related utilit\n",
            "ii  base-files     9.6ubuntu102 amd64        Debian base system miscellaneous \n",
            "ii  base-passwd    3.5.43       amd64        Debian base system master passwor\n",
            "ii  bash           4.4-5ubuntu1 amd64        GNU Bourne Again SHell\n",
            "ii  binutils       2.29.1-4ubun amd64        GNU assembler, linker and binary \n",
            "ii  binutils-commo 2.29.1-4ubun amd64        Common files for the GNU assemble\n",
            "ii  binutils-x86-6 2.29.1-4ubun amd64        GNU binary utilities, for x86-64-\n",
            "ii  blt            2.5.3+dfsg-3 amd64        graphics extension library for Tc\n",
            "ii  bsdutils       1:2.30.1-0ub amd64        basic utilities from 4.4BSD-Lite\n",
            "ii  build-essentia 12.4ubuntu1  amd64        Informational list of build-essen\n",
            "ii  bzip2          1.0.6-8.1    amd64        high-quality block-sorting file c\n",
            "ii  ca-certificate 20170717     all          Common CA certificates\n",
            "ii  coreutils      8.26-3ubuntu amd64        GNU core utilities\n",
            "ii  cpp            4:7.2.0-1ubu amd64        GNU C preprocessor (cpp)\n",
            "ii  cpp-7          7.2.0-8ubunt amd64        GNU C preprocessor\n",
            "ii  curl           7.55.1-1ubun amd64        command line tool for transferrin\n",
            "ii  dash           0.5.8-2.3ubu amd64        POSIX-compliant shell\n",
            "ii  debconf        1.5.63       all          Debian configuration management s\n",
            "ii  debianutils    4.8.2        amd64        Miscellaneous utilities specific \n",
            "ii  dh-python      2.20170125   all          Debian helper tools for packaging\n",
            "ii  diffutils      1:3.6-1      amd64        File comparison utilities\n",
            "ii  dpkg           1.18.24ubunt amd64        Debian package management system\n",
            "ii  dpkg-dev       1.18.24ubunt all          Debian package development tools\n",
            "ii  e2fslibs:amd64 1.43.5-1     amd64        ext2/ext3/ext4 file system librar\n",
            "ii  e2fsprogs      1.43.5-1     amd64        ext2/ext3/ext4 file system utilit\n",
            "ii  fdisk          2.30.1-0ubun amd64        collection of partitioning utilit\n",
            "ii  findutils      4.6.0+git+20 amd64        utilities for finding files--find\n",
            "ii  fontconfig-con 2.11.94-0ubu all          generic font configuration librar\n",
            "ii  fonts-dejavu-c 2.37-1       all          Vera font family derivate with ad\n",
            "ii  fonts-liberati 1:1.07.4-2   all          Fonts with the same metrics as Ti\n",
            "ii  g++            4:7.2.0-1ubu amd64        GNU C++ compiler\n",
            "ii  g++-7          7.2.0-8ubunt amd64        GNU C++ compiler\n",
            "ii  gcc            4:7.2.0-1ubu amd64        GNU C compiler\n",
            "ii  gcc-7          7.2.0-8ubunt amd64        GNU C compiler\n",
            "ii  gcc-7-base:amd 7.2.0-8ubunt amd64        GCC, the GNU Compiler Collection \n",
            "ii  gfortran       4:7.2.0-1ubu amd64        GNU Fortran 95 compiler\n",
            "ii  gfortran-7     7.2.0-8ubunt amd64        GNU Fortran compiler\n",
            "ii  git            1:2.14.1-1ub amd64        fast, scalable, distributed revis\n",
            "ii  git-man        1:2.14.1-1ub all          fast, scalable, distributed revis\n",
            "ii  gnupg          2.1.15-1ubun amd64        GNU privacy guard - a free PGP re\n",
            "ii  gnupg-agent    2.1.15-1ubun amd64        GNU privacy guard - cryptographic\n",
            "ii  google-perftoo 2.5-2.2ubunt all          command line utilities to analyze\n",
            "ii  gpgv           2.1.15-1ubun amd64        GNU privacy guard - signature ver\n",
            "ii  grep           3.1-2        amd64        GNU grep, egrep and fgrep\n",
            "ii  gzip           1.6-5ubuntu1 amd64        GNU compression utilities\n",
            "ii  hdf5-helpers   1.10.0-patch amd64        Hierarchical Data Format 5 (HDF5)\n",
            "ii  hostname       3.18         amd64        utility to set/show the host name\n",
            "ii  icu-devtools   57.1-6ubuntu amd64        Development utilities for Interna\n",
            "ii  init-system-he 1.49ubuntu1  all          helper tools for all init systems\n",
            "ii  libacl1:amd64  2.2.52-3buil amd64        Access control list shared librar\n",
            "ii  libaec-dev:amd 0.3.2-2      amd64        Development files for the Adaptiv\n",
            "ii  libaec0:amd64  0.3.2-2      amd64        Adaptive Entropy Coding library\n",
            "ii  libapt-inst2.0 1.5.2        amd64        deb package format runtime librar\n",
            "ii  libapt-pkg5.0: 1.5.2        amd64        package management runtime librar\n",
            "ii  libasan4:amd64 7.2.0-8ubunt amd64        AddressSanitizer -- a fast memory\n",
            "ii  libasn1-8-heim 7.4.0.dfsg.1 amd64        Heimdal Kerberos - ASN.1 library\n",
            "ii  libassuan0:amd 2.4.3-3      amd64        IPC library for the GnuPG compone\n",
            "ii  libatlas-base- 3.10.3-5     amd64        Automatically Tuned Linear Algebr\n",
            "ii  libatlas3-base 3.10.3-5     amd64        Automatically Tuned Linear Algebr\n",
            "ii  libatomic1:amd 7.2.0-8ubunt amd64        support library providing __atomi\n",
            "ii  libattr1:amd64 1:2.4.47-2bu amd64        Extended attribute shared library\n",
            "ii  libaudit-commo 1:2.7.7-1ubu all          Dynamic library for security audi\n",
            "ii  libaudit1:amd6 1:2.7.7-1ubu amd64        Dynamic library for security audi\n",
            "ii  libbinutils:am 2.29.1-4ubun amd64        GNU binary utilities (private sha\n",
            "ii  libblkid1:amd6 2.30.1-0ubun amd64        block device ID library\n",
            "ii  libbsd0:amd64  0.8.6-1      amd64        utility functions from BSD system\n",
            "ii  libbz2-1.0:amd 1.0.6-8.1    amd64        high-quality block-sorting file c\n",
            "ii  libc-bin       2.26-0ubuntu amd64        GNU C Library: Binaries\n",
            "ii  libc-dev-bin   2.26-0ubuntu amd64        GNU C Library: Development binari\n",
            "ii  libc6:amd64    2.26-0ubuntu amd64        GNU C Library: Shared libraries\n",
            "ii  libc6-dev:amd6 2.26-0ubuntu amd64        GNU C Library: Development Librar\n",
            "ii  libcap-ng0:amd 0.7.7-3build amd64        An alternate POSIX capabilities l\n",
            "ii  libcc1-0:amd64 7.2.0-8ubunt amd64        GCC cc1 plugin for GDB\n",
            "ii  libcilkrts5:am 7.2.0-8ubunt amd64        Intel Cilk Plus language extensio\n",
            "ii  libcomerr2:amd 1.43.5-1     amd64        common error description library\n",
            "ii  libcublas8.0:a 8.0.61-1     amd64        NVIDIA cuBLAS Library\n",
            "ii  libcudart8.0:a 8.0.61-1     amd64        NVIDIA CUDA Runtime Library\n",
            "ii  libcufft8.0:am 8.0.61-1     amd64        NVIDIA cuFFT Library\n",
            "ii  libcufftw8.0:a 8.0.61-1     amd64        NVIDIA cuFFTW Library\n",
            "ii  libcurand8.0:a 8.0.61-1     amd64        NVIDIA cuRAND Library\n",
            "ii  libcurl3:amd64 7.55.1-1ubun amd64        easy-to-use client-side URL trans\n",
            "ii  libcurl3-gnutl 7.55.1-1ubun amd64        easy-to-use client-side URL trans\n",
            "ii  libcusolver8.0 8.0.61-1     amd64        NVIDIA cuSOLVER Library\n",
            "ii  libdb5.3:amd64 5.3.28-13.1  amd64        Berkeley v5.3 Database Libraries \n",
            "ii  libdebconfclie 0.213ubuntu1 amd64        Debian Configuration Management S\n",
            "ii  libdpkg-perl   1.18.24ubunt all          Dpkg perl modules\n",
            "ii  libedit2:amd64 3.1-20170329 amd64        BSD editline and history librarie\n",
            "ii  liberror-perl  0.17024-1    all          Perl module for error/exception h\n",
            "ii  libexpat1:amd6 2.2.3-1      amd64        XML parsing C library - runtime l\n",
            "ii  libexpat1-dev: 2.2.3-1      amd64        XML parsing C library - developme\n",
            "ii  libfdisk1:amd6 2.30.1-0ubun amd64        fdisk partitioning library\n",
            "ii  libffi6:amd64  3.2.1-6      amd64        Foreign Function Interface librar\n",
            "ii  libfontconfig1 2.11.94-0ubu amd64        generic font configuration librar\n",
            "ii  libfontconfig1 2.11.94-0ubu amd64        generic font configuration librar\n",
            "ii  libfreetype6:a 2.8-0.2ubunt amd64        FreeType 2 font engine, shared li\n",
            "ii  libfreetype6-d 2.8-0.2ubunt amd64        FreeType 2 font engine, developme\n",
            "ii  libgcc-7-dev:a 7.2.0-8ubunt amd64        GCC support library (development \n",
            "ii  libgcc1:amd64  1:7.2.0-8ubu amd64        GCC support library\n",
            "ii  libgcrypt20:am 1.7.8-2ubunt amd64        LGPL Crypto library - runtime lib\n",
            "ii  libgdbm3:amd64 1.8.3-14     amd64        GNU dbm database routines (runtim\n",
            "ii  libgfortran-7- 7.2.0-8ubunt amd64        Runtime library for GNU Fortran a\n",
            "ii  libgfortran4:a 7.2.0-8ubunt amd64        Runtime library for GNU Fortran a\n",
            "ii  libglib2.0-0:a 2.54.1-1ubun amd64        GLib library of C routines\n",
            "ii  libgmp10:amd64 2:6.1.2+dfsg amd64        Multiprecision arithmetic library\n",
            "ii  libgnutls30:am 3.5.8-6ubunt amd64        GNU TLS library - main runtime li\n",
            "ii  libgomp1:amd64 7.2.0-8ubunt amd64        GCC OpenMP (GOMP) support library\n",
            "ii  libgoogle-perf 2.5-2.2ubunt amd64        libraries for CPU and heap analys\n",
            "ii  libgpg-error0: 1.27-3       amd64        library for common error values a\n",
            "ii  libgssapi-krb5 1.15.1-2     amd64        MIT Kerberos runtime libraries - \n",
            "ii  libgssapi3-hei 7.4.0.dfsg.1 amd64        Heimdal Kerberos - GSSAPI support\n",
            "ii  libhcrypto4-he 7.4.0.dfsg.1 amd64        Heimdal Kerberos - crypto library\n",
            "ii  libhdf5-100:am 1.10.0-patch amd64        Hierarchical Data Format 5 (HDF5)\n",
            "ii  libhdf5-cpp-10 1.10.0-patch amd64        Hierarchical Data Format 5 (HDF5)\n",
            "ii  libhdf5-dev    1.10.0-patch amd64        Hierarchical Data Format 5 (HDF5)\n",
            "ii  libheimbase1-h 7.4.0.dfsg.1 amd64        Heimdal Kerberos - Base library\n",
            "ii  libheimntlm0-h 7.4.0.dfsg.1 amd64        Heimdal Kerberos - NTLM support l\n",
            "ii  libhogweed4:am 3.3-2        amd64        low level cryptographic library (\n",
            "ii  libhx509-5-hei 7.4.0.dfsg.1 amd64        Heimdal Kerberos - X509 support l\n",
            "ii  libice6:amd64  2:1.0.9-2    amd64        X11 Inter-Client Exchange library\n",
            "ii  libicu-dev     57.1-6ubuntu amd64        Development files for Internation\n",
            "ii  libicu57:amd64 57.1-6ubuntu amd64        International Components for Unic\n",
            "ii  libidn11:amd64 1.33-2       amd64        GNU Libidn library, implementatio\n",
            "ii  libidn2-0:amd6 2.0.2-5      amd64        Internationalized domain names (I\n",
            "ii  libisl15:amd64 0.18-1       amd64        manipulating sets and relations o\n",
            "ii  libitm1:amd64  7.2.0-8ubunt amd64        GNU Transactional Memory Library\n",
            "ii  libjpeg-dev:am 8c-2ubuntu8  amd64        Independent JPEG Group's JPEG run\n",
            "ii  libjpeg-turbo8 1.5.2-0ubunt amd64        IJG JPEG compliant runtime librar\n",
            "ii  libjpeg-turbo8 1.5.2-0ubunt amd64        Development files for the IJG JPE\n",
            "ii  libjpeg8:amd64 8c-2ubuntu8  amd64        Independent JPEG Group's JPEG run\n",
            "ii  libjpeg8-dev:a 8c-2ubuntu8  amd64        Independent JPEG Group's JPEG run\n",
            "ii  libk5crypto3:a 1.15.1-2     amd64        MIT Kerberos runtime libraries - \n",
            "ii  libkeyutils1:a 1.5.9-9ubunt amd64        Linux Key Management Utilities (l\n",
            "ii  libkrb5-26-hei 7.4.0.dfsg.1 amd64        Heimdal Kerberos - libraries\n",
            "ii  libkrb5-3:amd6 1.15.1-2     amd64        MIT Kerberos runtime libraries\n",
            "ii  libkrb5support 1.15.1-2     amd64        MIT Kerberos runtime libraries - \n",
            "ii  libksba8:amd64 1.3.5-2      amd64        X.509 and CMS support library\n",
            "ii  liblapack-dev: 3.7.1-3ubunt amd64        Library of linear algebra routine\n",
            "ii  liblapack3:amd 3.7.1-3ubunt amd64        Library of linear algebra routine\n",
            "ii  libldap-2.4-2: 2.4.45+dfsg- amd64        OpenLDAP libraries\n",
            "ii  libldap-common 2.4.45+dfsg- all          OpenLDAP common files for librari\n",
            "ii  liblsan0:amd64 7.2.0-8ubunt amd64        LeakSanitizer -- a memory leak de\n",
            "ii  liblz4-1:amd64 0.0~r131-2ub amd64        Fast LZ compression algorithm lib\n",
            "ii  liblzma5:amd64 5.2.2-1.3    amd64        XZ-format compression library\n",
            "ii  libmount1:amd6 2.30.1-0ubun amd64        device mounting library\n",
            "ii  libmpc3:amd64  1.0.3-2      amd64        multiple precision complex floati\n",
            "ii  libmpdec2:amd6 2.4.2-1      amd64        library for decimal floating poin\n",
            "ii  libmpfr4:amd64 3.1.6-1      amd64        multiple precision floating-point\n",
            "ii  libmpx2:amd64  7.2.0-8ubunt amd64        Intel memory protection extension\n",
            "ii  libncurses5:am 6.0+20160625 amd64        shared libraries for terminal han\n",
            "ii  libncursesw5:a 6.0+20160625 amd64        shared libraries for terminal han\n",
            "ii  libnettle6:amd 3.3-2        amd64        low level cryptographic library (\n",
            "ii  libnpth0:amd64 1.5-2        amd64        replacement for GNU Pth using sys\n",
            "ii  libp11-kit0:am 0.23.7-3     amd64        library for loading and coordinat\n",
            "ii  libpam-modules 1.1.8-3.2ubu amd64        Pluggable Authentication Modules \n",
            "ii  libpam-modules 1.1.8-3.2ubu amd64        Pluggable Authentication Modules \n",
            "ii  libpam-runtime 1.1.8-3.2ubu all          Runtime support for the PAM libra\n",
            "ii  libpam0g:amd64 1.1.8-3.2ubu amd64        Pluggable Authentication Modules \n",
            "ii  libpcre3:amd64 2:8.39-5ubun amd64        Old Perl 5 Compatible Regular Exp\n",
            "ii  libperl5.26:am 5.26.0-8ubun amd64        shared Perl library\n",
            "ii  libpgm-5.2-0:a 5.2.122~dfsg amd64        OpenPGM shared library\n",
            "ii  libpng-dev:amd 1.6.34-1ubun amd64        PNG library - development (versio\n",
            "ii  libpng16-16:am 1.6.34-1ubun amd64        PNG library - runtime (version 1.\n",
            "ii  libpopt0:amd64 1.16-10      amd64        lib for parsing cmdline parameter\n",
            "ii  libprocps6:amd 2:3.3.12-1ub amd64        library for accessing process inf\n",
            "ii  libpsl5:amd64  0.18.0-2     amd64        Library for Public Suffix List (s\n",
            "ii  libpthread-stu 0.3-4        amd64        pthread stubs not provided by nat\n",
            "ii  libpython-dev: 2.7.14-2ubun amd64        header files and a static library\n",
            "ii  libpython-stdl 2.7.14-2ubun amd64        interactive high-level object-ori\n",
            "ii  libpython2.7:a 2.7.14-2ubun amd64        Shared Python runtime library (ve\n",
            "ii  libpython2.7-d 2.7.14-2ubun amd64        Header files and a static library\n",
            "ii  libpython2.7-m 2.7.14-2ubun amd64        Minimal subset of the Python lang\n",
            "ii  libpython2.7-s 2.7.14-2ubun amd64        Interactive high-level object-ori\n",
            "ii  libpython3-dev 3.6.3-0ubunt amd64        header files and a static library\n",
            "ii  libpython3-std 3.6.3-0ubunt amd64        interactive high-level object-ori\n",
            "ii  libpython3.6:a 3.6.3-1ubunt amd64        Shared Python runtime library (ve\n",
            "ii  libpython3.6-d 3.6.3-1ubunt amd64        Header files and a static library\n",
            "ii  libpython3.6-m 3.6.3-1ubunt amd64        Minimal subset of the Python lang\n",
            "ii  libpython3.6-s 3.6.3-1ubunt amd64        Interactive high-level object-ori\n",
            "ii  libquadmath0:a 7.2.0-8ubunt amd64        GCC Quad-Precision Math Library\n",
            "ii  libreadline7:a 7.0-0ubuntu2 amd64        GNU readline and history librarie\n",
            "ii  libroken18-hei 7.4.0.dfsg.1 amd64        Heimdal Kerberos - roken support \n",
            "ii  librtmp1:amd64 2.4+20151223 amd64        toolkit for RTMP streams (shared \n",
            "ii  libsasl2-2:amd 2.1.27~101-g amd64        Cyrus SASL - authentication abstr\n",
            "ii  libsasl2-modul 2.1.27~101-g amd64        Cyrus SASL - pluggable authentica\n",
            "ii  libselinux1:am 2.7-1        amd64        SELinux runtime shared libraries\n",
            "ii  libsemanage-co 2.7-2        all          Common files for SELinux policy m\n",
            "ii  libsemanage1:a 2.7-2        amd64        SELinux policy management library\n",
            "ii  libsepol1:amd6 2.7-1        amd64        SELinux library for manipulating \n",
            "ii  libsm6:amd64   2:1.2.2-1    amd64        X11 Session Management library\n",
            "ii  libsmartcols1: 2.30.1-0ubun amd64        smart column output alignment lib\n",
            "ii  libsodium18:am 1.0.13-1     amd64        Network communication, cryptograp\n",
            "ii  libsqlite3-0:a 3.19.3-3     amd64        SQLite 3 shared library\n",
            "ii  libss2:amd64   1.43.5-1     amd64        command-line interface parsing li\n",
            "ii  libssl1.0.0:am 1.0.2g-1ubun amd64        Secure Sockets Layer toolkit - sh\n",
            "ii  libstdc++-7-de 7.2.0-8ubunt amd64        GNU Standard C++ Library v3 (deve\n",
            "ii  libstdc++6:amd 7.2.0-8ubunt amd64        GNU Standard C++ Library v3\n",
            "ii  libsystemd0:am 234-2ubuntu1 amd64        systemd utility library\n",
            "ii  libsz2:amd64   0.3.2-2      amd64        Adaptive Entropy Coding library -\n",
            "ii  libtasn1-6:amd 4.12-2.1ubun amd64        Manage ASN.1 structures (runtime)\n",
            "ii  libtcl8.6:amd6 8.6.7+dfsg-1 amd64        Tcl (the Tool Command Language) v\n",
            "ii  libtcmalloc-mi 2.5-2.2ubunt amd64        efficient thread-caching malloc\n",
            "ii  libtinfo5:amd6 6.0+20160625 amd64        shared low-level terminfo library\n",
            "ii  libtk8.6:amd64 8.6.7-1ubunt amd64        Tk toolkit for Tcl and X11 v8.6 -\n",
            "ii  libtsan0:amd64 7.2.0-8ubunt amd64        ThreadSanitizer -- a Valgrind-bas\n",
            "ii  libubsan0:amd6 7.2.0-8ubunt amd64        UBSan -- undefined behaviour sani\n",
            "ii  libudev1:amd64 234-2ubuntu1 amd64        libudev shared library\n",
            "ii  libunistring0: 0.9.3-5.2ubu amd64        Unicode string library for C\n",
            "ii  libunwind8     1.1-4.1ubunt amd64        library to determine the call-cha\n",
            "ii  libuuid1:amd64 2.30.1-0ubun amd64        Universally Unique ID library\n",
            "ii  libwind0-heimd 7.4.0.dfsg.1 amd64        Heimdal Kerberos - stringprep imp\n",
            "ii  libx11-6:amd64 2:1.6.4-3    amd64        X11 client-side library\n",
            "ii  libx11-data    2:1.6.4-3    all          X11 client-side library\n",
            "ii  libx11-dev:amd 2:1.6.4-3    amd64        X11 client-side library (developm\n",
            "ii  libxau-dev:amd 1:1.0.8-1    amd64        X11 authorisation library (develo\n",
            "ii  libxau6:amd64  1:1.0.8-1    amd64        X11 authorisation library\n",
            "ii  libxcb1:amd64  1.12-1ubuntu amd64        X C Binding\n",
            "ii  libxcb1-dev:am 1.12-1ubuntu amd64        X C Binding, development files\n",
            "ii  libxdmcp-dev:a 1:1.1.2-3    amd64        X11 authorisation library (develo\n",
            "ii  libxdmcp6:amd6 1:1.1.2-3    amd64        X11 Display Manager Control Proto\n",
            "ii  libxext6:amd64 2:1.3.3-1    amd64        X11 miscellaneous extension libra\n",
            "ii  libxft-dev     2.3.2-1      amd64        FreeType-based font drawing libra\n",
            "ii  libxft2:amd64  2.3.2-1      amd64        FreeType-based font drawing libra\n",
            "ii  libxml2:amd64  2.9.4+dfsg1- amd64        GNOME XML library\n",
            "ii  libxml2-dev:am 2.9.4+dfsg1- amd64        Development files for the GNOME X\n",
            "ii  libxrender-dev 1:0.9.10-1   amd64        X Rendering Extension client libr\n",
            "ii  libxrender1:am 1:0.9.10-1   amd64        X Rendering Extension client libr\n",
            "ii  libxss1:amd64  1:1.2.2-1    amd64        X11 Screen Saver extension librar\n",
            "ii  libzmq5:amd64  4.2.1-4ubunt amd64        lightweight messaging kernel (sha\n",
            "ii  linux-libc-dev 4.13.0-46.51 amd64        Linux Kernel Headers for developm\n",
            "ii  locales        2.26-0ubuntu all          GNU C Library: National Language \n",
            "ii  login          1:4.2-3.2ubu amd64        system login tools\n",
            "ii  lsb-base       9.20160110ub all          Linux Standard Base init script f\n",
            "ii  make           4.1-9.1      amd64        utility for directing compilation\n",
            "ii  mawk           1.3.3-17ubun amd64        a pattern scanning and text proce\n",
            "ii  mime-support   3.60ubuntu1  all          MIME files 'mime.types' & 'mailca\n",
            "ii  mount          2.30.1-0ubun amd64        tools for mounting and manipulati\n",
            "ii  multiarch-supp 2.26-0ubuntu amd64        Transitional package to ensure mu\n",
            "ii  ncurses-base   6.0+20160625 all          basic terminal type definitions\n",
            "ii  ncurses-bin    6.0+20160625 amd64        terminal-related programs and man\n",
            "ii  openssh-client 1:7.5p1-10ub amd64        secure shell (SSH) client, for se\n",
            "ii  openssl        1.0.2g-1ubun amd64        Secure Sockets Layer toolkit - cr\n",
            "ii  p7zip          16.02+dfsg-4 amd64        7zr file archiver with high compr\n",
            "ii  p7zip-full     16.02+dfsg-4 amd64        7z and 7za file archivers with hi\n",
            "ii  passwd         1:4.2-3.2ubu amd64        change and administer password an\n",
            "ii  patch          2.7.5-1ubunt amd64        Apply a diff file to an original\n",
            "ii  perl           5.26.0-8ubun amd64        Larry Wall's Practical Extraction\n",
            "ii  perl-base      5.26.0-8ubun amd64        minimal Perl system\n",
            "ii  perl-modules-5 5.26.0-8ubun all          Core Perl modules\n",
            "ii  pinentry-curse 1.0.0-2      amd64        curses-based PIN or pass-phrase e\n",
            "ii  pkg-config     0.29.1-0ubun amd64        manage compile and link flags for\n",
            "ii  procps         2:3.3.12-1ub amd64        /proc file system utilities\n",
            "ii  python         2.7.14-2ubun amd64        interactive high-level object-ori\n",
            "ii  python-dev     2.7.14-2ubun amd64        header files and a static library\n",
            "ii  python-minimal 2.7.14-2ubun amd64        minimal subset of the Python lang\n",
            "ii  python-tk      2.7.14-1     amd64        Tkinter - Writing Tk applications\n",
            "ii  python2.7      2.7.14-2ubun amd64        Interactive high-level object-ori\n",
            "ii  python2.7-dev  2.7.14-2ubun amd64        Header files and a static library\n",
            "ii  python2.7-mini 2.7.14-2ubun amd64        Minimal subset of the Python lang\n",
            "ii  python3        3.6.3-0ubunt amd64        interactive high-level object-ori\n",
            "ii  python3-dev    3.6.3-0ubunt amd64        header files and a static library\n",
            "ii  python3-minima 3.6.3-0ubunt amd64        minimal subset of the Python lang\n",
            "ii  python3-tk:amd 3.6.3-0ubunt amd64        Tkinter - Writing Tk applications\n",
            "ii  python3.6      3.6.3-1ubunt amd64        Interactive high-level object-ori\n",
            "ii  python3.6-dev  3.6.3-1ubunt amd64        Header files and a static library\n",
            "ii  python3.6-mini 3.6.3-1ubunt amd64        Minimal subset of the Python lang\n",
            "ii  readline-commo 7.0-0ubuntu2 all          GNU readline and history librarie\n",
            "ii  rename         0.20-6       all          Perl extension for renaming multi\n",
            "ii  rsync          3.1.2-2ubunt amd64        fast, versatile, remote (and loca\n",
            "ii  sed            4.4-1        amd64        GNU stream editor for filtering/t\n",
            "ii  sensible-utils 0.0.10ubuntu all          Utilities for sensible alternativ\n",
            "ii  sysvinit-utils 2.88dsf-59.8 amd64        System-V-like utilities\n",
            "ii  tar            1.29b-2      amd64        GNU version of the tar archiving \n",
            "ii  tk8.6-blt2.5   2.5.3+dfsg-3 amd64        graphics extension library for Tc\n",
            "ii  ttf-liberation 1:1.07.4-2   all          transitional dummy package\n",
            "ii  tzdata         2017c-0ubunt all          time zone and daylight-saving tim\n",
            "ii  ubuntu-keyring 2016.10.27   all          GnuPG keys of the Ubuntu archive\n",
            "ii  ucf            3.0036       all          Update Configuration File(s): pre\n",
            "ii  unzip          6.0-21ubuntu amd64        De-archiver for .zip files\n",
            "ii  util-linux     2.30.1-0ubun amd64        miscellaneous system utilities\n",
            "ii  wget           1.19.1-3ubun amd64        retrieves files from the web\n",
            "ii  x11-common     1:7.7+19ubun all          X Window System (X.Org) infrastru\n",
            "ii  x11proto-core- 7.0.31-1     all          X11 core wire protocol and auxili\n",
            "ii  x11proto-input 2.3.2-1      all          X11 Input extension wire protocol\n",
            "ii  x11proto-kb-de 1.0.7-1      all          X11 XKB extension wire protocol\n",
            "ii  x11proto-rende 2:0.11.1-2   all          X11 Render extension wire protoco\n",
            "ii  xorg-sgml-doct 1:1.11-1     all          Common tools for building X.Org S\n",
            "ii  xtrans-dev     1.3.5-1      all          X transport library (development \n",
            "ii  xz-utils       5.2.2-1.3    amd64        XZ-format compression utilities\n",
            "ii  zip            3.0-11build1 amd64        Archiver for .zip files\n",
            "ii  zlib1g:amd64   1:1.2.11.dfs amd64        compression library - runtime\n",
            "ii  zlib1g-dev:amd 1:1.2.11.dfs amd64        compression library - development\n"
          ],
          "name": "stdout"
        }
      ]
    },
    {
      "metadata": {
        "id": "7so3_pxjn6IR",
        "colab_type": "code",
        "colab": {
          "base_uri": "https://localhost:8080/",
          "height": 134
        },
        "outputId": "94eed861-64a8-4788-8634-01b668b80b17"
      },
      "cell_type": "code",
      "source": [
        "dpkg -l | grep nvidia"
      ],
      "execution_count": 13,
      "outputs": [
        {
          "output_type": "error",
          "ename": "SyntaxError",
          "evalue": "ignored",
          "traceback": [
            "\u001b[0;36m  File \u001b[0;32m\"<ipython-input-13-739ee7bc31f1>\"\u001b[0;36m, line \u001b[0;32m1\u001b[0m\n\u001b[0;31m    dpkg -l | grep nvidia\u001b[0m\n\u001b[0m                        ^\u001b[0m\n\u001b[0;31mSyntaxError\u001b[0m\u001b[0;31m:\u001b[0m invalid syntax\n"
          ]
        }
      ]
    },
    {
      "metadata": {
        "id": "-4vTJgT3oSn2",
        "colab_type": "code",
        "colab": {
          "base_uri": "https://localhost:8080/",
          "height": 34
        },
        "outputId": "3d416f4b-820e-43b7-f1b4-4b2a31121cd2"
      },
      "cell_type": "code",
      "source": [
        "!dpkg -l | grep cuda"
      ],
      "execution_count": 15,
      "outputs": [
        {
          "output_type": "stream",
          "text": [
            "ii  libcudart8.0:amd64          8.0.61-1                          amd64        NVIDIA CUDA Runtime Library\n"
          ],
          "name": "stdout"
        }
      ]
    },
    {
      "metadata": {
        "id": "NjExFFUIoU1e",
        "colab_type": "code",
        "colab": {
          "base_uri": "https://localhost:8080/",
          "height": 34
        },
        "outputId": "a6a4f434-d5c8-4270-fd60-ae76d05b2a91"
      },
      "cell_type": "code",
      "source": [
        "!pip install -q keras\n",
        "import keras"
      ],
      "execution_count": 16,
      "outputs": [
        {
          "output_type": "stream",
          "text": [
            "Using TensorFlow backend.\n"
          ],
          "name": "stderr"
        }
      ]
    },
    {
      "metadata": {
        "id": "0H3idKCIoxC-",
        "colab_type": "code",
        "colab": {
          "base_uri": "https://localhost:8080/",
          "height": 1751
        },
        "outputId": "05ae0932-930a-437c-9c77-1ff59ec70d70"
      },
      "cell_type": "code",
      "source": [
        "from keras.datasets import mnist\n",
        "mnist.load_data()"
      ],
      "execution_count": 17,
      "outputs": [
        {
          "output_type": "stream",
          "text": [
            "Downloading data from https://s3.amazonaws.com/img-datasets/mnist.npz\n",
            "11493376/11490434 [==============================] - 0s 0us/step\n"
          ],
          "name": "stdout"
        },
        {
          "output_type": "execute_result",
          "data": {
            "text/plain": [
              "((array([[[0, 0, 0, ..., 0, 0, 0],\n",
              "          [0, 0, 0, ..., 0, 0, 0],\n",
              "          [0, 0, 0, ..., 0, 0, 0],\n",
              "          ...,\n",
              "          [0, 0, 0, ..., 0, 0, 0],\n",
              "          [0, 0, 0, ..., 0, 0, 0],\n",
              "          [0, 0, 0, ..., 0, 0, 0]],\n",
              "  \n",
              "         [[0, 0, 0, ..., 0, 0, 0],\n",
              "          [0, 0, 0, ..., 0, 0, 0],\n",
              "          [0, 0, 0, ..., 0, 0, 0],\n",
              "          ...,\n",
              "          [0, 0, 0, ..., 0, 0, 0],\n",
              "          [0, 0, 0, ..., 0, 0, 0],\n",
              "          [0, 0, 0, ..., 0, 0, 0]],\n",
              "  \n",
              "         [[0, 0, 0, ..., 0, 0, 0],\n",
              "          [0, 0, 0, ..., 0, 0, 0],\n",
              "          [0, 0, 0, ..., 0, 0, 0],\n",
              "          ...,\n",
              "          [0, 0, 0, ..., 0, 0, 0],\n",
              "          [0, 0, 0, ..., 0, 0, 0],\n",
              "          [0, 0, 0, ..., 0, 0, 0]],\n",
              "  \n",
              "         ...,\n",
              "  \n",
              "         [[0, 0, 0, ..., 0, 0, 0],\n",
              "          [0, 0, 0, ..., 0, 0, 0],\n",
              "          [0, 0, 0, ..., 0, 0, 0],\n",
              "          ...,\n",
              "          [0, 0, 0, ..., 0, 0, 0],\n",
              "          [0, 0, 0, ..., 0, 0, 0],\n",
              "          [0, 0, 0, ..., 0, 0, 0]],\n",
              "  \n",
              "         [[0, 0, 0, ..., 0, 0, 0],\n",
              "          [0, 0, 0, ..., 0, 0, 0],\n",
              "          [0, 0, 0, ..., 0, 0, 0],\n",
              "          ...,\n",
              "          [0, 0, 0, ..., 0, 0, 0],\n",
              "          [0, 0, 0, ..., 0, 0, 0],\n",
              "          [0, 0, 0, ..., 0, 0, 0]],\n",
              "  \n",
              "         [[0, 0, 0, ..., 0, 0, 0],\n",
              "          [0, 0, 0, ..., 0, 0, 0],\n",
              "          [0, 0, 0, ..., 0, 0, 0],\n",
              "          ...,\n",
              "          [0, 0, 0, ..., 0, 0, 0],\n",
              "          [0, 0, 0, ..., 0, 0, 0],\n",
              "          [0, 0, 0, ..., 0, 0, 0]]], dtype=uint8),\n",
              "  array([5, 0, 4, ..., 5, 6, 8], dtype=uint8)),\n",
              " (array([[[0, 0, 0, ..., 0, 0, 0],\n",
              "          [0, 0, 0, ..., 0, 0, 0],\n",
              "          [0, 0, 0, ..., 0, 0, 0],\n",
              "          ...,\n",
              "          [0, 0, 0, ..., 0, 0, 0],\n",
              "          [0, 0, 0, ..., 0, 0, 0],\n",
              "          [0, 0, 0, ..., 0, 0, 0]],\n",
              "  \n",
              "         [[0, 0, 0, ..., 0, 0, 0],\n",
              "          [0, 0, 0, ..., 0, 0, 0],\n",
              "          [0, 0, 0, ..., 0, 0, 0],\n",
              "          ...,\n",
              "          [0, 0, 0, ..., 0, 0, 0],\n",
              "          [0, 0, 0, ..., 0, 0, 0],\n",
              "          [0, 0, 0, ..., 0, 0, 0]],\n",
              "  \n",
              "         [[0, 0, 0, ..., 0, 0, 0],\n",
              "          [0, 0, 0, ..., 0, 0, 0],\n",
              "          [0, 0, 0, ..., 0, 0, 0],\n",
              "          ...,\n",
              "          [0, 0, 0, ..., 0, 0, 0],\n",
              "          [0, 0, 0, ..., 0, 0, 0],\n",
              "          [0, 0, 0, ..., 0, 0, 0]],\n",
              "  \n",
              "         ...,\n",
              "  \n",
              "         [[0, 0, 0, ..., 0, 0, 0],\n",
              "          [0, 0, 0, ..., 0, 0, 0],\n",
              "          [0, 0, 0, ..., 0, 0, 0],\n",
              "          ...,\n",
              "          [0, 0, 0, ..., 0, 0, 0],\n",
              "          [0, 0, 0, ..., 0, 0, 0],\n",
              "          [0, 0, 0, ..., 0, 0, 0]],\n",
              "  \n",
              "         [[0, 0, 0, ..., 0, 0, 0],\n",
              "          [0, 0, 0, ..., 0, 0, 0],\n",
              "          [0, 0, 0, ..., 0, 0, 0],\n",
              "          ...,\n",
              "          [0, 0, 0, ..., 0, 0, 0],\n",
              "          [0, 0, 0, ..., 0, 0, 0],\n",
              "          [0, 0, 0, ..., 0, 0, 0]],\n",
              "  \n",
              "         [[0, 0, 0, ..., 0, 0, 0],\n",
              "          [0, 0, 0, ..., 0, 0, 0],\n",
              "          [0, 0, 0, ..., 0, 0, 0],\n",
              "          ...,\n",
              "          [0, 0, 0, ..., 0, 0, 0],\n",
              "          [0, 0, 0, ..., 0, 0, 0],\n",
              "          [0, 0, 0, ..., 0, 0, 0]]], dtype=uint8),\n",
              "  array([7, 2, 1, ..., 4, 5, 6], dtype=uint8)))"
            ]
          },
          "metadata": {
            "tags": []
          },
          "execution_count": 17
        }
      ]
    },
    {
      "metadata": {
        "id": "kFaze2b8o6tW",
        "colab_type": "code",
        "colab": {
          "base_uri": "https://localhost:8080/",
          "height": 34
        },
        "outputId": "e8648f25-7745-4f15-ba83-744a90e101bf"
      },
      "cell_type": "code",
      "source": [
        "!cat /proc/driver/nvidia/gpus/0000:00:04.0/information"
      ],
      "execution_count": 18,
      "outputs": [
        {
          "output_type": "stream",
          "text": [
            "cat: '/proc/driver/nvidia/gpus/0000:00:04.0/information': No such file or directory\n"
          ],
          "name": "stdout"
        }
      ]
    },
    {
      "metadata": {
        "id": "waSbBLigpT_F",
        "colab_type": "code",
        "colab": {
          "base_uri": "https://localhost:8080/",
          "height": 34
        },
        "outputId": "9a83c615-50c9-470b-e533-e3266c2be768"
      },
      "cell_type": "code",
      "source": [
        "!python -V\n"
      ],
      "execution_count": 19,
      "outputs": [
        {
          "output_type": "stream",
          "text": [
            "Python 3.6.3\n"
          ],
          "name": "stdout"
        }
      ]
    },
    {
      "metadata": {
        "id": "92vmdjD6pdJn",
        "colab_type": "code",
        "colab": {
          "base_uri": "https://localhost:8080/",
          "height": 272
        },
        "outputId": "db40e5e9-7736-4d65-fc5d-15c6e5078333"
      },
      "cell_type": "code",
      "source": [
        "!pip install -q http://download.pytorch.org/whl/cu80/torch-0.3.0.post4-cp36-cp36m-linux_x86_64.whl\n",
        "!pip install torchvision"
      ],
      "execution_count": 4,
      "outputs": [
        {
          "output_type": "stream",
          "text": [
            "Collecting torchvision\n",
            "\u001b[?25l  Downloading https://files.pythonhosted.org/packages/ca/0d/f00b2885711e08bd71242ebe7b96561e6f6d01fdb4b9dcf4d37e2e13c5e1/torchvision-0.2.1-py2.py3-none-any.whl (54kB)\n",
            "\u001b[K    100% |████████████████████████████████| 61kB 3.9MB/s \n",
            "\u001b[?25hRequirement already satisfied: numpy in /usr/local/lib/python3.6/dist-packages (from torchvision) (1.14.6)\n",
            "Requirement already satisfied: torch in /usr/local/lib/python3.6/dist-packages (from torchvision) (0.3.0.post4)\n",
            "Requirement already satisfied: six in /usr/local/lib/python3.6/dist-packages (from torchvision) (1.11.0)\n",
            "Collecting pillow>=4.1.1 (from torchvision)\n",
            "\u001b[?25l  Downloading https://files.pythonhosted.org/packages/62/94/5430ebaa83f91cc7a9f687ff5238e26164a779cca2ef9903232268b0a318/Pillow-5.3.0-cp36-cp36m-manylinux1_x86_64.whl (2.0MB)\n",
            "\u001b[K    100% |████████████████████████████████| 2.0MB 11.6MB/s \n",
            "\u001b[?25hRequirement already satisfied: pyyaml in /usr/local/lib/python3.6/dist-packages (from torch->torchvision) (3.13)\n",
            "Installing collected packages: pillow, torchvision\n",
            "  Found existing installation: Pillow 4.0.0\n",
            "    Uninstalling Pillow-4.0.0:\n",
            "      Successfully uninstalled Pillow-4.0.0\n",
            "Successfully installed pillow-5.3.0 torchvision-0.2.1\n"
          ],
          "name": "stdout"
        }
      ]
    },
    {
      "metadata": {
        "id": "OSRkgcitpi6w",
        "colab_type": "code",
        "colab": {}
      },
      "cell_type": "code",
      "source": [
        "import torch\n",
        "torch.cuda.is_available()"
      ],
      "execution_count": 0,
      "outputs": []
    },
    {
      "metadata": {
        "id": "TGng3xRwqDTH",
        "colab_type": "code",
        "colab": {
          "base_uri": "https://localhost:8080/",
          "height": 34
        },
        "outputId": "44d30dbf-f7b1-464f-a83e-b4946358bca9"
      },
      "cell_type": "code",
      "source": [
        "import tensorflow\n",
        "print(tensorflow.test.is_built_with_cuda())"
      ],
      "execution_count": 1,
      "outputs": [
        {
          "output_type": "stream",
          "text": [
            "True\n"
          ],
          "name": "stdout"
        }
      ]
    },
    {
      "metadata": {
        "id": "icps86AXqyuG",
        "colab_type": "code",
        "colab": {
          "base_uri": "https://localhost:8080/",
          "height": 51
        },
        "outputId": "78f81370-bcc8-44dd-ff90-dd0602f909cc"
      },
      "cell_type": "code",
      "source": [
        "#https://qiita.com/kazetof/items/6a72926b9f8cd44c218e\n",
        "import torch\n",
        "import torchvision\n",
        "import torchvision.transforms as transforms\n",
        "\n",
        "transform = transforms.Compose(\n",
        "    [transforms.ToTensor(),\n",
        "     transforms.Normalize((0.5, 0.5, 0.5), (0.5, 0.5, 0.5))])\n",
        "\n",
        "trainset = torchvision.datasets.CIFAR10(root='./data', train=True,\n",
        "                                        download=True, transform=transform)\n",
        "trainloader = torch.utils.data.DataLoader(trainset, batch_size=4, shuffle=True, num_workers=2)\n",
        "\n",
        "testset = torchvision.datasets.CIFAR10(root='./data', train=False,download=True, transform=transform)\n",
        "testloader = torch.utils.data.DataLoader(testset, batch_size=4,shuffle=False, num_workers=2)\n",
        "\n",
        "classes = ('plane', 'car', 'bird', 'cat',\n",
        "           'deer', 'dog', 'frog', 'horse', 'ship', 'truck')"
      ],
      "execution_count": 7,
      "outputs": [
        {
          "output_type": "stream",
          "text": [
            "Downloading https://www.cs.toronto.edu/~kriz/cifar-10-python.tar.gz to ./data/cifar-10-python.tar.gz\n",
            "Files already downloaded and verified\n"
          ],
          "name": "stdout"
        }
      ]
    },
    {
      "metadata": {
        "id": "N-5LC_jEsLZ8",
        "colab_type": "code",
        "colab": {
          "base_uri": "https://localhost:8080/",
          "height": 138
        },
        "outputId": "f0d1f79b-43cd-4dee-e615-053d6d2eff27"
      },
      "cell_type": "code",
      "source": [
        "#https://qiita.com/kazetof/items/6a72926b9f8cd44c218e\n",
        "import numpy as np\n",
        "import matplotlib.pyplot as plt \n",
        "\n",
        "# 一つの画像だけ1の重みベクトルを作る．\n",
        "weights = np.zeros(10000) # テストデータの数は10000\n",
        "weights[300] = 1. # 300は適当\n",
        "num_samples = 4 # サンプリングする回数\n",
        "\n",
        "# WeightedRandomSamplerを試す．\n",
        "my_sampler = torch.utils.data.sampler.WeightedRandomSampler(weights, num_samples, replacement=True)\n",
        "my_testloader = torch.utils.data.DataLoader(testset, batch_size=4,shuffle=False, num_workers=2, sampler=my_sampler)\n",
        "\n",
        "my_testiter = iter(my_testloader)\n",
        "images, labels = my_testiter.next()\n",
        "\n",
        "# imshow関数は次に説明するけどちょっと先走って使う．\n",
        "def imshow(img):\n",
        "    img = img / 2 + 0.5     # unnormalize\n",
        "    npimg = img.numpy()\n",
        "    plt.imshow(np.transpose(npimg, (1, 2, 0)))\n",
        "\n",
        "imshow(torchvision.utils.make_grid(images))"
      ],
      "execution_count": 10,
      "outputs": [
        {
          "output_type": "display_data",
          "data": {
            "image/png": "[encoded data removed]",
            "text/plain": [
              "<matplotlib.figure.Figure at 0x7f584ea099b0>"
            ]
          },
          "metadata": {
            "tags": []
          }
        }
      ]
    },
    {
      "metadata": {
        "id": "v4MywFpksWTH",
        "colab_type": "code",
        "colab": {
          "base_uri": "https://localhost:8080/",
          "height": 236
        },
        "outputId": "d7b6fa2f-246b-4f9c-9851-a73c55b27528"
      },
      "cell_type": "code",
      "source": [
        "import matplotlib.pyplot as plt\n",
        "import numpy as np\n",
        "%matplotlib inline\n",
        "\n",
        "# functions to show an image\n",
        "def imshow(img):\n",
        "    img = img / 2 + 0.5     # unnormalize\n",
        "    npimg = img.numpy()\n",
        "    plt.imshow(np.transpose(npimg, (1, 2, 0)))\n",
        "\n",
        "# get some random training images\n",
        "dataiter = iter(trainloader)\n",
        "images, labels = dataiter.next()\n",
        "\n",
        "# show images\n",
        "imshow(torchvision.utils.make_grid(images))\n",
        "# print labels\n",
        "print(' '.join('%5s' % classes[labels[j]] for j in range(4)))"
      ],
      "execution_count": 2,
      "outputs": [
        {
          "output_type": "error",
          "ename": "NameError",
          "evalue": "ignored",
          "traceback": [
            "\u001b[0;31m---------------------------------------------------------------------------\u001b[0m",
            "\u001b[0;31mNameError\u001b[0m                                 Traceback (most recent call last)",
            "\u001b[0;32m<ipython-input-2-e55d73cdb4c9>\u001b[0m in \u001b[0;36m<module>\u001b[0;34m()\u001b[0m\n\u001b[1;32m     10\u001b[0m \u001b[0;34m\u001b[0m\u001b[0m\n\u001b[1;32m     11\u001b[0m \u001b[0;31m# get some random training images\u001b[0m\u001b[0;34m\u001b[0m\u001b[0;34m\u001b[0m\u001b[0m\n\u001b[0;32m---> 12\u001b[0;31m \u001b[0mdataiter\u001b[0m \u001b[0;34m=\u001b[0m \u001b[0miter\u001b[0m\u001b[0;34m(\u001b[0m\u001b[0mtrainloader\u001b[0m\u001b[0;34m)\u001b[0m\u001b[0;34m\u001b[0m\u001b[0m\n\u001b[0m\u001b[1;32m     13\u001b[0m \u001b[0mimages\u001b[0m\u001b[0;34m,\u001b[0m \u001b[0mlabels\u001b[0m \u001b[0;34m=\u001b[0m \u001b[0mdataiter\u001b[0m\u001b[0;34m.\u001b[0m\u001b[0mnext\u001b[0m\u001b[0;34m(\u001b[0m\u001b[0;34m)\u001b[0m\u001b[0;34m\u001b[0m\u001b[0m\n\u001b[1;32m     14\u001b[0m \u001b[0;34m\u001b[0m\u001b[0m\n",
            "\u001b[0;31mNameError\u001b[0m: name 'trainloader' is not defined"
          ]
        }
      ]
    },
    {
      "metadata": {
        "id": "waea4hONtXRz",
        "colab_type": "code",
        "colab": {
          "base_uri": "https://localhost:8080/",
          "height": 119
        },
        "outputId": "6d4f1737-4e71-48a2-f654-b40a9892e173"
      },
      "cell_type": "code",
      "source": [
        "#https://colab.research.google.com/notebooks/gpu.ipynb#scrollTo=t9ALbbpmY9rm\n",
        "import tensorflow as tf\n",
        "import timeit\n",
        "\n",
        "# See https://www.tensorflow.org/tutorials/using_gpu#allowing_gpu_memory_growth\n",
        "config = tf.ConfigProto()\n",
        "config.gpu_options.allow_growth = True\n",
        "\n",
        "with tf.device('/cpu:0'):\n",
        "  random_image_cpu = tf.random_normal((100, 100, 100, 3))\n",
        "  net_cpu = tf.layers.conv2d(random_image_cpu, 32, 7)\n",
        "  net_cpu = tf.reduce_sum(net_cpu)\n",
        "\n",
        "with tf.device('/gpu:0'):\n",
        "  random_image_gpu = tf.random_normal((100, 100, 100, 3))\n",
        "  net_gpu = tf.layers.conv2d(random_image_gpu, 32, 7)\n",
        "  net_gpu = tf.reduce_sum(net_gpu)\n",
        "\n",
        "sess = tf.Session(config=config)\n",
        "\n",
        "# Test execution once to detect errors early.\n",
        "try:\n",
        "  sess.run(tf.global_variables_initializer())\n",
        "except tf.errors.InvalidArgumentError:\n",
        "  print(\n",
        "      '\\n\\nThis error most likely means that this notebook is not '\n",
        "      'configured to use a GPU.  Change this in Notebook Settings via the '\n",
        "      'command palette (cmd/ctrl-shift-P) or the Edit menu.\\n\\n')\n",
        "  raise\n",
        "\n",
        "def cpu():\n",
        "  sess.run(net_cpu)\n",
        "  \n",
        "def gpu():\n",
        "  sess.run(net_gpu)\n",
        "  \n",
        "# Runs the op several times.\n",
        "print('Time (s) to convolve 32x7x7x3 filter over random 100x100x100x3 images '\n",
        "      '(batch x height x width x channel). Sum of ten runs.')\n",
        "print('CPU (s):')\n",
        "cpu_time = timeit.timeit('cpu()', number=10, setup=\"from __main__ import cpu\")\n",
        "print(cpu_time)\n",
        "print('GPU (s):')\n",
        "gpu_time = timeit.timeit('gpu()', number=10, setup=\"from __main__ import gpu\")\n",
        "print(gpu_time)\n",
        "print('GPU speedup over CPU: {}x'.format(int(cpu_time/gpu_time)))\n",
        "\n",
        "sess.close()"
      ],
      "execution_count": 11,
      "outputs": [
        {
          "output_type": "stream",
          "text": [
            "Time (s) to convolve 32x7x7x3 filter over random 100x100x100x3 images (batch x height x width x channel). Sum of ten runs.\n",
            "CPU (s):\n",
            "9.486574865999955\n",
            "GPU (s):\n",
            "0.9531437579998965\n",
            "GPU speedup over CPU: 9x\n"
          ],
          "name": "stdout"
        }
      ]
    }
  ]
}